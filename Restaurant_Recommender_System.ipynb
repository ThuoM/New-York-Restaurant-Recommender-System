{
  "nbformat": 4,
  "nbformat_minor": 0,
  "metadata": {
    "colab": {
      "provenance": []
    },
    "kernelspec": {
      "name": "python3",
      "display_name": "Python 3"
    },
    "language_info": {
      "name": "python"
    }
  },
  "cells": [
    {
      "cell_type": "markdown",
      "source": [
        "# Business Understanding"
      ],
      "metadata": {
        "id": "HcBYXiXC3rD2"
      }
    },
    {
      "cell_type": "code",
      "source": [],
      "metadata": {
        "id": "ZaOpfziL3v4j"
      },
      "execution_count": null,
      "outputs": []
    },
    {
      "cell_type": "markdown",
      "source": [
        "# Data Understanding"
      ],
      "metadata": {
        "id": "JLGCxhc03w3H"
      }
    },
    {
      "cell_type": "code",
      "source": [],
      "metadata": {
        "id": "5sHNic0I32Sv"
      },
      "execution_count": null,
      "outputs": []
    },
    {
      "cell_type": "markdown",
      "source": [
        "# Data Preparation"
      ],
      "metadata": {
        "id": "CEtK4LK533cM"
      }
    },
    {
      "cell_type": "code",
      "source": [],
      "metadata": {
        "id": "9tivJbP_39X3"
      },
      "execution_count": null,
      "outputs": []
    },
    {
      "cell_type": "markdown",
      "source": [
        "# Modeling"
      ],
      "metadata": {
        "id": "iiX5NLYP3-fJ"
      }
    },
    {
      "cell_type": "code",
      "source": [],
      "metadata": {
        "id": "OfrgHbo14D8c"
      },
      "execution_count": null,
      "outputs": []
    },
    {
      "cell_type": "markdown",
      "source": [
        "# Evaluation"
      ],
      "metadata": {
        "id": "662KYSrx4EpF"
      }
    },
    {
      "cell_type": "code",
      "source": [],
      "metadata": {
        "id": "mPrSfQzn4LNS"
      },
      "execution_count": null,
      "outputs": []
    },
    {
      "cell_type": "markdown",
      "source": [
        "# Deployment"
      ],
      "metadata": {
        "id": "PmZeGR6a4OIA"
      }
    },
    {
      "cell_type": "code",
      "source": [],
      "metadata": {
        "id": "0G19pVno4S6u"
      },
      "execution_count": null,
      "outputs": []
    }
  ]
}