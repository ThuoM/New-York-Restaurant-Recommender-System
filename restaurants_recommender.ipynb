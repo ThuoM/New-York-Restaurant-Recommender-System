{
  "nbformat": 4,
  "nbformat_minor": 0,
  "metadata": {
    "colab": {
      "provenance": [],
      "authorship_tag": "ABX9TyNN7NjmcNoM0Mqs9FOCzpy6",
      "include_colab_link": true
    },
    "kernelspec": {
      "name": "python3",
      "display_name": "Python 3"
    },
    "language_info": {
      "name": "python"
    }
  },
  "cells": [
    {
      "cell_type": "markdown",
      "metadata": {
        "id": "view-in-github",
        "colab_type": "text"
      },
      "source": [
        "<a href=\"https://colab.research.google.com/github/ThuoM/Restaurant-Recommender-System/blob/pesh/restaurants_recommender.ipynb\" target=\"_parent\"><img src=\"https://colab.research.google.com/assets/colab-badge.svg\" alt=\"Open In Colab\"/></a>"
      ]
    },
    {
      "cell_type": "markdown",
      "source": [
        "## Data Understanding<br>\n",
        "\n",
        "Check the shape, general infornation about the data sets such as data types overall number of columns and rows:\n",
        "\n",
        "Import the necessary data manipulation and visualization libraries i.e. pandas, matloplib"
      ],
      "metadata": {
        "id": "gd7EnsSaKk0c"
      }
    },
    {
      "cell_type": "markdown",
      "source": [
        "## Import the relevant libraries"
      ],
      "metadata": {
        "id": "0ggj7pwdIeuk"
      }
    },
    {
      "cell_type": "code",
      "source": [
        "from ast import increment_lineno\n",
        "#data manipulation\n",
        "import pandas as pd\n",
        "import numpy as np\n",
        "import matplotlib.pyplot as plt\n",
        "import seaborn as sns\n",
        "%matplotlib inline"
      ],
      "metadata": {
        "id": "BjzNULFAIdgs"
      },
      "execution_count": 1,
      "outputs": []
    },
    {
      "cell_type": "code",
      "source": [
        "sns.set_style('darkgrid')"
      ],
      "metadata": {
        "id": "NVDTGnVFJhId"
      },
      "execution_count": 2,
      "outputs": []
    },
    {
      "cell_type": "markdown",
      "source": [
        "## Load the data"
      ],
      "metadata": {
        "id": "wNNKqShGHnbV"
      }
    },
    {
      "cell_type": "code",
      "source": [
        "#create path to data\n",
        "path = 'https://raw.githubusercontent.com/ThuoM/Restaurant-Recommender-System/main/'"
      ],
      "metadata": {
        "id": "VMRPoYuwHpRp"
      },
      "execution_count": 3,
      "outputs": []
    },
    {
      "cell_type": "markdown",
      "source": [
        "<strong>Restaurants Data</strong>"
      ],
      "metadata": {
        "id": "WT7aTByKK5fN"
      }
    },
    {
      "cell_type": "code",
      "source": [
        "#load restaurant data\n",
        "restaurants = pd.read_csv(path+'restaurant_data1.csv')\n",
        "#display the first 5 rows\n",
        "restaurants.head()"
      ],
      "metadata": {
        "colab": {
          "base_uri": "https://localhost:8080/",
          "height": 652
        },
        "id": "ZuizmJdnH4fl",
        "outputId": "12adefa2-1998-47ce-e996-a8cdf30ebbcd"
      },
      "execution_count": 4,
      "outputs": [
        {
          "output_type": "execute_result",
          "data": {
            "text/plain": [
              "            Restaurant ID        Name  Rating Pricing  \\\n",
              "0  nMyot99PkX5iYCdxHoRJqQ      ARIARI       5     NaN   \n",
              "1  HaDG1Ymi8NVapPBfF4Uqiw   Trust Bae       5    $$$$   \n",
              "2  owYYuyLvlsdjLz68c3SSfg  Taboonette       4      $$   \n",
              "3  5F9kZPnAleDYqCeCyvGJPA   Bad Roman       5     NaN   \n",
              "4  6GAB0Rn6eBqCUO9Tx9BNgQ         bōm       5     NaN   \n",
              "\n",
              "                                                 URL   Latitude  Longitude  \\\n",
              "0  https://www.yelp.com/biz/ariari-new-york?adjus...  40.727284 -73.985831   \n",
              "1  https://www.yelp.com/biz/trust-bae-new-york-2?...  40.746331 -73.988287   \n",
              "2  https://www.yelp.com/biz/taboonette-new-york?a...  40.734604 -73.992828   \n",
              "3  https://www.yelp.com/biz/bad-roman-new-york?ad...  40.768494 -73.983072   \n",
              "4  https://www.yelp.com/biz/b%C5%8Dm-new-york-3?a...  40.739660 -73.992470   \n",
              "\n",
              "             Transactions                                   Location  \\\n",
              "0                      []      ['119 1st Ave', 'New York, NY 10003']   \n",
              "1                      []    ['1204 Broadway', 'New York, NY 10001']   \n",
              "2  ['pickup', 'delivery']     ['30 E 13th St', 'New York, NY 10003']   \n",
              "3                      []  ['10 Columbus Cir', 'New York, NY 10019']   \n",
              "4                      []     ['17 W 19th St', 'New York, NY 10011']   \n",
              "\n",
              "          Phone   Display Phone     Distance  \\\n",
              "0  1.646423e+10  (646) 422-7466  2301.808064   \n",
              "1  1.917269e+10  (917) 268-7268  4415.973378   \n",
              "2  1.212511e+10  (212) 510-7881  3260.394715   \n",
              "3  1.212970e+10  (212) 970-2033  6825.276822   \n",
              "4  1.212256e+10  (212) 256-1368  3780.864904   \n",
              "\n",
              "                                             Reviews  Review Count  \\\n",
              "0  [{'text': \"As a Korean person, I can confident...             3   \n",
              "1  [{'text': 'I went to Trust Bae for date night ...             3   \n",
              "2  [{'text': 'I absolutely loved my meal at this ...             3   \n",
              "3  [{'text': 'Immaculate vibes and the coolest ba...             3   \n",
              "4  [{'text': \"Bōm is the new Korean meat-forward ...             2   \n",
              "\n",
              "          Cuisine  Number of Reviews  \\\n",
              "0          Korean                100   \n",
              "1        Japanese                  6   \n",
              "2   Mediterranean                991   \n",
              "3  American (New)                 86   \n",
              "4          Korean                  2   \n",
              "\n",
              "                                           image_url  \n",
              "0  https://s3-media1.fl.yelpcdn.com/bphoto/x5UIZS...  \n",
              "1  https://s3-media2.fl.yelpcdn.com/bphoto/rVw5us...  \n",
              "2  https://s3-media1.fl.yelpcdn.com/bphoto/5HaWSD...  \n",
              "3  https://s3-media3.fl.yelpcdn.com/bphoto/cU7SyN...  \n",
              "4  https://s3-media2.fl.yelpcdn.com/bphoto/OxNjui...  "
            ],
            "text/html": [
              "\n",
              "  <div id=\"df-4c3aa06a-0a16-4d33-a6f5-445f4b9df284\">\n",
              "    <div class=\"colab-df-container\">\n",
              "      <div>\n",
              "<style scoped>\n",
              "    .dataframe tbody tr th:only-of-type {\n",
              "        vertical-align: middle;\n",
              "    }\n",
              "\n",
              "    .dataframe tbody tr th {\n",
              "        vertical-align: top;\n",
              "    }\n",
              "\n",
              "    .dataframe thead th {\n",
              "        text-align: right;\n",
              "    }\n",
              "</style>\n",
              "<table border=\"1\" class=\"dataframe\">\n",
              "  <thead>\n",
              "    <tr style=\"text-align: right;\">\n",
              "      <th></th>\n",
              "      <th>Restaurant ID</th>\n",
              "      <th>Name</th>\n",
              "      <th>Rating</th>\n",
              "      <th>Pricing</th>\n",
              "      <th>URL</th>\n",
              "      <th>Latitude</th>\n",
              "      <th>Longitude</th>\n",
              "      <th>Transactions</th>\n",
              "      <th>Location</th>\n",
              "      <th>Phone</th>\n",
              "      <th>Display Phone</th>\n",
              "      <th>Distance</th>\n",
              "      <th>Reviews</th>\n",
              "      <th>Review Count</th>\n",
              "      <th>Cuisine</th>\n",
              "      <th>Number of Reviews</th>\n",
              "      <th>image_url</th>\n",
              "    </tr>\n",
              "  </thead>\n",
              "  <tbody>\n",
              "    <tr>\n",
              "      <th>0</th>\n",
              "      <td>nMyot99PkX5iYCdxHoRJqQ</td>\n",
              "      <td>ARIARI</td>\n",
              "      <td>5</td>\n",
              "      <td>NaN</td>\n",
              "      <td>https://www.yelp.com/biz/ariari-new-york?adjus...</td>\n",
              "      <td>40.727284</td>\n",
              "      <td>-73.985831</td>\n",
              "      <td>[]</td>\n",
              "      <td>['119 1st Ave', 'New York, NY 10003']</td>\n",
              "      <td>1.646423e+10</td>\n",
              "      <td>(646) 422-7466</td>\n",
              "      <td>2301.808064</td>\n",
              "      <td>[{'text': \"As a Korean person, I can confident...</td>\n",
              "      <td>3</td>\n",
              "      <td>Korean</td>\n",
              "      <td>100</td>\n",
              "      <td>https://s3-media1.fl.yelpcdn.com/bphoto/x5UIZS...</td>\n",
              "    </tr>\n",
              "    <tr>\n",
              "      <th>1</th>\n",
              "      <td>HaDG1Ymi8NVapPBfF4Uqiw</td>\n",
              "      <td>Trust Bae</td>\n",
              "      <td>5</td>\n",
              "      <td>$$$$</td>\n",
              "      <td>https://www.yelp.com/biz/trust-bae-new-york-2?...</td>\n",
              "      <td>40.746331</td>\n",
              "      <td>-73.988287</td>\n",
              "      <td>[]</td>\n",
              "      <td>['1204 Broadway', 'New York, NY 10001']</td>\n",
              "      <td>1.917269e+10</td>\n",
              "      <td>(917) 268-7268</td>\n",
              "      <td>4415.973378</td>\n",
              "      <td>[{'text': 'I went to Trust Bae for date night ...</td>\n",
              "      <td>3</td>\n",
              "      <td>Japanese</td>\n",
              "      <td>6</td>\n",
              "      <td>https://s3-media2.fl.yelpcdn.com/bphoto/rVw5us...</td>\n",
              "    </tr>\n",
              "    <tr>\n",
              "      <th>2</th>\n",
              "      <td>owYYuyLvlsdjLz68c3SSfg</td>\n",
              "      <td>Taboonette</td>\n",
              "      <td>4</td>\n",
              "      <td>$$</td>\n",
              "      <td>https://www.yelp.com/biz/taboonette-new-york?a...</td>\n",
              "      <td>40.734604</td>\n",
              "      <td>-73.992828</td>\n",
              "      <td>['pickup', 'delivery']</td>\n",
              "      <td>['30 E 13th St', 'New York, NY 10003']</td>\n",
              "      <td>1.212511e+10</td>\n",
              "      <td>(212) 510-7881</td>\n",
              "      <td>3260.394715</td>\n",
              "      <td>[{'text': 'I absolutely loved my meal at this ...</td>\n",
              "      <td>3</td>\n",
              "      <td>Mediterranean</td>\n",
              "      <td>991</td>\n",
              "      <td>https://s3-media1.fl.yelpcdn.com/bphoto/5HaWSD...</td>\n",
              "    </tr>\n",
              "    <tr>\n",
              "      <th>3</th>\n",
              "      <td>5F9kZPnAleDYqCeCyvGJPA</td>\n",
              "      <td>Bad Roman</td>\n",
              "      <td>5</td>\n",
              "      <td>NaN</td>\n",
              "      <td>https://www.yelp.com/biz/bad-roman-new-york?ad...</td>\n",
              "      <td>40.768494</td>\n",
              "      <td>-73.983072</td>\n",
              "      <td>[]</td>\n",
              "      <td>['10 Columbus Cir', 'New York, NY 10019']</td>\n",
              "      <td>1.212970e+10</td>\n",
              "      <td>(212) 970-2033</td>\n",
              "      <td>6825.276822</td>\n",
              "      <td>[{'text': 'Immaculate vibes and the coolest ba...</td>\n",
              "      <td>3</td>\n",
              "      <td>American (New)</td>\n",
              "      <td>86</td>\n",
              "      <td>https://s3-media3.fl.yelpcdn.com/bphoto/cU7SyN...</td>\n",
              "    </tr>\n",
              "    <tr>\n",
              "      <th>4</th>\n",
              "      <td>6GAB0Rn6eBqCUO9Tx9BNgQ</td>\n",
              "      <td>bōm</td>\n",
              "      <td>5</td>\n",
              "      <td>NaN</td>\n",
              "      <td>https://www.yelp.com/biz/b%C5%8Dm-new-york-3?a...</td>\n",
              "      <td>40.739660</td>\n",
              "      <td>-73.992470</td>\n",
              "      <td>[]</td>\n",
              "      <td>['17 W 19th St', 'New York, NY 10011']</td>\n",
              "      <td>1.212256e+10</td>\n",
              "      <td>(212) 256-1368</td>\n",
              "      <td>3780.864904</td>\n",
              "      <td>[{'text': \"Bōm is the new Korean meat-forward ...</td>\n",
              "      <td>2</td>\n",
              "      <td>Korean</td>\n",
              "      <td>2</td>\n",
              "      <td>https://s3-media2.fl.yelpcdn.com/bphoto/OxNjui...</td>\n",
              "    </tr>\n",
              "  </tbody>\n",
              "</table>\n",
              "</div>\n",
              "      <button class=\"colab-df-convert\" onclick=\"convertToInteractive('df-4c3aa06a-0a16-4d33-a6f5-445f4b9df284')\"\n",
              "              title=\"Convert this dataframe to an interactive table.\"\n",
              "              style=\"display:none;\">\n",
              "        \n",
              "  <svg xmlns=\"http://www.w3.org/2000/svg\" height=\"24px\"viewBox=\"0 0 24 24\"\n",
              "       width=\"24px\">\n",
              "    <path d=\"M0 0h24v24H0V0z\" fill=\"none\"/>\n",
              "    <path d=\"M18.56 5.44l.94 2.06.94-2.06 2.06-.94-2.06-.94-.94-2.06-.94 2.06-2.06.94zm-11 1L8.5 8.5l.94-2.06 2.06-.94-2.06-.94L8.5 2.5l-.94 2.06-2.06.94zm10 10l.94 2.06.94-2.06 2.06-.94-2.06-.94-.94-2.06-.94 2.06-2.06.94z\"/><path d=\"M17.41 7.96l-1.37-1.37c-.4-.4-.92-.59-1.43-.59-.52 0-1.04.2-1.43.59L10.3 9.45l-7.72 7.72c-.78.78-.78 2.05 0 2.83L4 21.41c.39.39.9.59 1.41.59.51 0 1.02-.2 1.41-.59l7.78-7.78 2.81-2.81c.8-.78.8-2.07 0-2.86zM5.41 20L4 18.59l7.72-7.72 1.47 1.35L5.41 20z\"/>\n",
              "  </svg>\n",
              "      </button>\n",
              "      \n",
              "  <style>\n",
              "    .colab-df-container {\n",
              "      display:flex;\n",
              "      flex-wrap:wrap;\n",
              "      gap: 12px;\n",
              "    }\n",
              "\n",
              "    .colab-df-convert {\n",
              "      background-color: #E8F0FE;\n",
              "      border: none;\n",
              "      border-radius: 50%;\n",
              "      cursor: pointer;\n",
              "      display: none;\n",
              "      fill: #1967D2;\n",
              "      height: 32px;\n",
              "      padding: 0 0 0 0;\n",
              "      width: 32px;\n",
              "    }\n",
              "\n",
              "    .colab-df-convert:hover {\n",
              "      background-color: #E2EBFA;\n",
              "      box-shadow: 0px 1px 2px rgba(60, 64, 67, 0.3), 0px 1px 3px 1px rgba(60, 64, 67, 0.15);\n",
              "      fill: #174EA6;\n",
              "    }\n",
              "\n",
              "    [theme=dark] .colab-df-convert {\n",
              "      background-color: #3B4455;\n",
              "      fill: #D2E3FC;\n",
              "    }\n",
              "\n",
              "    [theme=dark] .colab-df-convert:hover {\n",
              "      background-color: #434B5C;\n",
              "      box-shadow: 0px 1px 3px 1px rgba(0, 0, 0, 0.15);\n",
              "      filter: drop-shadow(0px 1px 2px rgba(0, 0, 0, 0.3));\n",
              "      fill: #FFFFFF;\n",
              "    }\n",
              "  </style>\n",
              "\n",
              "      <script>\n",
              "        const buttonEl =\n",
              "          document.querySelector('#df-4c3aa06a-0a16-4d33-a6f5-445f4b9df284 button.colab-df-convert');\n",
              "        buttonEl.style.display =\n",
              "          google.colab.kernel.accessAllowed ? 'block' : 'none';\n",
              "\n",
              "        async function convertToInteractive(key) {\n",
              "          const element = document.querySelector('#df-4c3aa06a-0a16-4d33-a6f5-445f4b9df284');\n",
              "          const dataTable =\n",
              "            await google.colab.kernel.invokeFunction('convertToInteractive',\n",
              "                                                     [key], {});\n",
              "          if (!dataTable) return;\n",
              "\n",
              "          const docLinkHtml = 'Like what you see? Visit the ' +\n",
              "            '<a target=\"_blank\" href=https://colab.research.google.com/notebooks/data_table.ipynb>data table notebook</a>'\n",
              "            + ' to learn more about interactive tables.';\n",
              "          element.innerHTML = '';\n",
              "          dataTable['output_type'] = 'display_data';\n",
              "          await google.colab.output.renderOutput(dataTable, element);\n",
              "          const docLink = document.createElement('div');\n",
              "          docLink.innerHTML = docLinkHtml;\n",
              "          element.appendChild(docLink);\n",
              "        }\n",
              "      </script>\n",
              "    </div>\n",
              "  </div>\n",
              "  "
            ]
          },
          "metadata": {},
          "execution_count": 4
        }
      ]
    },
    {
      "cell_type": "markdown",
      "source": [
        "<strong>Check the general information of  the restaurants dataset<strong>"
      ],
      "metadata": {
        "id": "DliOw6eELCu6"
      }
    },
    {
      "cell_type": "code",
      "source": [
        "restaurants.info()"
      ],
      "metadata": {
        "colab": {
          "base_uri": "https://localhost:8080/"
        },
        "id": "YGy59MV7LISE",
        "outputId": "b71fee62-4d2d-4854-fe81-84e568b3e876"
      },
      "execution_count": 5,
      "outputs": [
        {
          "output_type": "stream",
          "name": "stdout",
          "text": [
            "<class 'pandas.core.frame.DataFrame'>\n",
            "RangeIndex: 500 entries, 0 to 499\n",
            "Data columns (total 17 columns):\n",
            " #   Column             Non-Null Count  Dtype  \n",
            "---  ------             --------------  -----  \n",
            " 0   Restaurant ID      500 non-null    object \n",
            " 1   Name               500 non-null    object \n",
            " 2   Rating             500 non-null    int64  \n",
            " 3   Pricing            327 non-null    object \n",
            " 4   URL                500 non-null    object \n",
            " 5   Latitude           500 non-null    float64\n",
            " 6   Longitude          500 non-null    float64\n",
            " 7   Transactions       500 non-null    object \n",
            " 8   Location           500 non-null    object \n",
            " 9   Phone              443 non-null    float64\n",
            " 10  Display Phone      443 non-null    object \n",
            " 11  Distance           500 non-null    float64\n",
            " 12  Reviews            500 non-null    object \n",
            " 13  Review Count       500 non-null    int64  \n",
            " 14  Cuisine            500 non-null    object \n",
            " 15  Number of Reviews  500 non-null    int64  \n",
            " 16  image_url          500 non-null    object \n",
            "dtypes: float64(4), int64(3), object(10)\n",
            "memory usage: 66.5+ KB\n"
          ]
        }
      ]
    },
    {
      "cell_type": "markdown",
      "source": [
        "We note that the data has 17 columns  and 500 rows.<br>\n",
        "We have missing values in the phone,display phone and priceing.<br>\n",
        "\n",
        "We will look further on ways to impute<br>"
      ],
      "metadata": {
        "id": "Coja69WtLRLA"
      }
    },
    {
      "cell_type": "markdown",
      "source": [
        "<strong>Display the data types of the dataset</strong>"
      ],
      "metadata": {
        "id": "wNefR_ALMSAa"
      }
    },
    {
      "cell_type": "code",
      "source": [
        "restaurants.dtypes.value_counts().to_frame()"
      ],
      "metadata": {
        "colab": {
          "base_uri": "https://localhost:8080/",
          "height": 143
        },
        "id": "DRrtiMqLMdiV",
        "outputId": "96ded93c-bb8b-4a6a-867e-97a443332c02"
      },
      "execution_count": 6,
      "outputs": [
        {
          "output_type": "execute_result",
          "data": {
            "text/plain": [
              "          0\n",
              "object   10\n",
              "float64   4\n",
              "int64     3"
            ],
            "text/html": [
              "\n",
              "  <div id=\"df-1ab60751-4b5f-4ec4-bb90-6128a59a4c85\">\n",
              "    <div class=\"colab-df-container\">\n",
              "      <div>\n",
              "<style scoped>\n",
              "    .dataframe tbody tr th:only-of-type {\n",
              "        vertical-align: middle;\n",
              "    }\n",
              "\n",
              "    .dataframe tbody tr th {\n",
              "        vertical-align: top;\n",
              "    }\n",
              "\n",
              "    .dataframe thead th {\n",
              "        text-align: right;\n",
              "    }\n",
              "</style>\n",
              "<table border=\"1\" class=\"dataframe\">\n",
              "  <thead>\n",
              "    <tr style=\"text-align: right;\">\n",
              "      <th></th>\n",
              "      <th>0</th>\n",
              "    </tr>\n",
              "  </thead>\n",
              "  <tbody>\n",
              "    <tr>\n",
              "      <th>object</th>\n",
              "      <td>10</td>\n",
              "    </tr>\n",
              "    <tr>\n",
              "      <th>float64</th>\n",
              "      <td>4</td>\n",
              "    </tr>\n",
              "    <tr>\n",
              "      <th>int64</th>\n",
              "      <td>3</td>\n",
              "    </tr>\n",
              "  </tbody>\n",
              "</table>\n",
              "</div>\n",
              "      <button class=\"colab-df-convert\" onclick=\"convertToInteractive('df-1ab60751-4b5f-4ec4-bb90-6128a59a4c85')\"\n",
              "              title=\"Convert this dataframe to an interactive table.\"\n",
              "              style=\"display:none;\">\n",
              "        \n",
              "  <svg xmlns=\"http://www.w3.org/2000/svg\" height=\"24px\"viewBox=\"0 0 24 24\"\n",
              "       width=\"24px\">\n",
              "    <path d=\"M0 0h24v24H0V0z\" fill=\"none\"/>\n",
              "    <path d=\"M18.56 5.44l.94 2.06.94-2.06 2.06-.94-2.06-.94-.94-2.06-.94 2.06-2.06.94zm-11 1L8.5 8.5l.94-2.06 2.06-.94-2.06-.94L8.5 2.5l-.94 2.06-2.06.94zm10 10l.94 2.06.94-2.06 2.06-.94-2.06-.94-.94-2.06-.94 2.06-2.06.94z\"/><path d=\"M17.41 7.96l-1.37-1.37c-.4-.4-.92-.59-1.43-.59-.52 0-1.04.2-1.43.59L10.3 9.45l-7.72 7.72c-.78.78-.78 2.05 0 2.83L4 21.41c.39.39.9.59 1.41.59.51 0 1.02-.2 1.41-.59l7.78-7.78 2.81-2.81c.8-.78.8-2.07 0-2.86zM5.41 20L4 18.59l7.72-7.72 1.47 1.35L5.41 20z\"/>\n",
              "  </svg>\n",
              "      </button>\n",
              "      \n",
              "  <style>\n",
              "    .colab-df-container {\n",
              "      display:flex;\n",
              "      flex-wrap:wrap;\n",
              "      gap: 12px;\n",
              "    }\n",
              "\n",
              "    .colab-df-convert {\n",
              "      background-color: #E8F0FE;\n",
              "      border: none;\n",
              "      border-radius: 50%;\n",
              "      cursor: pointer;\n",
              "      display: none;\n",
              "      fill: #1967D2;\n",
              "      height: 32px;\n",
              "      padding: 0 0 0 0;\n",
              "      width: 32px;\n",
              "    }\n",
              "\n",
              "    .colab-df-convert:hover {\n",
              "      background-color: #E2EBFA;\n",
              "      box-shadow: 0px 1px 2px rgba(60, 64, 67, 0.3), 0px 1px 3px 1px rgba(60, 64, 67, 0.15);\n",
              "      fill: #174EA6;\n",
              "    }\n",
              "\n",
              "    [theme=dark] .colab-df-convert {\n",
              "      background-color: #3B4455;\n",
              "      fill: #D2E3FC;\n",
              "    }\n",
              "\n",
              "    [theme=dark] .colab-df-convert:hover {\n",
              "      background-color: #434B5C;\n",
              "      box-shadow: 0px 1px 3px 1px rgba(0, 0, 0, 0.15);\n",
              "      filter: drop-shadow(0px 1px 2px rgba(0, 0, 0, 0.3));\n",
              "      fill: #FFFFFF;\n",
              "    }\n",
              "  </style>\n",
              "\n",
              "      <script>\n",
              "        const buttonEl =\n",
              "          document.querySelector('#df-1ab60751-4b5f-4ec4-bb90-6128a59a4c85 button.colab-df-convert');\n",
              "        buttonEl.style.display =\n",
              "          google.colab.kernel.accessAllowed ? 'block' : 'none';\n",
              "\n",
              "        async function convertToInteractive(key) {\n",
              "          const element = document.querySelector('#df-1ab60751-4b5f-4ec4-bb90-6128a59a4c85');\n",
              "          const dataTable =\n",
              "            await google.colab.kernel.invokeFunction('convertToInteractive',\n",
              "                                                     [key], {});\n",
              "          if (!dataTable) return;\n",
              "\n",
              "          const docLinkHtml = 'Like what you see? Visit the ' +\n",
              "            '<a target=\"_blank\" href=https://colab.research.google.com/notebooks/data_table.ipynb>data table notebook</a>'\n",
              "            + ' to learn more about interactive tables.';\n",
              "          element.innerHTML = '';\n",
              "          dataTable['output_type'] = 'display_data';\n",
              "          await google.colab.output.renderOutput(dataTable, element);\n",
              "          const docLink = document.createElement('div');\n",
              "          docLink.innerHTML = docLinkHtml;\n",
              "          element.appendChild(docLink);\n",
              "        }\n",
              "      </script>\n",
              "    </div>\n",
              "  </div>\n",
              "  "
            ]
          },
          "metadata": {},
          "execution_count": 6
        }
      ]
    },
    {
      "cell_type": "markdown",
      "source": [
        "Most columns are of type of object, only seven are numerical"
      ],
      "metadata": {
        "id": "SOHrmwipM3PO"
      }
    },
    {
      "cell_type": "markdown",
      "source": [
        "<strong>Check the statistical summary of the dataset</strong>"
      ],
      "metadata": {
        "id": "WD0E0WZtL9-q"
      }
    },
    {
      "cell_type": "code",
      "source": [
        "restaurants.describe().transpose()"
      ],
      "metadata": {
        "colab": {
          "base_uri": "https://localhost:8080/",
          "height": 269
        },
        "id": "X8L0YwKZL80R",
        "outputId": "f5e6c095-0f8f-4201-b71d-66c251887a70"
      },
      "execution_count": 7,
      "outputs": [
        {
          "output_type": "execute_result",
          "data": {
            "text/plain": [
              "                   count          mean           std           min  \\\n",
              "Rating             500.0  4.112000e+00  1.053411e+00  1.000000e+00   \n",
              "Latitude           500.0  4.072298e+01  2.270689e-02  4.065794e+01   \n",
              "Longitude          500.0 -7.398328e+01  1.940457e-02 -7.401788e+01   \n",
              "Phone              443.0  1.519129e+10  2.692814e+09  1.212201e+10   \n",
              "Distance           500.0  3.196599e+03  1.418040e+03  8.154086e+02   \n",
              "Review Count       500.0  2.988000e+00  1.410524e-01  1.000000e+00   \n",
              "Number of Reviews  500.0  5.088320e+02  8.755115e+02  1.000000e+00   \n",
              "\n",
              "                            25%           50%           75%           max  \n",
              "Rating             4.000000e+00  4.000000e+00  5.000000e+00  5.000000e+00  \n",
              "Latitude           4.071250e+01  4.072230e+01  4.073931e+01  4.076983e+01  \n",
              "Longitude         -7.399717e+01 -7.398797e+01 -7.397083e+01 -7.390008e+01  \n",
              "Phone              1.212759e+10  1.646476e+10  1.718506e+10  1.973799e+10  \n",
              "Distance           2.088268e+03  2.896165e+03  4.168978e+03  7.943011e+03  \n",
              "Review Count       3.000000e+00  3.000000e+00  3.000000e+00  3.000000e+00  \n",
              "Number of Reviews  5.250000e+01  1.780000e+02  5.875000e+02  6.750000e+03  "
            ],
            "text/html": [
              "\n",
              "  <div id=\"df-7aaabab2-0d8b-4f47-8bfe-0a9a7aee6408\">\n",
              "    <div class=\"colab-df-container\">\n",
              "      <div>\n",
              "<style scoped>\n",
              "    .dataframe tbody tr th:only-of-type {\n",
              "        vertical-align: middle;\n",
              "    }\n",
              "\n",
              "    .dataframe tbody tr th {\n",
              "        vertical-align: top;\n",
              "    }\n",
              "\n",
              "    .dataframe thead th {\n",
              "        text-align: right;\n",
              "    }\n",
              "</style>\n",
              "<table border=\"1\" class=\"dataframe\">\n",
              "  <thead>\n",
              "    <tr style=\"text-align: right;\">\n",
              "      <th></th>\n",
              "      <th>count</th>\n",
              "      <th>mean</th>\n",
              "      <th>std</th>\n",
              "      <th>min</th>\n",
              "      <th>25%</th>\n",
              "      <th>50%</th>\n",
              "      <th>75%</th>\n",
              "      <th>max</th>\n",
              "    </tr>\n",
              "  </thead>\n",
              "  <tbody>\n",
              "    <tr>\n",
              "      <th>Rating</th>\n",
              "      <td>500.0</td>\n",
              "      <td>4.112000e+00</td>\n",
              "      <td>1.053411e+00</td>\n",
              "      <td>1.000000e+00</td>\n",
              "      <td>4.000000e+00</td>\n",
              "      <td>4.000000e+00</td>\n",
              "      <td>5.000000e+00</td>\n",
              "      <td>5.000000e+00</td>\n",
              "    </tr>\n",
              "    <tr>\n",
              "      <th>Latitude</th>\n",
              "      <td>500.0</td>\n",
              "      <td>4.072298e+01</td>\n",
              "      <td>2.270689e-02</td>\n",
              "      <td>4.065794e+01</td>\n",
              "      <td>4.071250e+01</td>\n",
              "      <td>4.072230e+01</td>\n",
              "      <td>4.073931e+01</td>\n",
              "      <td>4.076983e+01</td>\n",
              "    </tr>\n",
              "    <tr>\n",
              "      <th>Longitude</th>\n",
              "      <td>500.0</td>\n",
              "      <td>-7.398328e+01</td>\n",
              "      <td>1.940457e-02</td>\n",
              "      <td>-7.401788e+01</td>\n",
              "      <td>-7.399717e+01</td>\n",
              "      <td>-7.398797e+01</td>\n",
              "      <td>-7.397083e+01</td>\n",
              "      <td>-7.390008e+01</td>\n",
              "    </tr>\n",
              "    <tr>\n",
              "      <th>Phone</th>\n",
              "      <td>443.0</td>\n",
              "      <td>1.519129e+10</td>\n",
              "      <td>2.692814e+09</td>\n",
              "      <td>1.212201e+10</td>\n",
              "      <td>1.212759e+10</td>\n",
              "      <td>1.646476e+10</td>\n",
              "      <td>1.718506e+10</td>\n",
              "      <td>1.973799e+10</td>\n",
              "    </tr>\n",
              "    <tr>\n",
              "      <th>Distance</th>\n",
              "      <td>500.0</td>\n",
              "      <td>3.196599e+03</td>\n",
              "      <td>1.418040e+03</td>\n",
              "      <td>8.154086e+02</td>\n",
              "      <td>2.088268e+03</td>\n",
              "      <td>2.896165e+03</td>\n",
              "      <td>4.168978e+03</td>\n",
              "      <td>7.943011e+03</td>\n",
              "    </tr>\n",
              "    <tr>\n",
              "      <th>Review Count</th>\n",
              "      <td>500.0</td>\n",
              "      <td>2.988000e+00</td>\n",
              "      <td>1.410524e-01</td>\n",
              "      <td>1.000000e+00</td>\n",
              "      <td>3.000000e+00</td>\n",
              "      <td>3.000000e+00</td>\n",
              "      <td>3.000000e+00</td>\n",
              "      <td>3.000000e+00</td>\n",
              "    </tr>\n",
              "    <tr>\n",
              "      <th>Number of Reviews</th>\n",
              "      <td>500.0</td>\n",
              "      <td>5.088320e+02</td>\n",
              "      <td>8.755115e+02</td>\n",
              "      <td>1.000000e+00</td>\n",
              "      <td>5.250000e+01</td>\n",
              "      <td>1.780000e+02</td>\n",
              "      <td>5.875000e+02</td>\n",
              "      <td>6.750000e+03</td>\n",
              "    </tr>\n",
              "  </tbody>\n",
              "</table>\n",
              "</div>\n",
              "      <button class=\"colab-df-convert\" onclick=\"convertToInteractive('df-7aaabab2-0d8b-4f47-8bfe-0a9a7aee6408')\"\n",
              "              title=\"Convert this dataframe to an interactive table.\"\n",
              "              style=\"display:none;\">\n",
              "        \n",
              "  <svg xmlns=\"http://www.w3.org/2000/svg\" height=\"24px\"viewBox=\"0 0 24 24\"\n",
              "       width=\"24px\">\n",
              "    <path d=\"M0 0h24v24H0V0z\" fill=\"none\"/>\n",
              "    <path d=\"M18.56 5.44l.94 2.06.94-2.06 2.06-.94-2.06-.94-.94-2.06-.94 2.06-2.06.94zm-11 1L8.5 8.5l.94-2.06 2.06-.94-2.06-.94L8.5 2.5l-.94 2.06-2.06.94zm10 10l.94 2.06.94-2.06 2.06-.94-2.06-.94-.94-2.06-.94 2.06-2.06.94z\"/><path d=\"M17.41 7.96l-1.37-1.37c-.4-.4-.92-.59-1.43-.59-.52 0-1.04.2-1.43.59L10.3 9.45l-7.72 7.72c-.78.78-.78 2.05 0 2.83L4 21.41c.39.39.9.59 1.41.59.51 0 1.02-.2 1.41-.59l7.78-7.78 2.81-2.81c.8-.78.8-2.07 0-2.86zM5.41 20L4 18.59l7.72-7.72 1.47 1.35L5.41 20z\"/>\n",
              "  </svg>\n",
              "      </button>\n",
              "      \n",
              "  <style>\n",
              "    .colab-df-container {\n",
              "      display:flex;\n",
              "      flex-wrap:wrap;\n",
              "      gap: 12px;\n",
              "    }\n",
              "\n",
              "    .colab-df-convert {\n",
              "      background-color: #E8F0FE;\n",
              "      border: none;\n",
              "      border-radius: 50%;\n",
              "      cursor: pointer;\n",
              "      display: none;\n",
              "      fill: #1967D2;\n",
              "      height: 32px;\n",
              "      padding: 0 0 0 0;\n",
              "      width: 32px;\n",
              "    }\n",
              "\n",
              "    .colab-df-convert:hover {\n",
              "      background-color: #E2EBFA;\n",
              "      box-shadow: 0px 1px 2px rgba(60, 64, 67, 0.3), 0px 1px 3px 1px rgba(60, 64, 67, 0.15);\n",
              "      fill: #174EA6;\n",
              "    }\n",
              "\n",
              "    [theme=dark] .colab-df-convert {\n",
              "      background-color: #3B4455;\n",
              "      fill: #D2E3FC;\n",
              "    }\n",
              "\n",
              "    [theme=dark] .colab-df-convert:hover {\n",
              "      background-color: #434B5C;\n",
              "      box-shadow: 0px 1px 3px 1px rgba(0, 0, 0, 0.15);\n",
              "      filter: drop-shadow(0px 1px 2px rgba(0, 0, 0, 0.3));\n",
              "      fill: #FFFFFF;\n",
              "    }\n",
              "  </style>\n",
              "\n",
              "      <script>\n",
              "        const buttonEl =\n",
              "          document.querySelector('#df-7aaabab2-0d8b-4f47-8bfe-0a9a7aee6408 button.colab-df-convert');\n",
              "        buttonEl.style.display =\n",
              "          google.colab.kernel.accessAllowed ? 'block' : 'none';\n",
              "\n",
              "        async function convertToInteractive(key) {\n",
              "          const element = document.querySelector('#df-7aaabab2-0d8b-4f47-8bfe-0a9a7aee6408');\n",
              "          const dataTable =\n",
              "            await google.colab.kernel.invokeFunction('convertToInteractive',\n",
              "                                                     [key], {});\n",
              "          if (!dataTable) return;\n",
              "\n",
              "          const docLinkHtml = 'Like what you see? Visit the ' +\n",
              "            '<a target=\"_blank\" href=https://colab.research.google.com/notebooks/data_table.ipynb>data table notebook</a>'\n",
              "            + ' to learn more about interactive tables.';\n",
              "          element.innerHTML = '';\n",
              "          dataTable['output_type'] = 'display_data';\n",
              "          await google.colab.output.renderOutput(dataTable, element);\n",
              "          const docLink = document.createElement('div');\n",
              "          docLink.innerHTML = docLinkHtml;\n",
              "          element.appendChild(docLink);\n",
              "        }\n",
              "      </script>\n",
              "    </div>\n",
              "  </div>\n",
              "  "
            ]
          },
          "metadata": {},
          "execution_count": 7
        }
      ]
    },
    {
      "cell_type": "markdown",
      "source": [
        "There may be outliers present as the maximum value is much larger than the mean and the standard deviation is high. However, this would require further investigation and analysis to determine whether these values are truly outliers."
      ],
      "metadata": {
        "id": "9MSSmsT0Npox"
      }
    },
    {
      "cell_type": "markdown",
      "source": [
        "<strong>Investigate presence of outliers</strong>"
      ],
      "metadata": {
        "id": "0O3EKEKBO3rQ"
      }
    },
    {
      "cell_type": "code",
      "source": [
        "# create a grouped box plot with seaborn\n",
        "fig, ax = plt.subplots(figsize=(12,8))\n",
        "sns.boxplot(data=restaurants[['Rating', 'Distance', 'Review Count', 'Number of Reviews']], ax=ax)\n",
        "ax.set_title('Box Plot of Multiple Variables')\n",
        "ax.set_xlabel('Variable')\n",
        "ax.set_ylabel('Value')\n",
        "plt.show()\n"
      ],
      "metadata": {
        "colab": {
          "base_uri": "https://localhost:8080/",
          "height": 718
        },
        "id": "auza96EAL5Qn",
        "outputId": "7f772292-336a-4f0a-91c8-5df99eea22e6"
      },
      "execution_count": 8,
      "outputs": [
        {
          "output_type": "display_data",
          "data": {
            "text/plain": [
              "<Figure size 1200x800 with 1 Axes>"
            ],
            "image/png": "[encoded data removed]"
          },
          "metadata": {}
        }
      ]
    },
    {
      "cell_type": "markdown",
      "source": [
        "Outliers are noted on Number of reviews columns, we need to investigate whether its related to the number of customers the restaurant serves or not."
      ],
      "metadata": {
        "id": "Rhzsa8j5QXYz"
      }
    },
    {
      "cell_type": "markdown",
      "source": [
        "<strong>Reviews Data</strong>"
      ],
      "metadata": {
        "id": "fhsu9QvhRUVi"
      }
    },
    {
      "cell_type": "code",
      "source": [
        "reviews = pd.read_csv(path+'final_revs.csv')\n",
        "# assign columns to the dataset\n",
        "reviews.columns = ['User_Name','User_id','Location','Date_of_review','User_Rating','Comment','URL']\n",
        "#display the first 5 rows\n",
        "reviews.head()"
      ],
      "metadata": {
        "colab": {
          "base_uri": "https://localhost:8080/",
          "height": 337
        },
        "id": "fnnsSQ75H83j",
        "outputId": "4add2817-4177-4286-fde8-3d7b7edef27c"
      },
      "execution_count": 9,
      "outputs": [
        {
          "output_type": "execute_result",
          "data": {
            "text/plain": [
              "    User_Name                                      User_id          Location  \\\n",
              "0    Elisa H.  /user_details?userid=ExhcUTTcj_MBhZdFQT9KYg      Brooklyn, NY   \n",
              "1  Morlene C.  /user_details?userid=VLTBPUrbNRR-f84h-altQw      Brooklyn, NY   \n",
              "2    Ruwan J.  /user_details?userid=xBVo8v0mw64nk6K-pYgI6A      New York, NY   \n",
              "3     Mike C.  /user_details?userid=37cpUoM8hlkSQfReIEBd-Q  Forest Hills, NY   \n",
              "4     Brad M.  /user_details?userid=IMD57wrCtAPbvBSAlI2nkA     Princeton, NJ   \n",
              "\n",
              "  Date_of_review  User_Rating  \\\n",
              "0       1/6/2023          4.0   \n",
              "1     12/15/2022          3.0   \n",
              "2      3/23/2023          4.0   \n",
              "3     12/14/2022          5.0   \n",
              "4      1/10/2023          5.0   \n",
              "\n",
              "                                             Comment  \\\n",
              "0                                         No comment   \n",
              "1                                         No comment   \n",
              "2  Urbanspace  Union Square is a newish addition-...   \n",
              "3                                         No comment   \n",
              "4  Great venue. The various vendors have amazing ...   \n",
              "\n",
              "                                                 URL  \n",
              "0  https://www.yelp.com/biz/urbanspace-union-squa...  \n",
              "1  https://www.yelp.com/biz/urbanspace-union-squa...  \n",
              "2  https://www.yelp.com/biz/urbanspace-union-squa...  \n",
              "3  https://www.yelp.com/biz/urbanspace-union-squa...  \n",
              "4  https://www.yelp.com/biz/urbanspace-union-squa...  "
            ],
            "text/html": [
              "\n",
              "  <div id=\"df-9972343e-a8c9-4652-8c68-47dd7be808da\">\n",
              "    <div class=\"colab-df-container\">\n",
              "      <div>\n",
              "<style scoped>\n",
              "    .dataframe tbody tr th:only-of-type {\n",
              "        vertical-align: middle;\n",
              "    }\n",
              "\n",
              "    .dataframe tbody tr th {\n",
              "        vertical-align: top;\n",
              "    }\n",
              "\n",
              "    .dataframe thead th {\n",
              "        text-align: right;\n",
              "    }\n",
              "</style>\n",
              "<table border=\"1\" class=\"dataframe\">\n",
              "  <thead>\n",
              "    <tr style=\"text-align: right;\">\n",
              "      <th></th>\n",
              "      <th>User_Name</th>\n",
              "      <th>User_id</th>\n",
              "      <th>Location</th>\n",
              "      <th>Date_of_review</th>\n",
              "      <th>User_Rating</th>\n",
              "      <th>Comment</th>\n",
              "      <th>URL</th>\n",
              "    </tr>\n",
              "  </thead>\n",
              "  <tbody>\n",
              "    <tr>\n",
              "      <th>0</th>\n",
              "      <td>Elisa H.</td>\n",
              "      <td>/user_details?userid=ExhcUTTcj_MBhZdFQT9KYg</td>\n",
              "      <td>Brooklyn, NY</td>\n",
              "      <td>1/6/2023</td>\n",
              "      <td>4.0</td>\n",
              "      <td>No comment</td>\n",
              "      <td>https://www.yelp.com/biz/urbanspace-union-squa...</td>\n",
              "    </tr>\n",
              "    <tr>\n",
              "      <th>1</th>\n",
              "      <td>Morlene C.</td>\n",
              "      <td>/user_details?userid=VLTBPUrbNRR-f84h-altQw</td>\n",
              "      <td>Brooklyn, NY</td>\n",
              "      <td>12/15/2022</td>\n",
              "      <td>3.0</td>\n",
              "      <td>No comment</td>\n",
              "      <td>https://www.yelp.com/biz/urbanspace-union-squa...</td>\n",
              "    </tr>\n",
              "    <tr>\n",
              "      <th>2</th>\n",
              "      <td>Ruwan J.</td>\n",
              "      <td>/user_details?userid=xBVo8v0mw64nk6K-pYgI6A</td>\n",
              "      <td>New York, NY</td>\n",
              "      <td>3/23/2023</td>\n",
              "      <td>4.0</td>\n",
              "      <td>Urbanspace  Union Square is a newish addition-...</td>\n",
              "      <td>https://www.yelp.com/biz/urbanspace-union-squa...</td>\n",
              "    </tr>\n",
              "    <tr>\n",
              "      <th>3</th>\n",
              "      <td>Mike C.</td>\n",
              "      <td>/user_details?userid=37cpUoM8hlkSQfReIEBd-Q</td>\n",
              "      <td>Forest Hills, NY</td>\n",
              "      <td>12/14/2022</td>\n",
              "      <td>5.0</td>\n",
              "      <td>No comment</td>\n",
              "      <td>https://www.yelp.com/biz/urbanspace-union-squa...</td>\n",
              "    </tr>\n",
              "    <tr>\n",
              "      <th>4</th>\n",
              "      <td>Brad M.</td>\n",
              "      <td>/user_details?userid=IMD57wrCtAPbvBSAlI2nkA</td>\n",
              "      <td>Princeton, NJ</td>\n",
              "      <td>1/10/2023</td>\n",
              "      <td>5.0</td>\n",
              "      <td>Great venue. The various vendors have amazing ...</td>\n",
              "      <td>https://www.yelp.com/biz/urbanspace-union-squa...</td>\n",
              "    </tr>\n",
              "  </tbody>\n",
              "</table>\n",
              "</div>\n",
              "      <button class=\"colab-df-convert\" onclick=\"convertToInteractive('df-9972343e-a8c9-4652-8c68-47dd7be808da')\"\n",
              "              title=\"Convert this dataframe to an interactive table.\"\n",
              "              style=\"display:none;\">\n",
              "        \n",
              "  <svg xmlns=\"http://www.w3.org/2000/svg\" height=\"24px\"viewBox=\"0 0 24 24\"\n",
              "       width=\"24px\">\n",
              "    <path d=\"M0 0h24v24H0V0z\" fill=\"none\"/>\n",
              "    <path d=\"M18.56 5.44l.94 2.06.94-2.06 2.06-.94-2.06-.94-.94-2.06-.94 2.06-2.06.94zm-11 1L8.5 8.5l.94-2.06 2.06-.94-2.06-.94L8.5 2.5l-.94 2.06-2.06.94zm10 10l.94 2.06.94-2.06 2.06-.94-2.06-.94-.94-2.06-.94 2.06-2.06.94z\"/><path d=\"M17.41 7.96l-1.37-1.37c-.4-.4-.92-.59-1.43-.59-.52 0-1.04.2-1.43.59L10.3 9.45l-7.72 7.72c-.78.78-.78 2.05 0 2.83L4 21.41c.39.39.9.59 1.41.59.51 0 1.02-.2 1.41-.59l7.78-7.78 2.81-2.81c.8-.78.8-2.07 0-2.86zM5.41 20L4 18.59l7.72-7.72 1.47 1.35L5.41 20z\"/>\n",
              "  </svg>\n",
              "      </button>\n",
              "      \n",
              "  <style>\n",
              "    .colab-df-container {\n",
              "      display:flex;\n",
              "      flex-wrap:wrap;\n",
              "      gap: 12px;\n",
              "    }\n",
              "\n",
              "    .colab-df-convert {\n",
              "      background-color: #E8F0FE;\n",
              "      border: none;\n",
              "      border-radius: 50%;\n",
              "      cursor: pointer;\n",
              "      display: none;\n",
              "      fill: #1967D2;\n",
              "      height: 32px;\n",
              "      padding: 0 0 0 0;\n",
              "      width: 32px;\n",
              "    }\n",
              "\n",
              "    .colab-df-convert:hover {\n",
              "      background-color: #E2EBFA;\n",
              "      box-shadow: 0px 1px 2px rgba(60, 64, 67, 0.3), 0px 1px 3px 1px rgba(60, 64, 67, 0.15);\n",
              "      fill: #174EA6;\n",
              "    }\n",
              "\n",
              "    [theme=dark] .colab-df-convert {\n",
              "      background-color: #3B4455;\n",
              "      fill: #D2E3FC;\n",
              "    }\n",
              "\n",
              "    [theme=dark] .colab-df-convert:hover {\n",
              "      background-color: #434B5C;\n",
              "      box-shadow: 0px 1px 3px 1px rgba(0, 0, 0, 0.15);\n",
              "      filter: drop-shadow(0px 1px 2px rgba(0, 0, 0, 0.3));\n",
              "      fill: #FFFFFF;\n",
              "    }\n",
              "  </style>\n",
              "\n",
              "      <script>\n",
              "        const buttonEl =\n",
              "          document.querySelector('#df-9972343e-a8c9-4652-8c68-47dd7be808da button.colab-df-convert');\n",
              "        buttonEl.style.display =\n",
              "          google.colab.kernel.accessAllowed ? 'block' : 'none';\n",
              "\n",
              "        async function convertToInteractive(key) {\n",
              "          const element = document.querySelector('#df-9972343e-a8c9-4652-8c68-47dd7be808da');\n",
              "          const dataTable =\n",
              "            await google.colab.kernel.invokeFunction('convertToInteractive',\n",
              "                                                     [key], {});\n",
              "          if (!dataTable) return;\n",
              "\n",
              "          const docLinkHtml = 'Like what you see? Visit the ' +\n",
              "            '<a target=\"_blank\" href=https://colab.research.google.com/notebooks/data_table.ipynb>data table notebook</a>'\n",
              "            + ' to learn more about interactive tables.';\n",
              "          element.innerHTML = '';\n",
              "          dataTable['output_type'] = 'display_data';\n",
              "          await google.colab.output.renderOutput(dataTable, element);\n",
              "          const docLink = document.createElement('div');\n",
              "          docLink.innerHTML = docLinkHtml;\n",
              "          element.appendChild(docLink);\n",
              "        }\n",
              "      </script>\n",
              "    </div>\n",
              "  </div>\n",
              "  "
            ]
          },
          "metadata": {},
          "execution_count": 9
        }
      ]
    },
    {
      "cell_type": "markdown",
      "source": [
        "<strong>Check the general information of  the reviews dataset<strong>"
      ],
      "metadata": {
        "id": "C8bd6vahRyGy"
      }
    },
    {
      "cell_type": "code",
      "source": [
        "reviews.info()"
      ],
      "metadata": {
        "colab": {
          "base_uri": "https://localhost:8080/"
        },
        "id": "6iaX5Q98R1vW",
        "outputId": "adc14b60-ba87-4c6c-f58f-a4c69560c8e6"
      },
      "execution_count": 10,
      "outputs": [
        {
          "output_type": "stream",
          "name": "stdout",
          "text": [
            "<class 'pandas.core.frame.DataFrame'>\n",
            "RangeIndex: 188714 entries, 0 to 188713\n",
            "Data columns (total 7 columns):\n",
            " #   Column          Non-Null Count   Dtype  \n",
            "---  ------          --------------   -----  \n",
            " 0   User_Name       188714 non-null  object \n",
            " 1   User_id         188714 non-null  object \n",
            " 2   Location        188714 non-null  object \n",
            " 3   Date_of_review  188714 non-null  object \n",
            " 4   User_Rating     188714 non-null  float64\n",
            " 5   Comment         188714 non-null  object \n",
            " 6   URL             188714 non-null  object \n",
            "dtypes: float64(1), object(6)\n",
            "memory usage: 10.1+ MB\n"
          ]
        }
      ]
    },
    {
      "cell_type": "markdown",
      "source": [
        "we do not have missing values in our dataset.<br>\n",
        "We have 188,714 rows and 7 columns<br>\n",
        "we have 6 object datatypes with 1 float"
      ],
      "metadata": {
        "id": "nJ76uB4dTs_l"
      }
    },
    {
      "cell_type": "markdown",
      "source": [
        "<strong>Display statistical summary</strong>"
      ],
      "metadata": {
        "id": "VvEDlmVDUNaX"
      }
    },
    {
      "cell_type": "code",
      "source": [
        "reviews.describe().transpose()"
      ],
      "metadata": {
        "colab": {
          "base_uri": "https://localhost:8080/",
          "height": 81
        },
        "id": "MHu5wqBQR339",
        "outputId": "b3b7d566-2710-4a0f-ab90-a0591ed2dd06"
      },
      "execution_count": 11,
      "outputs": [
        {
          "output_type": "execute_result",
          "data": {
            "text/plain": [
              "                count      mean       std  min  25%  50%  75%  max\n",
              "User_Rating  188714.0  4.175753  1.132427  1.0  4.0  5.0  5.0  5.0"
            ],
            "text/html": [
              "\n",
              "  <div id=\"df-8f8a8212-d727-4f96-8ed1-0865d8ba99eb\">\n",
              "    <div class=\"colab-df-container\">\n",
              "      <div>\n",
              "<style scoped>\n",
              "    .dataframe tbody tr th:only-of-type {\n",
              "        vertical-align: middle;\n",
              "    }\n",
              "\n",
              "    .dataframe tbody tr th {\n",
              "        vertical-align: top;\n",
              "    }\n",
              "\n",
              "    .dataframe thead th {\n",
              "        text-align: right;\n",
              "    }\n",
              "</style>\n",
              "<table border=\"1\" class=\"dataframe\">\n",
              "  <thead>\n",
              "    <tr style=\"text-align: right;\">\n",
              "      <th></th>\n",
              "      <th>count</th>\n",
              "      <th>mean</th>\n",
              "      <th>std</th>\n",
              "      <th>min</th>\n",
              "      <th>25%</th>\n",
              "      <th>50%</th>\n",
              "      <th>75%</th>\n",
              "      <th>max</th>\n",
              "    </tr>\n",
              "  </thead>\n",
              "  <tbody>\n",
              "    <tr>\n",
              "      <th>User_Rating</th>\n",
              "      <td>188714.0</td>\n",
              "      <td>4.175753</td>\n",
              "      <td>1.132427</td>\n",
              "      <td>1.0</td>\n",
              "      <td>4.0</td>\n",
              "      <td>5.0</td>\n",
              "      <td>5.0</td>\n",
              "      <td>5.0</td>\n",
              "    </tr>\n",
              "  </tbody>\n",
              "</table>\n",
              "</div>\n",
              "      <button class=\"colab-df-convert\" onclick=\"convertToInteractive('df-8f8a8212-d727-4f96-8ed1-0865d8ba99eb')\"\n",
              "              title=\"Convert this dataframe to an interactive table.\"\n",
              "              style=\"display:none;\">\n",
              "        \n",
              "  <svg xmlns=\"http://www.w3.org/2000/svg\" height=\"24px\"viewBox=\"0 0 24 24\"\n",
              "       width=\"24px\">\n",
              "    <path d=\"M0 0h24v24H0V0z\" fill=\"none\"/>\n",
              "    <path d=\"M18.56 5.44l.94 2.06.94-2.06 2.06-.94-2.06-.94-.94-2.06-.94 2.06-2.06.94zm-11 1L8.5 8.5l.94-2.06 2.06-.94-2.06-.94L8.5 2.5l-.94 2.06-2.06.94zm10 10l.94 2.06.94-2.06 2.06-.94-2.06-.94-.94-2.06-.94 2.06-2.06.94z\"/><path d=\"M17.41 7.96l-1.37-1.37c-.4-.4-.92-.59-1.43-.59-.52 0-1.04.2-1.43.59L10.3 9.45l-7.72 7.72c-.78.78-.78 2.05 0 2.83L4 21.41c.39.39.9.59 1.41.59.51 0 1.02-.2 1.41-.59l7.78-7.78 2.81-2.81c.8-.78.8-2.07 0-2.86zM5.41 20L4 18.59l7.72-7.72 1.47 1.35L5.41 20z\"/>\n",
              "  </svg>\n",
              "      </button>\n",
              "      \n",
              "  <style>\n",
              "    .colab-df-container {\n",
              "      display:flex;\n",
              "      flex-wrap:wrap;\n",
              "      gap: 12px;\n",
              "    }\n",
              "\n",
              "    .colab-df-convert {\n",
              "      background-color: #E8F0FE;\n",
              "      border: none;\n",
              "      border-radius: 50%;\n",
              "      cursor: pointer;\n",
              "      display: none;\n",
              "      fill: #1967D2;\n",
              "      height: 32px;\n",
              "      padding: 0 0 0 0;\n",
              "      width: 32px;\n",
              "    }\n",
              "\n",
              "    .colab-df-convert:hover {\n",
              "      background-color: #E2EBFA;\n",
              "      box-shadow: 0px 1px 2px rgba(60, 64, 67, 0.3), 0px 1px 3px 1px rgba(60, 64, 67, 0.15);\n",
              "      fill: #174EA6;\n",
              "    }\n",
              "\n",
              "    [theme=dark] .colab-df-convert {\n",
              "      background-color: #3B4455;\n",
              "      fill: #D2E3FC;\n",
              "    }\n",
              "\n",
              "    [theme=dark] .colab-df-convert:hover {\n",
              "      background-color: #434B5C;\n",
              "      box-shadow: 0px 1px 3px 1px rgba(0, 0, 0, 0.15);\n",
              "      filter: drop-shadow(0px 1px 2px rgba(0, 0, 0, 0.3));\n",
              "      fill: #FFFFFF;\n",
              "    }\n",
              "  </style>\n",
              "\n",
              "      <script>\n",
              "        const buttonEl =\n",
              "          document.querySelector('#df-8f8a8212-d727-4f96-8ed1-0865d8ba99eb button.colab-df-convert');\n",
              "        buttonEl.style.display =\n",
              "          google.colab.kernel.accessAllowed ? 'block' : 'none';\n",
              "\n",
              "        async function convertToInteractive(key) {\n",
              "          const element = document.querySelector('#df-8f8a8212-d727-4f96-8ed1-0865d8ba99eb');\n",
              "          const dataTable =\n",
              "            await google.colab.kernel.invokeFunction('convertToInteractive',\n",
              "                                                     [key], {});\n",
              "          if (!dataTable) return;\n",
              "\n",
              "          const docLinkHtml = 'Like what you see? Visit the ' +\n",
              "            '<a target=\"_blank\" href=https://colab.research.google.com/notebooks/data_table.ipynb>data table notebook</a>'\n",
              "            + ' to learn more about interactive tables.';\n",
              "          element.innerHTML = '';\n",
              "          dataTable['output_type'] = 'display_data';\n",
              "          await google.colab.output.renderOutput(dataTable, element);\n",
              "          const docLink = document.createElement('div');\n",
              "          docLink.innerHTML = docLinkHtml;\n",
              "          element.appendChild(docLink);\n",
              "        }\n",
              "      </script>\n",
              "    </div>\n",
              "  </div>\n",
              "  "
            ]
          },
          "metadata": {},
          "execution_count": 11
        }
      ]
    },
    {
      "cell_type": "markdown",
      "source": [
        "The User_Rating variable has a mean of 4.175753 and a standard deviation of 1.132427, indicating that the ratings in the sample vary somewhat from the mean. Most of the ratings (75%) are 5.0 or lower, with a median of 5.0. The minimum rating in the sample is 1.0, while the maximum rating is 5.0."
      ],
      "metadata": {
        "id": "D9YiAN9tVAcV"
      }
    },
    {
      "cell_type": "markdown",
      "source": [
        "<strong>Inspect the presnce of outliers</strong>"
      ],
      "metadata": {
        "id": "omWC_Ux8Vei_"
      }
    },
    {
      "cell_type": "code",
      "source": [
        "#check for outliers in user_rating columnu sing the interquatile range calculation\n",
        "Q1, Q3 = np.percentile(reviews['User_Rating'], [25,75]) \n",
        "IQR = Q3-Q1 \n",
        "low_lim = Q1 - 1.5 * IQR\n",
        "up_lim = Q3 + 1.5 * IQR\n",
        "print('low_limit is', low_lim)\n",
        "print('up_limit is', up_lim)"
      ],
      "metadata": {
        "colab": {
          "base_uri": "https://localhost:8080/"
        },
        "id": "mixUGA-kVFZl",
        "outputId": "32c543ba-fcea-425f-89d3-391a7ee2c5bb"
      },
      "execution_count": 12,
      "outputs": [
        {
          "output_type": "stream",
          "name": "stdout",
          "text": [
            "low_limit is 2.5\n",
            "up_limit is 6.5\n"
          ]
        }
      ]
    },
    {
      "cell_type": "code",
      "source": [
        "#boxplot for User_rating column\n",
        "plt.figure(figsize=(12,8))\n",
        "sns.boxplot(x = reviews['User_Rating']);"
      ],
      "metadata": {
        "colab": {
          "base_uri": "https://localhost:8080/",
          "height": 696
        },
        "id": "UUskMGX6WIgT",
        "outputId": "ec0c69e3-9571-4132-d540-37a848c1f158"
      },
      "execution_count": 13,
      "outputs": [
        {
          "output_type": "display_data",
          "data": {
            "text/plain": [
              "<Figure size 1200x800 with 1 Axes>"
            ],
            "image/png": "[encoded data removed]"
          },
          "metadata": {}
        }
      ]
    },
    {
      "cell_type": "markdown",
      "source": [
        "There is minimal outliers on the lower side of the interquatile range fence"
      ],
      "metadata": {
        "id": "2eWMm9LrWoNN"
      }
    },
    {
      "cell_type": "markdown",
      "source": [
        "## Data Preparation<br>\n",
        "check and handle missing values in the two datasets:\n",
        "* restuarants\n",
        "* reviews\n",
        "\n"
      ],
      "metadata": {
        "id": "fgVY0TqsXOfX"
      }
    },
    {
      "cell_type": "markdown",
      "source": [
        "<strong>restuarants dataset</strong>\n"
      ],
      "metadata": {
        "id": "a2FADHHYXrMT"
      }
    },
    {
      "cell_type": "markdown",
      "source": [],
      "metadata": {
        "id": "I16n6SjuYCXT"
      }
    },
    {
      "cell_type": "code",
      "source": [
        "restaurants.isna().sum()"
      ],
      "metadata": {
        "colab": {
          "base_uri": "https://localhost:8080/"
        },
        "id": "M-X-8m5wWUxR",
        "outputId": "18d1889a-677a-47c5-b1c6-d6655128ae5a"
      },
      "execution_count": 14,
      "outputs": [
        {
          "output_type": "execute_result",
          "data": {
            "text/plain": [
              "Restaurant ID          0\n",
              "Name                   0\n",
              "Rating                 0\n",
              "Pricing              173\n",
              "URL                    0\n",
              "Latitude               0\n",
              "Longitude              0\n",
              "Transactions           0\n",
              "Location               0\n",
              "Phone                 57\n",
              "Display Phone         57\n",
              "Distance               0\n",
              "Reviews                0\n",
              "Review Count           0\n",
              "Cuisine                0\n",
              "Number of Reviews      0\n",
              "image_url              0\n",
              "dtype: int64"
            ]
          },
          "metadata": {},
          "execution_count": 14
        }
      ]
    },
    {
      "cell_type": "markdown",
      "source": [
        "We have 173 missing values in the dataset for the pricing column. Lets do a value_counts on the pricing column to see the unique values"
      ],
      "metadata": {
        "id": "OCaqbCAQYD8C"
      }
    },
    {
      "cell_type": "code",
      "source": [
        "restaurants['Pricing'].value_counts().to_frame()"
      ],
      "metadata": {
        "colab": {
          "base_uri": "https://localhost:8080/",
          "height": 175
        },
        "id": "dWmIvzuXX55v",
        "outputId": "bb928de3-a008-4d2a-f23c-8593f9b86b3b"
      },
      "execution_count": 15,
      "outputs": [
        {
          "output_type": "execute_result",
          "data": {
            "text/plain": [
              "      Pricing\n",
              "$$        222\n",
              "$$$        62\n",
              "$          23\n",
              "$$$$       20"
            ],
            "text/html": [
              "\n",
              "  <div id=\"df-74e7b75e-db4e-465c-a83a-051031fadea1\">\n",
              "    <div class=\"colab-df-container\">\n",
              "      <div>\n",
              "<style scoped>\n",
              "    .dataframe tbody tr th:only-of-type {\n",
              "        vertical-align: middle;\n",
              "    }\n",
              "\n",
              "    .dataframe tbody tr th {\n",
              "        vertical-align: top;\n",
              "    }\n",
              "\n",
              "    .dataframe thead th {\n",
              "        text-align: right;\n",
              "    }\n",
              "</style>\n",
              "<table border=\"1\" class=\"dataframe\">\n",
              "  <thead>\n",
              "    <tr style=\"text-align: right;\">\n",
              "      <th></th>\n",
              "      <th>Pricing</th>\n",
              "    </tr>\n",
              "  </thead>\n",
              "  <tbody>\n",
              "    <tr>\n",
              "      <th>$$</th>\n",
              "      <td>222</td>\n",
              "    </tr>\n",
              "    <tr>\n",
              "      <th>$$$</th>\n",
              "      <td>62</td>\n",
              "    </tr>\n",
              "    <tr>\n",
              "      <th>$</th>\n",
              "      <td>23</td>\n",
              "    </tr>\n",
              "    <tr>\n",
              "      <th>$$$$</th>\n",
              "      <td>20</td>\n",
              "    </tr>\n",
              "  </tbody>\n",
              "</table>\n",
              "</div>\n",
              "      <button class=\"colab-df-convert\" onclick=\"convertToInteractive('df-74e7b75e-db4e-465c-a83a-051031fadea1')\"\n",
              "              title=\"Convert this dataframe to an interactive table.\"\n",
              "              style=\"display:none;\">\n",
              "        \n",
              "  <svg xmlns=\"http://www.w3.org/2000/svg\" height=\"24px\"viewBox=\"0 0 24 24\"\n",
              "       width=\"24px\">\n",
              "    <path d=\"M0 0h24v24H0V0z\" fill=\"none\"/>\n",
              "    <path d=\"M18.56 5.44l.94 2.06.94-2.06 2.06-.94-2.06-.94-.94-2.06-.94 2.06-2.06.94zm-11 1L8.5 8.5l.94-2.06 2.06-.94-2.06-.94L8.5 2.5l-.94 2.06-2.06.94zm10 10l.94 2.06.94-2.06 2.06-.94-2.06-.94-.94-2.06-.94 2.06-2.06.94z\"/><path d=\"M17.41 7.96l-1.37-1.37c-.4-.4-.92-.59-1.43-.59-.52 0-1.04.2-1.43.59L10.3 9.45l-7.72 7.72c-.78.78-.78 2.05 0 2.83L4 21.41c.39.39.9.59 1.41.59.51 0 1.02-.2 1.41-.59l7.78-7.78 2.81-2.81c.8-.78.8-2.07 0-2.86zM5.41 20L4 18.59l7.72-7.72 1.47 1.35L5.41 20z\"/>\n",
              "  </svg>\n",
              "      </button>\n",
              "      \n",
              "  <style>\n",
              "    .colab-df-container {\n",
              "      display:flex;\n",
              "      flex-wrap:wrap;\n",
              "      gap: 12px;\n",
              "    }\n",
              "\n",
              "    .colab-df-convert {\n",
              "      background-color: #E8F0FE;\n",
              "      border: none;\n",
              "      border-radius: 50%;\n",
              "      cursor: pointer;\n",
              "      display: none;\n",
              "      fill: #1967D2;\n",
              "      height: 32px;\n",
              "      padding: 0 0 0 0;\n",
              "      width: 32px;\n",
              "    }\n",
              "\n",
              "    .colab-df-convert:hover {\n",
              "      background-color: #E2EBFA;\n",
              "      box-shadow: 0px 1px 2px rgba(60, 64, 67, 0.3), 0px 1px 3px 1px rgba(60, 64, 67, 0.15);\n",
              "      fill: #174EA6;\n",
              "    }\n",
              "\n",
              "    [theme=dark] .colab-df-convert {\n",
              "      background-color: #3B4455;\n",
              "      fill: #D2E3FC;\n",
              "    }\n",
              "\n",
              "    [theme=dark] .colab-df-convert:hover {\n",
              "      background-color: #434B5C;\n",
              "      box-shadow: 0px 1px 3px 1px rgba(0, 0, 0, 0.15);\n",
              "      filter: drop-shadow(0px 1px 2px rgba(0, 0, 0, 0.3));\n",
              "      fill: #FFFFFF;\n",
              "    }\n",
              "  </style>\n",
              "\n",
              "      <script>\n",
              "        const buttonEl =\n",
              "          document.querySelector('#df-74e7b75e-db4e-465c-a83a-051031fadea1 button.colab-df-convert');\n",
              "        buttonEl.style.display =\n",
              "          google.colab.kernel.accessAllowed ? 'block' : 'none';\n",
              "\n",
              "        async function convertToInteractive(key) {\n",
              "          const element = document.querySelector('#df-74e7b75e-db4e-465c-a83a-051031fadea1');\n",
              "          const dataTable =\n",
              "            await google.colab.kernel.invokeFunction('convertToInteractive',\n",
              "                                                     [key], {});\n",
              "          if (!dataTable) return;\n",
              "\n",
              "          const docLinkHtml = 'Like what you see? Visit the ' +\n",
              "            '<a target=\"_blank\" href=https://colab.research.google.com/notebooks/data_table.ipynb>data table notebook</a>'\n",
              "            + ' to learn more about interactive tables.';\n",
              "          element.innerHTML = '';\n",
              "          dataTable['output_type'] = 'display_data';\n",
              "          await google.colab.output.renderOutput(dataTable, element);\n",
              "          const docLink = document.createElement('div');\n",
              "          docLink.innerHTML = docLinkHtml;\n",
              "          element.appendChild(docLink);\n",
              "        }\n",
              "      </script>\n",
              "    </div>\n",
              "  </div>\n",
              "  "
            ]
          },
          "metadata": {},
          "execution_count": 15
        }
      ]
    },
    {
      "cell_type": "markdown",
      "source": [
        "We note that most restaurants have a $$ pricing. We just go ahead and replace the missing values with the mode(since its the datatype is of type string). This is because price is of products within a certain locality seem to be more or less similar most of the time."
      ],
      "metadata": {
        "id": "gwh3jwWBY9rs"
      }
    },
    {
      "cell_type": "code",
      "source": [
        "# Calculate the mode of the column\n",
        "mode = restaurants['Pricing'].mode()[0]\n",
        "\n",
        "# Replace missing values with mode\n",
        "restaurants['Pricing'].fillna(mode, inplace=True)"
      ],
      "metadata": {
        "id": "f7y7ai7xYxVx"
      },
      "execution_count": 16,
      "outputs": []
    },
    {
      "cell_type": "code",
      "source": [
        "#confirm that there are no missing values in the pricing column \n",
        "restaurants.isna().sum()"
      ],
      "metadata": {
        "colab": {
          "base_uri": "https://localhost:8080/"
        },
        "id": "ZjnjkB3JaNux",
        "outputId": "37a0a531-57e3-480c-fe10-419abb85cbd0"
      },
      "execution_count": 17,
      "outputs": [
        {
          "output_type": "execute_result",
          "data": {
            "text/plain": [
              "Restaurant ID         0\n",
              "Name                  0\n",
              "Rating                0\n",
              "Pricing               0\n",
              "URL                   0\n",
              "Latitude              0\n",
              "Longitude             0\n",
              "Transactions          0\n",
              "Location              0\n",
              "Phone                57\n",
              "Display Phone        57\n",
              "Distance              0\n",
              "Reviews               0\n",
              "Review Count          0\n",
              "Cuisine               0\n",
              "Number of Reviews     0\n",
              "image_url             0\n",
              "dtype: int64"
            ]
          },
          "metadata": {},
          "execution_count": 17
        }
      ]
    },
    {
      "cell_type": "markdown",
      "source": [
        "Since we cannot guess a phone number, lets replace the missing values with \"Missing\"\n"
      ],
      "metadata": {
        "id": "euoB4ChkayLf"
      }
    },
    {
      "cell_type": "code",
      "source": [
        "# Replace missing values with in Display phone with \"missing\"\n",
        "restaurants['Display Phone'].fillna('missing', inplace=True)"
      ],
      "metadata": {
        "id": "GOW1mUncacOi"
      },
      "execution_count": 18,
      "outputs": []
    },
    {
      "cell_type": "code",
      "source": [
        "#confirm that there are no missing values in the display phone column \n",
        "restaurants.isna().sum()"
      ],
      "metadata": {
        "colab": {
          "base_uri": "https://localhost:8080/"
        },
        "id": "q-HvsYpebNoV",
        "outputId": "70ef8efa-97bd-47c5-8597-12d42f2f14a5"
      },
      "execution_count": 19,
      "outputs": [
        {
          "output_type": "execute_result",
          "data": {
            "text/plain": [
              "Restaurant ID         0\n",
              "Name                  0\n",
              "Rating                0\n",
              "Pricing               0\n",
              "URL                   0\n",
              "Latitude              0\n",
              "Longitude             0\n",
              "Transactions          0\n",
              "Location              0\n",
              "Phone                57\n",
              "Display Phone         0\n",
              "Distance              0\n",
              "Reviews               0\n",
              "Review Count          0\n",
              "Cuisine               0\n",
              "Number of Reviews     0\n",
              "image_url             0\n",
              "dtype: int64"
            ]
          },
          "metadata": {},
          "execution_count": 19
        }
      ]
    },
    {
      "cell_type": "code",
      "source": [
        "# Replace missing values with \"missing\"\n",
        "restaurants['Phone'].fillna('missing', inplace=True)"
      ],
      "metadata": {
        "id": "rcE5rs5DbXa6"
      },
      "execution_count": 20,
      "outputs": []
    },
    {
      "cell_type": "code",
      "source": [
        "#confirm that there are no missing values in the display phone column \n",
        "restaurants.isna().sum()"
      ],
      "metadata": {
        "colab": {
          "base_uri": "https://localhost:8080/"
        },
        "id": "QF58ltvJc4eT",
        "outputId": "755afe57-2841-463c-bc4a-53f7469ebaf5"
      },
      "execution_count": 21,
      "outputs": [
        {
          "output_type": "execute_result",
          "data": {
            "text/plain": [
              "Restaurant ID        0\n",
              "Name                 0\n",
              "Rating               0\n",
              "Pricing              0\n",
              "URL                  0\n",
              "Latitude             0\n",
              "Longitude            0\n",
              "Transactions         0\n",
              "Location             0\n",
              "Phone                0\n",
              "Display Phone        0\n",
              "Distance             0\n",
              "Reviews              0\n",
              "Review Count         0\n",
              "Cuisine              0\n",
              "Number of Reviews    0\n",
              "image_url            0\n",
              "dtype: int64"
            ]
          },
          "metadata": {},
          "execution_count": 21
        }
      ]
    },
    {
      "cell_type": "markdown",
      "source": [
        "<strong>reviews dataset</strong>"
      ],
      "metadata": {
        "id": "-6TqAoFndMRv"
      }
    },
    {
      "cell_type": "code",
      "source": [
        "#check for missing values\n",
        "reviews.isna().sum()"
      ],
      "metadata": {
        "colab": {
          "base_uri": "https://localhost:8080/"
        },
        "id": "w7vjLVbQdDo-",
        "outputId": "b16c9a86-0524-4198-c94b-6a11c37ac1e6"
      },
      "execution_count": 22,
      "outputs": [
        {
          "output_type": "execute_result",
          "data": {
            "text/plain": [
              "User_Name         0\n",
              "User_id           0\n",
              "Location          0\n",
              "Date_of_review    0\n",
              "User_Rating       0\n",
              "Comment           0\n",
              "URL               0\n",
              "dtype: int64"
            ]
          },
          "metadata": {},
          "execution_count": 22
        }
      ]
    },
    {
      "cell_type": "markdown",
      "source": [
        "There are no missing values in the  reviews dataset"
      ],
      "metadata": {
        "id": "utX2W9n2dhdv"
      }
    },
    {
      "cell_type": "markdown",
      "source": [
        "### Dataset Merging\n",
        "\n",
        "To get the restauarants' personalized reviews and ratings, we have to merge our reviews and the restaurant datasets"
      ],
      "metadata": {
        "id": "lXVM3XundslW"
      }
    },
    {
      "cell_type": "code",
      "source": [
        "#create a new dataset of merged datasets\n",
        "restaurant_reviews = restaurants.merge(reviews, on='URL')"
      ],
      "metadata": {
        "id": "-dVVkFQzdZWV"
      },
      "execution_count": 23,
      "outputs": []
    },
    {
      "cell_type": "code",
      "source": [
        "#display first 5 restaurants \n",
        "restaurant_reviews.head()"
      ],
      "metadata": {
        "colab": {
          "base_uri": "https://localhost:8080/",
          "height": 629
        },
        "id": "HBxqio-deevo",
        "outputId": "db4b3ecd-a88a-47dd-8524-efbf20fb6469"
      },
      "execution_count": 24,
      "outputs": [
        {
          "output_type": "execute_result",
          "data": {
            "text/plain": [
              "            Restaurant ID    Name  Rating Pricing  \\\n",
              "0  nMyot99PkX5iYCdxHoRJqQ  ARIARI       5      $$   \n",
              "1  nMyot99PkX5iYCdxHoRJqQ  ARIARI       5      $$   \n",
              "2  nMyot99PkX5iYCdxHoRJqQ  ARIARI       5      $$   \n",
              "3  nMyot99PkX5iYCdxHoRJqQ  ARIARI       5      $$   \n",
              "4  nMyot99PkX5iYCdxHoRJqQ  ARIARI       5      $$   \n",
              "\n",
              "                                                 URL   Latitude  Longitude  \\\n",
              "0  https://www.yelp.com/biz/ariari-new-york?adjus...  40.727284 -73.985831   \n",
              "1  https://www.yelp.com/biz/ariari-new-york?adjus...  40.727284 -73.985831   \n",
              "2  https://www.yelp.com/biz/ariari-new-york?adjus...  40.727284 -73.985831   \n",
              "3  https://www.yelp.com/biz/ariari-new-york?adjus...  40.727284 -73.985831   \n",
              "4  https://www.yelp.com/biz/ariari-new-york?adjus...  40.727284 -73.985831   \n",
              "\n",
              "  Transactions                             Location_x          Phone  ...  \\\n",
              "0           []  ['119 1st Ave', 'New York, NY 10003']  16464227466.0  ...   \n",
              "1           []  ['119 1st Ave', 'New York, NY 10003']  16464227466.0  ...   \n",
              "2           []  ['119 1st Ave', 'New York, NY 10003']  16464227466.0  ...   \n",
              "3           []  ['119 1st Ave', 'New York, NY 10003']  16464227466.0  ...   \n",
              "4           []  ['119 1st Ave', 'New York, NY 10003']  16464227466.0  ...   \n",
              "\n",
              "  Review Count  Cuisine Number of Reviews  \\\n",
              "0            3   Korean               100   \n",
              "1            3   Korean               100   \n",
              "2            3   Korean               100   \n",
              "3            3   Korean               100   \n",
              "4            3   Korean               100   \n",
              "\n",
              "                                           image_url  User_Name  \\\n",
              "0  https://s3-media1.fl.yelpcdn.com/bphoto/x5UIZS...  esther h.   \n",
              "1  https://s3-media1.fl.yelpcdn.com/bphoto/x5UIZS...     Amy J.   \n",
              "2  https://s3-media1.fl.yelpcdn.com/bphoto/x5UIZS...   Najin K.   \n",
              "3  https://s3-media1.fl.yelpcdn.com/bphoto/x5UIZS...   David A.   \n",
              "4  https://s3-media1.fl.yelpcdn.com/bphoto/x5UIZS...      Ye Z.   \n",
              "\n",
              "                                       User_id                  Location_y  \\\n",
              "0  /user_details?userid=b5qg4CHJPwBjQ8d4m5w6oQ  Midtown East, New York, NY   \n",
              "1  /user_details?userid=pZmMNfQ85FvLiKJ-UgWY0A                      NJ, NJ   \n",
              "2  /user_details?userid=vg6xN-nDv2A8P3UskAK_WA               Manhattan, NY   \n",
              "3  /user_details?userid=xAXjMh_tWvyPS1a957Dk9w                New York, NY   \n",
              "4  /user_details?userid=kWGFN5NRAfuDqvkbWuGo8A                New York, NY   \n",
              "\n",
              "  Date_of_review User_Rating  \\\n",
              "0       3/9/2023         5.0   \n",
              "1      2/22/2023         5.0   \n",
              "2       4/1/2023         5.0   \n",
              "3       4/8/2023         4.0   \n",
              "4       4/4/2023         4.0   \n",
              "\n",
              "                                             Comment  \n",
              "0                                         No comment  \n",
              "1  THIS PLACE IS AMAZING. Great service, kind sta...  \n",
              "2                                         No comment  \n",
              "3                                         No comment  \n",
              "4                                         No comment  \n",
              "\n",
              "[5 rows x 23 columns]"
            ],
            "text/html": [
              "\n",
              "  <div id=\"df-39a36f16-5423-480c-ab27-6bca503d1cde\">\n",
              "    <div class=\"colab-df-container\">\n",
              "      <div>\n",
              "<style scoped>\n",
              "    .dataframe tbody tr th:only-of-type {\n",
              "        vertical-align: middle;\n",
              "    }\n",
              "\n",
              "    .dataframe tbody tr th {\n",
              "        vertical-align: top;\n",
              "    }\n",
              "\n",
              "    .dataframe thead th {\n",
              "        text-align: right;\n",
              "    }\n",
              "</style>\n",
              "<table border=\"1\" class=\"dataframe\">\n",
              "  <thead>\n",
              "    <tr style=\"text-align: right;\">\n",
              "      <th></th>\n",
              "      <th>Restaurant ID</th>\n",
              "      <th>Name</th>\n",
              "      <th>Rating</th>\n",
              "      <th>Pricing</th>\n",
              "      <th>URL</th>\n",
              "      <th>Latitude</th>\n",
              "      <th>Longitude</th>\n",
              "      <th>Transactions</th>\n",
              "      <th>Location_x</th>\n",
              "      <th>Phone</th>\n",
              "      <th>...</th>\n",
              "      <th>Review Count</th>\n",
              "      <th>Cuisine</th>\n",
              "      <th>Number of Reviews</th>\n",
              "      <th>image_url</th>\n",
              "      <th>User_Name</th>\n",
              "      <th>User_id</th>\n",
              "      <th>Location_y</th>\n",
              "      <th>Date_of_review</th>\n",
              "      <th>User_Rating</th>\n",
              "      <th>Comment</th>\n",
              "    </tr>\n",
              "  </thead>\n",
              "  <tbody>\n",
              "    <tr>\n",
              "      <th>0</th>\n",
              "      <td>nMyot99PkX5iYCdxHoRJqQ</td>\n",
              "      <td>ARIARI</td>\n",
              "      <td>5</td>\n",
              "      <td>$$</td>\n",
              "      <td>https://www.yelp.com/biz/ariari-new-york?adjus...</td>\n",
              "      <td>40.727284</td>\n",
              "      <td>-73.985831</td>\n",
              "      <td>[]</td>\n",
              "      <td>['119 1st Ave', 'New York, NY 10003']</td>\n",
              "      <td>16464227466.0</td>\n",
              "      <td>...</td>\n",
              "      <td>3</td>\n",
              "      <td>Korean</td>\n",
              "      <td>100</td>\n",
              "      <td>https://s3-media1.fl.yelpcdn.com/bphoto/x5UIZS...</td>\n",
              "      <td>esther h.</td>\n",
              "      <td>/user_details?userid=b5qg4CHJPwBjQ8d4m5w6oQ</td>\n",
              "      <td>Midtown East, New York, NY</td>\n",
              "      <td>3/9/2023</td>\n",
              "      <td>5.0</td>\n",
              "      <td>No comment</td>\n",
              "    </tr>\n",
              "    <tr>\n",
              "      <th>1</th>\n",
              "      <td>nMyot99PkX5iYCdxHoRJqQ</td>\n",
              "      <td>ARIARI</td>\n",
              "      <td>5</td>\n",
              "      <td>$$</td>\n",
              "      <td>https://www.yelp.com/biz/ariari-new-york?adjus...</td>\n",
              "      <td>40.727284</td>\n",
              "      <td>-73.985831</td>\n",
              "      <td>[]</td>\n",
              "      <td>['119 1st Ave', 'New York, NY 10003']</td>\n",
              "      <td>16464227466.0</td>\n",
              "      <td>...</td>\n",
              "      <td>3</td>\n",
              "      <td>Korean</td>\n",
              "      <td>100</td>\n",
              "      <td>https://s3-media1.fl.yelpcdn.com/bphoto/x5UIZS...</td>\n",
              "      <td>Amy J.</td>\n",
              "      <td>/user_details?userid=pZmMNfQ85FvLiKJ-UgWY0A</td>\n",
              "      <td>NJ, NJ</td>\n",
              "      <td>2/22/2023</td>\n",
              "      <td>5.0</td>\n",
              "      <td>THIS PLACE IS AMAZING. Great service, kind sta...</td>\n",
              "    </tr>\n",
              "    <tr>\n",
              "      <th>2</th>\n",
              "      <td>nMyot99PkX5iYCdxHoRJqQ</td>\n",
              "      <td>ARIARI</td>\n",
              "      <td>5</td>\n",
              "      <td>$$</td>\n",
              "      <td>https://www.yelp.com/biz/ariari-new-york?adjus...</td>\n",
              "      <td>40.727284</td>\n",
              "      <td>-73.985831</td>\n",
              "      <td>[]</td>\n",
              "      <td>['119 1st Ave', 'New York, NY 10003']</td>\n",
              "      <td>16464227466.0</td>\n",
              "      <td>...</td>\n",
              "      <td>3</td>\n",
              "      <td>Korean</td>\n",
              "      <td>100</td>\n",
              "      <td>https://s3-media1.fl.yelpcdn.com/bphoto/x5UIZS...</td>\n",
              "      <td>Najin K.</td>\n",
              "      <td>/user_details?userid=vg6xN-nDv2A8P3UskAK_WA</td>\n",
              "      <td>Manhattan, NY</td>\n",
              "      <td>4/1/2023</td>\n",
              "      <td>5.0</td>\n",
              "      <td>No comment</td>\n",
              "    </tr>\n",
              "    <tr>\n",
              "      <th>3</th>\n",
              "      <td>nMyot99PkX5iYCdxHoRJqQ</td>\n",
              "      <td>ARIARI</td>\n",
              "      <td>5</td>\n",
              "      <td>$$</td>\n",
              "      <td>https://www.yelp.com/biz/ariari-new-york?adjus...</td>\n",
              "      <td>40.727284</td>\n",
              "      <td>-73.985831</td>\n",
              "      <td>[]</td>\n",
              "      <td>['119 1st Ave', 'New York, NY 10003']</td>\n",
              "      <td>16464227466.0</td>\n",
              "      <td>...</td>\n",
              "      <td>3</td>\n",
              "      <td>Korean</td>\n",
              "      <td>100</td>\n",
              "      <td>https://s3-media1.fl.yelpcdn.com/bphoto/x5UIZS...</td>\n",
              "      <td>David A.</td>\n",
              "      <td>/user_details?userid=xAXjMh_tWvyPS1a957Dk9w</td>\n",
              "      <td>New York, NY</td>\n",
              "      <td>4/8/2023</td>\n",
              "      <td>4.0</td>\n",
              "      <td>No comment</td>\n",
              "    </tr>\n",
              "    <tr>\n",
              "      <th>4</th>\n",
              "      <td>nMyot99PkX5iYCdxHoRJqQ</td>\n",
              "      <td>ARIARI</td>\n",
              "      <td>5</td>\n",
              "      <td>$$</td>\n",
              "      <td>https://www.yelp.com/biz/ariari-new-york?adjus...</td>\n",
              "      <td>40.727284</td>\n",
              "      <td>-73.985831</td>\n",
              "      <td>[]</td>\n",
              "      <td>['119 1st Ave', 'New York, NY 10003']</td>\n",
              "      <td>16464227466.0</td>\n",
              "      <td>...</td>\n",
              "      <td>3</td>\n",
              "      <td>Korean</td>\n",
              "      <td>100</td>\n",
              "      <td>https://s3-media1.fl.yelpcdn.com/bphoto/x5UIZS...</td>\n",
              "      <td>Ye Z.</td>\n",
              "      <td>/user_details?userid=kWGFN5NRAfuDqvkbWuGo8A</td>\n",
              "      <td>New York, NY</td>\n",
              "      <td>4/4/2023</td>\n",
              "      <td>4.0</td>\n",
              "      <td>No comment</td>\n",
              "    </tr>\n",
              "  </tbody>\n",
              "</table>\n",
              "<p>5 rows × 23 columns</p>\n",
              "</div>\n",
              "      <button class=\"colab-df-convert\" onclick=\"convertToInteractive('df-39a36f16-5423-480c-ab27-6bca503d1cde')\"\n",
              "              title=\"Convert this dataframe to an interactive table.\"\n",
              "              style=\"display:none;\">\n",
              "        \n",
              "  <svg xmlns=\"http://www.w3.org/2000/svg\" height=\"24px\"viewBox=\"0 0 24 24\"\n",
              "       width=\"24px\">\n",
              "    <path d=\"M0 0h24v24H0V0z\" fill=\"none\"/>\n",
              "    <path d=\"M18.56 5.44l.94 2.06.94-2.06 2.06-.94-2.06-.94-.94-2.06-.94 2.06-2.06.94zm-11 1L8.5 8.5l.94-2.06 2.06-.94-2.06-.94L8.5 2.5l-.94 2.06-2.06.94zm10 10l.94 2.06.94-2.06 2.06-.94-2.06-.94-.94-2.06-.94 2.06-2.06.94z\"/><path d=\"M17.41 7.96l-1.37-1.37c-.4-.4-.92-.59-1.43-.59-.52 0-1.04.2-1.43.59L10.3 9.45l-7.72 7.72c-.78.78-.78 2.05 0 2.83L4 21.41c.39.39.9.59 1.41.59.51 0 1.02-.2 1.41-.59l7.78-7.78 2.81-2.81c.8-.78.8-2.07 0-2.86zM5.41 20L4 18.59l7.72-7.72 1.47 1.35L5.41 20z\"/>\n",
              "  </svg>\n",
              "      </button>\n",
              "      \n",
              "  <style>\n",
              "    .colab-df-container {\n",
              "      display:flex;\n",
              "      flex-wrap:wrap;\n",
              "      gap: 12px;\n",
              "    }\n",
              "\n",
              "    .colab-df-convert {\n",
              "      background-color: #E8F0FE;\n",
              "      border: none;\n",
              "      border-radius: 50%;\n",
              "      cursor: pointer;\n",
              "      display: none;\n",
              "      fill: #1967D2;\n",
              "      height: 32px;\n",
              "      padding: 0 0 0 0;\n",
              "      width: 32px;\n",
              "    }\n",
              "\n",
              "    .colab-df-convert:hover {\n",
              "      background-color: #E2EBFA;\n",
              "      box-shadow: 0px 1px 2px rgba(60, 64, 67, 0.3), 0px 1px 3px 1px rgba(60, 64, 67, 0.15);\n",
              "      fill: #174EA6;\n",
              "    }\n",
              "\n",
              "    [theme=dark] .colab-df-convert {\n",
              "      background-color: #3B4455;\n",
              "      fill: #D2E3FC;\n",
              "    }\n",
              "\n",
              "    [theme=dark] .colab-df-convert:hover {\n",
              "      background-color: #434B5C;\n",
              "      box-shadow: 0px 1px 3px 1px rgba(0, 0, 0, 0.15);\n",
              "      filter: drop-shadow(0px 1px 2px rgba(0, 0, 0, 0.3));\n",
              "      fill: #FFFFFF;\n",
              "    }\n",
              "  </style>\n",
              "\n",
              "      <script>\n",
              "        const buttonEl =\n",
              "          document.querySelector('#df-39a36f16-5423-480c-ab27-6bca503d1cde button.colab-df-convert');\n",
              "        buttonEl.style.display =\n",
              "          google.colab.kernel.accessAllowed ? 'block' : 'none';\n",
              "\n",
              "        async function convertToInteractive(key) {\n",
              "          const element = document.querySelector('#df-39a36f16-5423-480c-ab27-6bca503d1cde');\n",
              "          const dataTable =\n",
              "            await google.colab.kernel.invokeFunction('convertToInteractive',\n",
              "                                                     [key], {});\n",
              "          if (!dataTable) return;\n",
              "\n",
              "          const docLinkHtml = 'Like what you see? Visit the ' +\n",
              "            '<a target=\"_blank\" href=https://colab.research.google.com/notebooks/data_table.ipynb>data table notebook</a>'\n",
              "            + ' to learn more about interactive tables.';\n",
              "          element.innerHTML = '';\n",
              "          dataTable['output_type'] = 'display_data';\n",
              "          await google.colab.output.renderOutput(dataTable, element);\n",
              "          const docLink = document.createElement('div');\n",
              "          docLink.innerHTML = docLinkHtml;\n",
              "          element.appendChild(docLink);\n",
              "        }\n",
              "      </script>\n",
              "    </div>\n",
              "  </div>\n",
              "  "
            ]
          },
          "metadata": {},
          "execution_count": 24
        }
      ]
    },
    {
      "cell_type": "markdown",
      "source": [
        "<strong>Check the shape of the merged dataset</strong>"
      ],
      "metadata": {
        "id": "F8DqFFQefKuE"
      }
    },
    {
      "cell_type": "code",
      "source": [
        "restaurant_reviews.shape"
      ],
      "metadata": {
        "colab": {
          "base_uri": "https://localhost:8080/"
        },
        "id": "u5YtK8o1esoF",
        "outputId": "0fd02671-7c50-4437-f5db-d27aab7f1bae"
      },
      "execution_count": 25,
      "outputs": [
        {
          "output_type": "execute_result",
          "data": {
            "text/plain": [
              "(128674, 23)"
            ]
          },
          "metadata": {},
          "execution_count": 25
        }
      ]
    },
    {
      "cell_type": "markdown",
      "source": [
        "We have 128674 rows and 23 columns."
      ],
      "metadata": {
        "id": "sUAIfYFRffBm"
      }
    },
    {
      "cell_type": "markdown",
      "source": [
        "<strong>Lets check for missing values</strong>"
      ],
      "metadata": {
        "id": "E4egr8Wefn0I"
      }
    },
    {
      "cell_type": "code",
      "source": [
        "restaurant_reviews.isna().sum()"
      ],
      "metadata": {
        "colab": {
          "base_uri": "https://localhost:8080/"
        },
        "id": "c3xbKe5_faPR",
        "outputId": "33fe9621-4d96-4ae7-bfcb-c7127c7212dc"
      },
      "execution_count": 26,
      "outputs": [
        {
          "output_type": "execute_result",
          "data": {
            "text/plain": [
              "Restaurant ID        0\n",
              "Name                 0\n",
              "Rating               0\n",
              "Pricing              0\n",
              "URL                  0\n",
              "Latitude             0\n",
              "Longitude            0\n",
              "Transactions         0\n",
              "Location_x           0\n",
              "Phone                0\n",
              "Display Phone        0\n",
              "Distance             0\n",
              "Reviews              0\n",
              "Review Count         0\n",
              "Cuisine              0\n",
              "Number of Reviews    0\n",
              "image_url            0\n",
              "User_Name            0\n",
              "User_id              0\n",
              "Location_y           0\n",
              "Date_of_review       0\n",
              "User_Rating          0\n",
              "Comment              0\n",
              "dtype: int64"
            ]
          },
          "metadata": {},
          "execution_count": 26
        }
      ]
    },
    {
      "cell_type": "markdown",
      "source": [
        "We do not have missing values."
      ],
      "metadata": {
        "id": "Cz0HVIRVf5Qi"
      }
    },
    {
      "cell_type": "markdown",
      "source": [
        "## Exploratory Data Analysis<br>\n",
        "\n",
        "Here we will look at univariate, bivariate and multivariate data analysis using visualizations.\n"
      ],
      "metadata": {
        "id": "cAofXISef_NA"
      }
    },
    {
      "cell_type": "markdown",
      "source": [
        "Univariate"
      ],
      "metadata": {
        "id": "OmUIR7b0gdpt"
      }
    },
    {
      "cell_type": "code",
      "source": [
        "restaurant_reviews.sample(10)"
      ],
      "metadata": {
        "colab": {
          "base_uri": "https://localhost:8080/",
          "height": 1000
        },
        "id": "Ve2pgYSof19j",
        "outputId": "f27fd4d6-c3ef-4d32-cea1-ff2d146ca3bd"
      },
      "execution_count": 27,
      "outputs": [
        {
          "output_type": "execute_result",
          "data": {
            "text/plain": [
              "                 Restaurant ID                       Name  Rating Pricing  \\\n",
              "83822   -J8VuX3wGrYSOBu2G0hMsw                 Katsu-Hama       2      $$   \n",
              "59169   4yPqqJDJOQX69gC66YUDkA                Peter Luger       4    $$$$   \n",
              "86784   SULHf6nGQ8sK0UpG1XU30w             Los Tacos No.1       4       $   \n",
              "40682   flcy6dNr4s12PTv6VtBK9Q                       LĒNA       5      $$   \n",
              "114851  XPbcjRWxumT4ZQr-7uqOAw             Los Tacos No.1       5       $   \n",
              "106836  zo4mcEfVKaktdj_gnSFhGQ                 Cafe Katja       5      $$   \n",
              "116500  SmLFW1Ncg26KfVRVX3GVFQ                 Little Mad       3    $$$$   \n",
              "110470  TQzGf4k3HXyMbnNkYKKQSw                     Oxalis       5    $$$$   \n",
              "13242   m1cJLpDN4B-_0hGgPfe5OA            Salt + Charcoal       5      $$   \n",
              "114494  sEuLm5fQgWkkiYBt6OphWQ  Greenpoint Fish & Lobster       4      $$   \n",
              "\n",
              "                                                      URL   Latitude  \\\n",
              "83822   https://www.yelp.com/biz/katsu-hama-new-york?a...  40.756380   \n",
              "59169   https://www.yelp.com/biz/peter-luger-brooklyn-...  40.709945   \n",
              "86784   https://www.yelp.com/biz/los-tacos-no-1-new-yo...  40.757507   \n",
              "40682   https://www.yelp.com/biz/l%C4%93na-new-york-8?...  40.719135   \n",
              "114851  https://www.yelp.com/biz/los-tacos-no-1-new-yo...  40.726157   \n",
              "106836  https://www.yelp.com/biz/cafe-katja-new-york?a...  40.717767   \n",
              "116500  https://www.yelp.com/biz/little-mad-new-york-2...  40.745020   \n",
              "110470  https://www.yelp.com/biz/oxalis-brooklyn?adjus...  40.673109   \n",
              "13242   https://www.yelp.com/biz/salt-charcoal-brookly...  40.714530   \n",
              "114494  https://www.yelp.com/biz/greenpoint-fish-and-l...  40.724128   \n",
              "\n",
              "        Longitude                                      Transactions  \\\n",
              "83822  -73.977590  ['delivery', 'pickup', 'restaurant_reservation']   \n",
              "59169  -73.962478                                                []   \n",
              "86784  -73.987772                                      ['delivery']   \n",
              "40682  -73.991758                            ['pickup', 'delivery']   \n",
              "114851 -73.994663                                                []   \n",
              "106836 -73.990589                            ['delivery', 'pickup']   \n",
              "116500 -73.985130                                                []   \n",
              "110470 -73.962628                            ['delivery', 'pickup']   \n",
              "13242  -73.961351  ['pickup', 'delivery', 'restaurant_reservation']   \n",
              "114494 -73.949120                                        ['pickup']   \n",
              "\n",
              "                                          Location_x          Phone  ...  \\\n",
              "83822         ['11 E 47th St', 'New York, NY 10017']  12127585909.0  ...   \n",
              "59169         ['178 Broadway', 'Brooklyn, NY 11211']  17183877400.0  ...   \n",
              "86784        ['229 W 43rd St', 'New York, NY 10036']  12125744696.0  ...   \n",
              "40682      ['137 Eldridge St', 'New York, NY 10002']  13479351897.0  ...   \n",
              "114851    ['340 Lafayette St', 'New York, NY 10012']        missing  ...   \n",
              "106836       ['79 Orchard St', 'New York, NY 10002']  12122199545.0  ...   \n",
              "116500     ['110 Madison Ave', 'New York, NY 10016']  19172614969.0  ...   \n",
              "110470  ['791 Washington Ave', 'Brooklyn, NY 11238']  13476278298.0  ...   \n",
              "13242         ['171 Grand St', 'Brooklyn, NY 11249']  17187822087.0  ...   \n",
              "114494      ['114 Nassau Ave', 'Brooklyn, NY 11222']  17183131913.0  ...   \n",
              "\n",
              "       Review Count         Cuisine Number of Reviews  \\\n",
              "83822             3        Japanese              1566   \n",
              "59169             3     Steakhouses              6750   \n",
              "86784             3           Tacos              2676   \n",
              "40682             3          French               219   \n",
              "114851            3           Tacos               106   \n",
              "106836            3          German               832   \n",
              "116500            3  American (New)               170   \n",
              "110470            3          French               231   \n",
              "13242             3        Japanese               709   \n",
              "114494            3         Seafood               389   \n",
              "\n",
              "                                                image_url     User_Name  \\\n",
              "83822   https://s3-media2.fl.yelpcdn.com/bphoto/6tSHNH...        Sho I.   \n",
              "59169   https://s3-media1.fl.yelpcdn.com/bphoto/d0XSKE...       Andy D.   \n",
              "86784   https://s3-media4.fl.yelpcdn.com/bphoto/5wEe4F...    Jovanna T.   \n",
              "40682   https://s3-media1.fl.yelpcdn.com/bphoto/flBHYk...     Cedric L.   \n",
              "114851  https://s3-media1.fl.yelpcdn.com/bphoto/4abEK0...  Christine D.   \n",
              "106836  https://s3-media1.fl.yelpcdn.com/bphoto/SowEwj...      Molly S.   \n",
              "116500  https://s3-media2.fl.yelpcdn.com/bphoto/jgG9F5...       Eric S.   \n",
              "110470  https://s3-media3.fl.yelpcdn.com/bphoto/6Yw9Aw...    Randall M.   \n",
              "13242   https://s3-media3.fl.yelpcdn.com/bphoto/VpwIpQ...     Monica R.   \n",
              "114494  https://s3-media2.fl.yelpcdn.com/bphoto/46ATFZ...       Alex Z.   \n",
              "\n",
              "                                            User_id  \\\n",
              "83822   /user_details?userid=eX88h6QbMgkD80rYIhPIow   \n",
              "59169   /user_details?userid=-5k9-m9hYDHW_Yt1FO8-GQ   \n",
              "86784   /user_details?userid=zhi7BULsxXtDjW_AHcn8RA   \n",
              "40682   /user_details?userid=48TnIBDDAGfjy7_Y_zp9xA   \n",
              "114851  /user_details?userid=xf-W0wsG5Uqgr3K3b-XxCA   \n",
              "106836  /user_details?userid=J14oJF2LbCZDamAUgwv-RQ   \n",
              "116500  /user_details?userid=kL46kIcJ0OvgIiKXXJVxUg   \n",
              "110470  /user_details?userid=15HaL59Vtq1KkRaPfkYDEA   \n",
              "13242   /user_details?userid=LkeAETMQGOxM--TxUD-bIg   \n",
              "114494  /user_details?userid=Z2PISdtGHThSUUbFccGkrA   \n",
              "\n",
              "                        Location_y Date_of_review User_Rating  \\\n",
              "83822                   Somers, NY      11/5/2019         5.0   \n",
              "59169                 New York, NY      10/6/2020         4.0   \n",
              "86784             West Babylon, NY      6/23/2019         4.0   \n",
              "40682                Manhattan, NY      12/7/2017         5.0   \n",
              "114851  North Valley, San Jose, CA      9/24/2022         5.0   \n",
              "106836                 Astoria, NY       7/4/2010         4.0   \n",
              "116500                San Jose, CA      3/28/2022         5.0   \n",
              "110470     Manhattan, New York, NY      4/26/2019         3.0   \n",
              "13242                  Orlando, FL      5/16/2017         2.0   \n",
              "114494                Brooklyn, NY      4/10/2016         2.0   \n",
              "\n",
              "                                                  Comment  \n",
              "83822                                          No comment  \n",
              "59169   Tried it just because it's famous but really i...  \n",
              "86784                                          No comment  \n",
              "40682   Pierre the owner is very welcoming. His staff ...  \n",
              "114851                                         No comment  \n",
              "106836                                         No comment  \n",
              "116500  Chef Sols restaurant is a masterpiece of fine ...  \n",
              "110470  I dined at Oxalis shortly after the NY Times r...  \n",
              "13242                                          No comment  \n",
              "114494                                         No comment  \n",
              "\n",
              "[10 rows x 23 columns]"
            ],
            "text/html": [
              "\n",
              "  <div id=\"df-cd9639cc-e5f5-42ca-94dc-f2822e68840d\">\n",
              "    <div class=\"colab-df-container\">\n",
              "      <div>\n",
              "<style scoped>\n",
              "    .dataframe tbody tr th:only-of-type {\n",
              "        vertical-align: middle;\n",
              "    }\n",
              "\n",
              "    .dataframe tbody tr th {\n",
              "        vertical-align: top;\n",
              "    }\n",
              "\n",
              "    .dataframe thead th {\n",
              "        text-align: right;\n",
              "    }\n",
              "</style>\n",
              "<table border=\"1\" class=\"dataframe\">\n",
              "  <thead>\n",
              "    <tr style=\"text-align: right;\">\n",
              "      <th></th>\n",
              "      <th>Restaurant ID</th>\n",
              "      <th>Name</th>\n",
              "      <th>Rating</th>\n",
              "      <th>Pricing</th>\n",
              "      <th>URL</th>\n",
              "      <th>Latitude</th>\n",
              "      <th>Longitude</th>\n",
              "      <th>Transactions</th>\n",
              "      <th>Location_x</th>\n",
              "      <th>Phone</th>\n",
              "      <th>...</th>\n",
              "      <th>Review Count</th>\n",
              "      <th>Cuisine</th>\n",
              "      <th>Number of Reviews</th>\n",
              "      <th>image_url</th>\n",
              "      <th>User_Name</th>\n",
              "      <th>User_id</th>\n",
              "      <th>Location_y</th>\n",
              "      <th>Date_of_review</th>\n",
              "      <th>User_Rating</th>\n",
              "      <th>Comment</th>\n",
              "    </tr>\n",
              "  </thead>\n",
              "  <tbody>\n",
              "    <tr>\n",
              "      <th>83822</th>\n",
              "      <td>-J8VuX3wGrYSOBu2G0hMsw</td>\n",
              "      <td>Katsu-Hama</td>\n",
              "      <td>2</td>\n",
              "      <td>$$</td>\n",
              "      <td>https://www.yelp.com/biz/katsu-hama-new-york?a...</td>\n",
              "      <td>40.756380</td>\n",
              "      <td>-73.977590</td>\n",
              "      <td>['delivery', 'pickup', 'restaurant_reservation']</td>\n",
              "      <td>['11 E 47th St', 'New York, NY 10017']</td>\n",
              "      <td>12127585909.0</td>\n",
              "      <td>...</td>\n",
              "      <td>3</td>\n",
              "      <td>Japanese</td>\n",
              "      <td>1566</td>\n",
              "      <td>https://s3-media2.fl.yelpcdn.com/bphoto/6tSHNH...</td>\n",
              "      <td>Sho I.</td>\n",
              "      <td>/user_details?userid=eX88h6QbMgkD80rYIhPIow</td>\n",
              "      <td>Somers, NY</td>\n",
              "      <td>11/5/2019</td>\n",
              "      <td>5.0</td>\n",
              "      <td>No comment</td>\n",
              "    </tr>\n",
              "    <tr>\n",
              "      <th>59169</th>\n",
              "      <td>4yPqqJDJOQX69gC66YUDkA</td>\n",
              "      <td>Peter Luger</td>\n",
              "      <td>4</td>\n",
              "      <td>$$$$</td>\n",
              "      <td>https://www.yelp.com/biz/peter-luger-brooklyn-...</td>\n",
              "      <td>40.709945</td>\n",
              "      <td>-73.962478</td>\n",
              "      <td>[]</td>\n",
              "      <td>['178 Broadway', 'Brooklyn, NY 11211']</td>\n",
              "      <td>17183877400.0</td>\n",
              "      <td>...</td>\n",
              "      <td>3</td>\n",
              "      <td>Steakhouses</td>\n",
              "      <td>6750</td>\n",
              "      <td>https://s3-media1.fl.yelpcdn.com/bphoto/d0XSKE...</td>\n",
              "      <td>Andy D.</td>\n",
              "      <td>/user_details?userid=-5k9-m9hYDHW_Yt1FO8-GQ</td>\n",
              "      <td>New York, NY</td>\n",
              "      <td>10/6/2020</td>\n",
              "      <td>4.0</td>\n",
              "      <td>Tried it just because it's famous but really i...</td>\n",
              "    </tr>\n",
              "    <tr>\n",
              "      <th>86784</th>\n",
              "      <td>SULHf6nGQ8sK0UpG1XU30w</td>\n",
              "      <td>Los Tacos No.1</td>\n",
              "      <td>4</td>\n",
              "      <td>$</td>\n",
              "      <td>https://www.yelp.com/biz/los-tacos-no-1-new-yo...</td>\n",
              "      <td>40.757507</td>\n",
              "      <td>-73.987772</td>\n",
              "      <td>['delivery']</td>\n",
              "      <td>['229 W 43rd St', 'New York, NY 10036']</td>\n",
              "      <td>12125744696.0</td>\n",
              "      <td>...</td>\n",
              "      <td>3</td>\n",
              "      <td>Tacos</td>\n",
              "      <td>2676</td>\n",
              "      <td>https://s3-media4.fl.yelpcdn.com/bphoto/5wEe4F...</td>\n",
              "      <td>Jovanna T.</td>\n",
              "      <td>/user_details?userid=zhi7BULsxXtDjW_AHcn8RA</td>\n",
              "      <td>West Babylon, NY</td>\n",
              "      <td>6/23/2019</td>\n",
              "      <td>4.0</td>\n",
              "      <td>No comment</td>\n",
              "    </tr>\n",
              "    <tr>\n",
              "      <th>40682</th>\n",
              "      <td>flcy6dNr4s12PTv6VtBK9Q</td>\n",
              "      <td>LĒNA</td>\n",
              "      <td>5</td>\n",
              "      <td>$$</td>\n",
              "      <td>https://www.yelp.com/biz/l%C4%93na-new-york-8?...</td>\n",
              "      <td>40.719135</td>\n",
              "      <td>-73.991758</td>\n",
              "      <td>['pickup', 'delivery']</td>\n",
              "      <td>['137 Eldridge St', 'New York, NY 10002']</td>\n",
              "      <td>13479351897.0</td>\n",
              "      <td>...</td>\n",
              "      <td>3</td>\n",
              "      <td>French</td>\n",
              "      <td>219</td>\n",
              "      <td>https://s3-media1.fl.yelpcdn.com/bphoto/flBHYk...</td>\n",
              "      <td>Cedric L.</td>\n",
              "      <td>/user_details?userid=48TnIBDDAGfjy7_Y_zp9xA</td>\n",
              "      <td>Manhattan, NY</td>\n",
              "      <td>12/7/2017</td>\n",
              "      <td>5.0</td>\n",
              "      <td>Pierre the owner is very welcoming. His staff ...</td>\n",
              "    </tr>\n",
              "    <tr>\n",
              "      <th>114851</th>\n",
              "      <td>XPbcjRWxumT4ZQr-7uqOAw</td>\n",
              "      <td>Los Tacos No.1</td>\n",
              "      <td>5</td>\n",
              "      <td>$</td>\n",
              "      <td>https://www.yelp.com/biz/los-tacos-no-1-new-yo...</td>\n",
              "      <td>40.726157</td>\n",
              "      <td>-73.994663</td>\n",
              "      <td>[]</td>\n",
              "      <td>['340 Lafayette St', 'New York, NY 10012']</td>\n",
              "      <td>missing</td>\n",
              "      <td>...</td>\n",
              "      <td>3</td>\n",
              "      <td>Tacos</td>\n",
              "      <td>106</td>\n",
              "      <td>https://s3-media1.fl.yelpcdn.com/bphoto/4abEK0...</td>\n",
              "      <td>Christine D.</td>\n",
              "      <td>/user_details?userid=xf-W0wsG5Uqgr3K3b-XxCA</td>\n",
              "      <td>North Valley, San Jose, CA</td>\n",
              "      <td>9/24/2022</td>\n",
              "      <td>5.0</td>\n",
              "      <td>No comment</td>\n",
              "    </tr>\n",
              "    <tr>\n",
              "      <th>106836</th>\n",
              "      <td>zo4mcEfVKaktdj_gnSFhGQ</td>\n",
              "      <td>Cafe Katja</td>\n",
              "      <td>5</td>\n",
              "      <td>$$</td>\n",
              "      <td>https://www.yelp.com/biz/cafe-katja-new-york?a...</td>\n",
              "      <td>40.717767</td>\n",
              "      <td>-73.990589</td>\n",
              "      <td>['delivery', 'pickup']</td>\n",
              "      <td>['79 Orchard St', 'New York, NY 10002']</td>\n",
              "      <td>12122199545.0</td>\n",
              "      <td>...</td>\n",
              "      <td>3</td>\n",
              "      <td>German</td>\n",
              "      <td>832</td>\n",
              "      <td>https://s3-media1.fl.yelpcdn.com/bphoto/SowEwj...</td>\n",
              "      <td>Molly S.</td>\n",
              "      <td>/user_details?userid=J14oJF2LbCZDamAUgwv-RQ</td>\n",
              "      <td>Astoria, NY</td>\n",
              "      <td>7/4/2010</td>\n",
              "      <td>4.0</td>\n",
              "      <td>No comment</td>\n",
              "    </tr>\n",
              "    <tr>\n",
              "      <th>116500</th>\n",
              "      <td>SmLFW1Ncg26KfVRVX3GVFQ</td>\n",
              "      <td>Little Mad</td>\n",
              "      <td>3</td>\n",
              "      <td>$$$$</td>\n",
              "      <td>https://www.yelp.com/biz/little-mad-new-york-2...</td>\n",
              "      <td>40.745020</td>\n",
              "      <td>-73.985130</td>\n",
              "      <td>[]</td>\n",
              "      <td>['110 Madison Ave', 'New York, NY 10016']</td>\n",
              "      <td>19172614969.0</td>\n",
              "      <td>...</td>\n",
              "      <td>3</td>\n",
              "      <td>American (New)</td>\n",
              "      <td>170</td>\n",
              "      <td>https://s3-media2.fl.yelpcdn.com/bphoto/jgG9F5...</td>\n",
              "      <td>Eric S.</td>\n",
              "      <td>/user_details?userid=kL46kIcJ0OvgIiKXXJVxUg</td>\n",
              "      <td>San Jose, CA</td>\n",
              "      <td>3/28/2022</td>\n",
              "      <td>5.0</td>\n",
              "      <td>Chef Sols restaurant is a masterpiece of fine ...</td>\n",
              "    </tr>\n",
              "    <tr>\n",
              "      <th>110470</th>\n",
              "      <td>TQzGf4k3HXyMbnNkYKKQSw</td>\n",
              "      <td>Oxalis</td>\n",
              "      <td>5</td>\n",
              "      <td>$$$$</td>\n",
              "      <td>https://www.yelp.com/biz/oxalis-brooklyn?adjus...</td>\n",
              "      <td>40.673109</td>\n",
              "      <td>-73.962628</td>\n",
              "      <td>['delivery', 'pickup']</td>\n",
              "      <td>['791 Washington Ave', 'Brooklyn, NY 11238']</td>\n",
              "      <td>13476278298.0</td>\n",
              "      <td>...</td>\n",
              "      <td>3</td>\n",
              "      <td>French</td>\n",
              "      <td>231</td>\n",
              "      <td>https://s3-media3.fl.yelpcdn.com/bphoto/6Yw9Aw...</td>\n",
              "      <td>Randall M.</td>\n",
              "      <td>/user_details?userid=15HaL59Vtq1KkRaPfkYDEA</td>\n",
              "      <td>Manhattan, New York, NY</td>\n",
              "      <td>4/26/2019</td>\n",
              "      <td>3.0</td>\n",
              "      <td>I dined at Oxalis shortly after the NY Times r...</td>\n",
              "    </tr>\n",
              "    <tr>\n",
              "      <th>13242</th>\n",
              "      <td>m1cJLpDN4B-_0hGgPfe5OA</td>\n",
              "      <td>Salt + Charcoal</td>\n",
              "      <td>5</td>\n",
              "      <td>$$</td>\n",
              "      <td>https://www.yelp.com/biz/salt-charcoal-brookly...</td>\n",
              "      <td>40.714530</td>\n",
              "      <td>-73.961351</td>\n",
              "      <td>['pickup', 'delivery', 'restaurant_reservation']</td>\n",
              "      <td>['171 Grand St', 'Brooklyn, NY 11249']</td>\n",
              "      <td>17187822087.0</td>\n",
              "      <td>...</td>\n",
              "      <td>3</td>\n",
              "      <td>Japanese</td>\n",
              "      <td>709</td>\n",
              "      <td>https://s3-media3.fl.yelpcdn.com/bphoto/VpwIpQ...</td>\n",
              "      <td>Monica R.</td>\n",
              "      <td>/user_details?userid=LkeAETMQGOxM--TxUD-bIg</td>\n",
              "      <td>Orlando, FL</td>\n",
              "      <td>5/16/2017</td>\n",
              "      <td>2.0</td>\n",
              "      <td>No comment</td>\n",
              "    </tr>\n",
              "    <tr>\n",
              "      <th>114494</th>\n",
              "      <td>sEuLm5fQgWkkiYBt6OphWQ</td>\n",
              "      <td>Greenpoint Fish &amp; Lobster</td>\n",
              "      <td>4</td>\n",
              "      <td>$$</td>\n",
              "      <td>https://www.yelp.com/biz/greenpoint-fish-and-l...</td>\n",
              "      <td>40.724128</td>\n",
              "      <td>-73.949120</td>\n",
              "      <td>['pickup']</td>\n",
              "      <td>['114 Nassau Ave', 'Brooklyn, NY 11222']</td>\n",
              "      <td>17183131913.0</td>\n",
              "      <td>...</td>\n",
              "      <td>3</td>\n",
              "      <td>Seafood</td>\n",
              "      <td>389</td>\n",
              "      <td>https://s3-media2.fl.yelpcdn.com/bphoto/46ATFZ...</td>\n",
              "      <td>Alex Z.</td>\n",
              "      <td>/user_details?userid=Z2PISdtGHThSUUbFccGkrA</td>\n",
              "      <td>Brooklyn, NY</td>\n",
              "      <td>4/10/2016</td>\n",
              "      <td>2.0</td>\n",
              "      <td>No comment</td>\n",
              "    </tr>\n",
              "  </tbody>\n",
              "</table>\n",
              "<p>10 rows × 23 columns</p>\n",
              "</div>\n",
              "      <button class=\"colab-df-convert\" onclick=\"convertToInteractive('df-cd9639cc-e5f5-42ca-94dc-f2822e68840d')\"\n",
              "              title=\"Convert this dataframe to an interactive table.\"\n",
              "              style=\"display:none;\">\n",
              "        \n",
              "  <svg xmlns=\"http://www.w3.org/2000/svg\" height=\"24px\"viewBox=\"0 0 24 24\"\n",
              "       width=\"24px\">\n",
              "    <path d=\"M0 0h24v24H0V0z\" fill=\"none\"/>\n",
              "    <path d=\"M18.56 5.44l.94 2.06.94-2.06 2.06-.94-2.06-.94-.94-2.06-.94 2.06-2.06.94zm-11 1L8.5 8.5l.94-2.06 2.06-.94-2.06-.94L8.5 2.5l-.94 2.06-2.06.94zm10 10l.94 2.06.94-2.06 2.06-.94-2.06-.94-.94-2.06-.94 2.06-2.06.94z\"/><path d=\"M17.41 7.96l-1.37-1.37c-.4-.4-.92-.59-1.43-.59-.52 0-1.04.2-1.43.59L10.3 9.45l-7.72 7.72c-.78.78-.78 2.05 0 2.83L4 21.41c.39.39.9.59 1.41.59.51 0 1.02-.2 1.41-.59l7.78-7.78 2.81-2.81c.8-.78.8-2.07 0-2.86zM5.41 20L4 18.59l7.72-7.72 1.47 1.35L5.41 20z\"/>\n",
              "  </svg>\n",
              "      </button>\n",
              "      \n",
              "  <style>\n",
              "    .colab-df-container {\n",
              "      display:flex;\n",
              "      flex-wrap:wrap;\n",
              "      gap: 12px;\n",
              "    }\n",
              "\n",
              "    .colab-df-convert {\n",
              "      background-color: #E8F0FE;\n",
              "      border: none;\n",
              "      border-radius: 50%;\n",
              "      cursor: pointer;\n",
              "      display: none;\n",
              "      fill: #1967D2;\n",
              "      height: 32px;\n",
              "      padding: 0 0 0 0;\n",
              "      width: 32px;\n",
              "    }\n",
              "\n",
              "    .colab-df-convert:hover {\n",
              "      background-color: #E2EBFA;\n",
              "      box-shadow: 0px 1px 2px rgba(60, 64, 67, 0.3), 0px 1px 3px 1px rgba(60, 64, 67, 0.15);\n",
              "      fill: #174EA6;\n",
              "    }\n",
              "\n",
              "    [theme=dark] .colab-df-convert {\n",
              "      background-color: #3B4455;\n",
              "      fill: #D2E3FC;\n",
              "    }\n",
              "\n",
              "    [theme=dark] .colab-df-convert:hover {\n",
              "      background-color: #434B5C;\n",
              "      box-shadow: 0px 1px 3px 1px rgba(0, 0, 0, 0.15);\n",
              "      filter: drop-shadow(0px 1px 2px rgba(0, 0, 0, 0.3));\n",
              "      fill: #FFFFFF;\n",
              "    }\n",
              "  </style>\n",
              "\n",
              "      <script>\n",
              "        const buttonEl =\n",
              "          document.querySelector('#df-cd9639cc-e5f5-42ca-94dc-f2822e68840d button.colab-df-convert');\n",
              "        buttonEl.style.display =\n",
              "          google.colab.kernel.accessAllowed ? 'block' : 'none';\n",
              "\n",
              "        async function convertToInteractive(key) {\n",
              "          const element = document.querySelector('#df-cd9639cc-e5f5-42ca-94dc-f2822e68840d');\n",
              "          const dataTable =\n",
              "            await google.colab.kernel.invokeFunction('convertToInteractive',\n",
              "                                                     [key], {});\n",
              "          if (!dataTable) return;\n",
              "\n",
              "          const docLinkHtml = 'Like what you see? Visit the ' +\n",
              "            '<a target=\"_blank\" href=https://colab.research.google.com/notebooks/data_table.ipynb>data table notebook</a>'\n",
              "            + ' to learn more about interactive tables.';\n",
              "          element.innerHTML = '';\n",
              "          dataTable['output_type'] = 'display_data';\n",
              "          await google.colab.output.renderOutput(dataTable, element);\n",
              "          const docLink = document.createElement('div');\n",
              "          docLink.innerHTML = docLinkHtml;\n",
              "          element.appendChild(docLink);\n",
              "        }\n",
              "      </script>\n",
              "    </div>\n",
              "  </div>\n",
              "  "
            ]
          },
          "metadata": {},
          "execution_count": 27
        }
      ]
    },
    {
      "cell_type": "markdown",
      "source": [
        "We note that all the columns in the dataset have been capitalized. We will change this to lower case.\n"
      ],
      "metadata": {
        "id": "8h2fP25rhw6c"
      }
    },
    {
      "cell_type": "code",
      "source": [
        "# use applymap() and str.lower() to lowercase every element in the dataframe\n",
        "restaurant_reviews.columns = restaurant_reviews.columns.str.lower()\n",
        "restaurant_reviews.head()"
      ],
      "metadata": {
        "colab": {
          "base_uri": "https://localhost:8080/",
          "height": 629
        },
        "id": "w8vNHvooiAZ1",
        "outputId": "b3cf849d-46e0-4eac-9d22-25e8d9b9688e"
      },
      "execution_count": 28,
      "outputs": [
        {
          "output_type": "execute_result",
          "data": {
            "text/plain": [
              "            restaurant id    name  rating pricing  \\\n",
              "0  nMyot99PkX5iYCdxHoRJqQ  ARIARI       5      $$   \n",
              "1  nMyot99PkX5iYCdxHoRJqQ  ARIARI       5      $$   \n",
              "2  nMyot99PkX5iYCdxHoRJqQ  ARIARI       5      $$   \n",
              "3  nMyot99PkX5iYCdxHoRJqQ  ARIARI       5      $$   \n",
              "4  nMyot99PkX5iYCdxHoRJqQ  ARIARI       5      $$   \n",
              "\n",
              "                                                 url   latitude  longitude  \\\n",
              "0  https://www.yelp.com/biz/ariari-new-york?adjus...  40.727284 -73.985831   \n",
              "1  https://www.yelp.com/biz/ariari-new-york?adjus...  40.727284 -73.985831   \n",
              "2  https://www.yelp.com/biz/ariari-new-york?adjus...  40.727284 -73.985831   \n",
              "3  https://www.yelp.com/biz/ariari-new-york?adjus...  40.727284 -73.985831   \n",
              "4  https://www.yelp.com/biz/ariari-new-york?adjus...  40.727284 -73.985831   \n",
              "\n",
              "  transactions                             location_x          phone  ...  \\\n",
              "0           []  ['119 1st Ave', 'New York, NY 10003']  16464227466.0  ...   \n",
              "1           []  ['119 1st Ave', 'New York, NY 10003']  16464227466.0  ...   \n",
              "2           []  ['119 1st Ave', 'New York, NY 10003']  16464227466.0  ...   \n",
              "3           []  ['119 1st Ave', 'New York, NY 10003']  16464227466.0  ...   \n",
              "4           []  ['119 1st Ave', 'New York, NY 10003']  16464227466.0  ...   \n",
              "\n",
              "  review count  cuisine number of reviews  \\\n",
              "0            3   Korean               100   \n",
              "1            3   Korean               100   \n",
              "2            3   Korean               100   \n",
              "3            3   Korean               100   \n",
              "4            3   Korean               100   \n",
              "\n",
              "                                           image_url  user_name  \\\n",
              "0  https://s3-media1.fl.yelpcdn.com/bphoto/x5UIZS...  esther h.   \n",
              "1  https://s3-media1.fl.yelpcdn.com/bphoto/x5UIZS...     Amy J.   \n",
              "2  https://s3-media1.fl.yelpcdn.com/bphoto/x5UIZS...   Najin K.   \n",
              "3  https://s3-media1.fl.yelpcdn.com/bphoto/x5UIZS...   David A.   \n",
              "4  https://s3-media1.fl.yelpcdn.com/bphoto/x5UIZS...      Ye Z.   \n",
              "\n",
              "                                       user_id                  location_y  \\\n",
              "0  /user_details?userid=b5qg4CHJPwBjQ8d4m5w6oQ  Midtown East, New York, NY   \n",
              "1  /user_details?userid=pZmMNfQ85FvLiKJ-UgWY0A                      NJ, NJ   \n",
              "2  /user_details?userid=vg6xN-nDv2A8P3UskAK_WA               Manhattan, NY   \n",
              "3  /user_details?userid=xAXjMh_tWvyPS1a957Dk9w                New York, NY   \n",
              "4  /user_details?userid=kWGFN5NRAfuDqvkbWuGo8A                New York, NY   \n",
              "\n",
              "  date_of_review user_rating  \\\n",
              "0       3/9/2023         5.0   \n",
              "1      2/22/2023         5.0   \n",
              "2       4/1/2023         5.0   \n",
              "3       4/8/2023         4.0   \n",
              "4       4/4/2023         4.0   \n",
              "\n",
              "                                             comment  \n",
              "0                                         No comment  \n",
              "1  THIS PLACE IS AMAZING. Great service, kind sta...  \n",
              "2                                         No comment  \n",
              "3                                         No comment  \n",
              "4                                         No comment  \n",
              "\n",
              "[5 rows x 23 columns]"
            ],
            "text/html": [
              "\n",
              "  <div id=\"df-22bf895a-6b5d-4c70-be8d-bc6443d9e0d0\">\n",
              "    <div class=\"colab-df-container\">\n",
              "      <div>\n",
              "<style scoped>\n",
              "    .dataframe tbody tr th:only-of-type {\n",
              "        vertical-align: middle;\n",
              "    }\n",
              "\n",
              "    .dataframe tbody tr th {\n",
              "        vertical-align: top;\n",
              "    }\n",
              "\n",
              "    .dataframe thead th {\n",
              "        text-align: right;\n",
              "    }\n",
              "</style>\n",
              "<table border=\"1\" class=\"dataframe\">\n",
              "  <thead>\n",
              "    <tr style=\"text-align: right;\">\n",
              "      <th></th>\n",
              "      <th>restaurant id</th>\n",
              "      <th>name</th>\n",
              "      <th>rating</th>\n",
              "      <th>pricing</th>\n",
              "      <th>url</th>\n",
              "      <th>latitude</th>\n",
              "      <th>longitude</th>\n",
              "      <th>transactions</th>\n",
              "      <th>location_x</th>\n",
              "      <th>phone</th>\n",
              "      <th>...</th>\n",
              "      <th>review count</th>\n",
              "      <th>cuisine</th>\n",
              "      <th>number of reviews</th>\n",
              "      <th>image_url</th>\n",
              "      <th>user_name</th>\n",
              "      <th>user_id</th>\n",
              "      <th>location_y</th>\n",
              "      <th>date_of_review</th>\n",
              "      <th>user_rating</th>\n",
              "      <th>comment</th>\n",
              "    </tr>\n",
              "  </thead>\n",
              "  <tbody>\n",
              "    <tr>\n",
              "      <th>0</th>\n",
              "      <td>nMyot99PkX5iYCdxHoRJqQ</td>\n",
              "      <td>ARIARI</td>\n",
              "      <td>5</td>\n",
              "      <td>$$</td>\n",
              "      <td>https://www.yelp.com/biz/ariari-new-york?adjus...</td>\n",
              "      <td>40.727284</td>\n",
              "      <td>-73.985831</td>\n",
              "      <td>[]</td>\n",
              "      <td>['119 1st Ave', 'New York, NY 10003']</td>\n",
              "      <td>16464227466.0</td>\n",
              "      <td>...</td>\n",
              "      <td>3</td>\n",
              "      <td>Korean</td>\n",
              "      <td>100</td>\n",
              "      <td>https://s3-media1.fl.yelpcdn.com/bphoto/x5UIZS...</td>\n",
              "      <td>esther h.</td>\n",
              "      <td>/user_details?userid=b5qg4CHJPwBjQ8d4m5w6oQ</td>\n",
              "      <td>Midtown East, New York, NY</td>\n",
              "      <td>3/9/2023</td>\n",
              "      <td>5.0</td>\n",
              "      <td>No comment</td>\n",
              "    </tr>\n",
              "    <tr>\n",
              "      <th>1</th>\n",
              "      <td>nMyot99PkX5iYCdxHoRJqQ</td>\n",
              "      <td>ARIARI</td>\n",
              "      <td>5</td>\n",
              "      <td>$$</td>\n",
              "      <td>https://www.yelp.com/biz/ariari-new-york?adjus...</td>\n",
              "      <td>40.727284</td>\n",
              "      <td>-73.985831</td>\n",
              "      <td>[]</td>\n",
              "      <td>['119 1st Ave', 'New York, NY 10003']</td>\n",
              "      <td>16464227466.0</td>\n",
              "      <td>...</td>\n",
              "      <td>3</td>\n",
              "      <td>Korean</td>\n",
              "      <td>100</td>\n",
              "      <td>https://s3-media1.fl.yelpcdn.com/bphoto/x5UIZS...</td>\n",
              "      <td>Amy J.</td>\n",
              "      <td>/user_details?userid=pZmMNfQ85FvLiKJ-UgWY0A</td>\n",
              "      <td>NJ, NJ</td>\n",
              "      <td>2/22/2023</td>\n",
              "      <td>5.0</td>\n",
              "      <td>THIS PLACE IS AMAZING. Great service, kind sta...</td>\n",
              "    </tr>\n",
              "    <tr>\n",
              "      <th>2</th>\n",
              "      <td>nMyot99PkX5iYCdxHoRJqQ</td>\n",
              "      <td>ARIARI</td>\n",
              "      <td>5</td>\n",
              "      <td>$$</td>\n",
              "      <td>https://www.yelp.com/biz/ariari-new-york?adjus...</td>\n",
              "      <td>40.727284</td>\n",
              "      <td>-73.985831</td>\n",
              "      <td>[]</td>\n",
              "      <td>['119 1st Ave', 'New York, NY 10003']</td>\n",
              "      <td>16464227466.0</td>\n",
              "      <td>...</td>\n",
              "      <td>3</td>\n",
              "      <td>Korean</td>\n",
              "      <td>100</td>\n",
              "      <td>https://s3-media1.fl.yelpcdn.com/bphoto/x5UIZS...</td>\n",
              "      <td>Najin K.</td>\n",
              "      <td>/user_details?userid=vg6xN-nDv2A8P3UskAK_WA</td>\n",
              "      <td>Manhattan, NY</td>\n",
              "      <td>4/1/2023</td>\n",
              "      <td>5.0</td>\n",
              "      <td>No comment</td>\n",
              "    </tr>\n",
              "    <tr>\n",
              "      <th>3</th>\n",
              "      <td>nMyot99PkX5iYCdxHoRJqQ</td>\n",
              "      <td>ARIARI</td>\n",
              "      <td>5</td>\n",
              "      <td>$$</td>\n",
              "      <td>https://www.yelp.com/biz/ariari-new-york?adjus...</td>\n",
              "      <td>40.727284</td>\n",
              "      <td>-73.985831</td>\n",
              "      <td>[]</td>\n",
              "      <td>['119 1st Ave', 'New York, NY 10003']</td>\n",
              "      <td>16464227466.0</td>\n",
              "      <td>...</td>\n",
              "      <td>3</td>\n",
              "      <td>Korean</td>\n",
              "      <td>100</td>\n",
              "      <td>https://s3-media1.fl.yelpcdn.com/bphoto/x5UIZS...</td>\n",
              "      <td>David A.</td>\n",
              "      <td>/user_details?userid=xAXjMh_tWvyPS1a957Dk9w</td>\n",
              "      <td>New York, NY</td>\n",
              "      <td>4/8/2023</td>\n",
              "      <td>4.0</td>\n",
              "      <td>No comment</td>\n",
              "    </tr>\n",
              "    <tr>\n",
              "      <th>4</th>\n",
              "      <td>nMyot99PkX5iYCdxHoRJqQ</td>\n",
              "      <td>ARIARI</td>\n",
              "      <td>5</td>\n",
              "      <td>$$</td>\n",
              "      <td>https://www.yelp.com/biz/ariari-new-york?adjus...</td>\n",
              "      <td>40.727284</td>\n",
              "      <td>-73.985831</td>\n",
              "      <td>[]</td>\n",
              "      <td>['119 1st Ave', 'New York, NY 10003']</td>\n",
              "      <td>16464227466.0</td>\n",
              "      <td>...</td>\n",
              "      <td>3</td>\n",
              "      <td>Korean</td>\n",
              "      <td>100</td>\n",
              "      <td>https://s3-media1.fl.yelpcdn.com/bphoto/x5UIZS...</td>\n",
              "      <td>Ye Z.</td>\n",
              "      <td>/user_details?userid=kWGFN5NRAfuDqvkbWuGo8A</td>\n",
              "      <td>New York, NY</td>\n",
              "      <td>4/4/2023</td>\n",
              "      <td>4.0</td>\n",
              "      <td>No comment</td>\n",
              "    </tr>\n",
              "  </tbody>\n",
              "</table>\n",
              "<p>5 rows × 23 columns</p>\n",
              "</div>\n",
              "      <button class=\"colab-df-convert\" onclick=\"convertToInteractive('df-22bf895a-6b5d-4c70-be8d-bc6443d9e0d0')\"\n",
              "              title=\"Convert this dataframe to an interactive table.\"\n",
              "              style=\"display:none;\">\n",
              "        \n",
              "  <svg xmlns=\"http://www.w3.org/2000/svg\" height=\"24px\"viewBox=\"0 0 24 24\"\n",
              "       width=\"24px\">\n",
              "    <path d=\"M0 0h24v24H0V0z\" fill=\"none\"/>\n",
              "    <path d=\"M18.56 5.44l.94 2.06.94-2.06 2.06-.94-2.06-.94-.94-2.06-.94 2.06-2.06.94zm-11 1L8.5 8.5l.94-2.06 2.06-.94-2.06-.94L8.5 2.5l-.94 2.06-2.06.94zm10 10l.94 2.06.94-2.06 2.06-.94-2.06-.94-.94-2.06-.94 2.06-2.06.94z\"/><path d=\"M17.41 7.96l-1.37-1.37c-.4-.4-.92-.59-1.43-.59-.52 0-1.04.2-1.43.59L10.3 9.45l-7.72 7.72c-.78.78-.78 2.05 0 2.83L4 21.41c.39.39.9.59 1.41.59.51 0 1.02-.2 1.41-.59l7.78-7.78 2.81-2.81c.8-.78.8-2.07 0-2.86zM5.41 20L4 18.59l7.72-7.72 1.47 1.35L5.41 20z\"/>\n",
              "  </svg>\n",
              "      </button>\n",
              "      \n",
              "  <style>\n",
              "    .colab-df-container {\n",
              "      display:flex;\n",
              "      flex-wrap:wrap;\n",
              "      gap: 12px;\n",
              "    }\n",
              "\n",
              "    .colab-df-convert {\n",
              "      background-color: #E8F0FE;\n",
              "      border: none;\n",
              "      border-radius: 50%;\n",
              "      cursor: pointer;\n",
              "      display: none;\n",
              "      fill: #1967D2;\n",
              "      height: 32px;\n",
              "      padding: 0 0 0 0;\n",
              "      width: 32px;\n",
              "    }\n",
              "\n",
              "    .colab-df-convert:hover {\n",
              "      background-color: #E2EBFA;\n",
              "      box-shadow: 0px 1px 2px rgba(60, 64, 67, 0.3), 0px 1px 3px 1px rgba(60, 64, 67, 0.15);\n",
              "      fill: #174EA6;\n",
              "    }\n",
              "\n",
              "    [theme=dark] .colab-df-convert {\n",
              "      background-color: #3B4455;\n",
              "      fill: #D2E3FC;\n",
              "    }\n",
              "\n",
              "    [theme=dark] .colab-df-convert:hover {\n",
              "      background-color: #434B5C;\n",
              "      box-shadow: 0px 1px 3px 1px rgba(0, 0, 0, 0.15);\n",
              "      filter: drop-shadow(0px 1px 2px rgba(0, 0, 0, 0.3));\n",
              "      fill: #FFFFFF;\n",
              "    }\n",
              "  </style>\n",
              "\n",
              "      <script>\n",
              "        const buttonEl =\n",
              "          document.querySelector('#df-22bf895a-6b5d-4c70-be8d-bc6443d9e0d0 button.colab-df-convert');\n",
              "        buttonEl.style.display =\n",
              "          google.colab.kernel.accessAllowed ? 'block' : 'none';\n",
              "\n",
              "        async function convertToInteractive(key) {\n",
              "          const element = document.querySelector('#df-22bf895a-6b5d-4c70-be8d-bc6443d9e0d0');\n",
              "          const dataTable =\n",
              "            await google.colab.kernel.invokeFunction('convertToInteractive',\n",
              "                                                     [key], {});\n",
              "          if (!dataTable) return;\n",
              "\n",
              "          const docLinkHtml = 'Like what you see? Visit the ' +\n",
              "            '<a target=\"_blank\" href=https://colab.research.google.com/notebooks/data_table.ipynb>data table notebook</a>'\n",
              "            + ' to learn more about interactive tables.';\n",
              "          element.innerHTML = '';\n",
              "          dataTable['output_type'] = 'display_data';\n",
              "          await google.colab.output.renderOutput(dataTable, element);\n",
              "          const docLink = document.createElement('div');\n",
              "          docLink.innerHTML = docLinkHtml;\n",
              "          element.appendChild(docLink);\n",
              "        }\n",
              "      </script>\n",
              "    </div>\n",
              "  </div>\n",
              "  "
            ]
          },
          "metadata": {},
          "execution_count": 28
        }
      ]
    },
    {
      "cell_type": "markdown",
      "source": [
        "<strong>Check the distribution of ratings</strong>\n",
        "\n",
        "We will first do a value_counts to check fo unique values and any anomalies in the column"
      ],
      "metadata": {
        "id": "atzdr9KJhK9j"
      }
    },
    {
      "cell_type": "code",
      "source": [
        "restaurant_reviews['rating'].value_counts(normalize=True).to_frame().plot(kind='bar', figsize=(12, 8))\n",
        "plt.title(\"Distribution of ratings\")\n",
        "plt.xlabel('Rating')\n",
        "plt.ylabel('%count of ratings')"
      ],
      "metadata": {
        "colab": {
          "base_uri": "https://localhost:8080/",
          "height": 730
        },
        "id": "nU-TExjOgnAo",
        "outputId": "126d05a8-ed0e-46c3-d590-435a73a46cb3"
      },
      "execution_count": 29,
      "outputs": [
        {
          "output_type": "execute_result",
          "data": {
            "text/plain": [
              "Text(0, 0.5, '%count of ratings')"
            ]
          },
          "metadata": {},
          "execution_count": 29
        },
        {
          "output_type": "display_data",
          "data": {
            "text/plain": [
              "<Figure size 1200x800 with 1 Axes>"
            ],
            "image/png": "[encoded data removed]"
          },
          "metadata": {}
        }
      ]
    },
    {
      "cell_type": "markdown",
      "source": [
        "Most restaurants have a rating of 5, 4 and 3. very few have a rating of 2 and one repectively"
      ],
      "metadata": {
        "id": "TB7AJetalFor"
      }
    },
    {
      "cell_type": "markdown",
      "source": [
        "Distribution of food prices"
      ],
      "metadata": {
        "id": "toakm08nlafi"
      }
    },
    {
      "cell_type": "code",
      "source": [
        "restaurant_reviews['pricing'].value_counts(normalize=True).to_frame()"
      ],
      "metadata": {
        "colab": {
          "base_uri": "https://localhost:8080/",
          "height": 175
        },
        "id": "ve_sZrJDkbJS",
        "outputId": "c7662d0b-e8f5-473c-fc4f-f5324cbcd36f"
      },
      "execution_count": 30,
      "outputs": [
        {
          "output_type": "execute_result",
          "data": {
            "text/plain": [
              "       pricing\n",
              "$$    0.649292\n",
              "$$$   0.186052\n",
              "$     0.091199\n",
              "$$$$  0.073457"
            ],
            "text/html": [
              "\n",
              "  <div id=\"df-c5552c54-4636-400a-a97b-0156a30afa26\">\n",
              "    <div class=\"colab-df-container\">\n",
              "      <div>\n",
              "<style scoped>\n",
              "    .dataframe tbody tr th:only-of-type {\n",
              "        vertical-align: middle;\n",
              "    }\n",
              "\n",
              "    .dataframe tbody tr th {\n",
              "        vertical-align: top;\n",
              "    }\n",
              "\n",
              "    .dataframe thead th {\n",
              "        text-align: right;\n",
              "    }\n",
              "</style>\n",
              "<table border=\"1\" class=\"dataframe\">\n",
              "  <thead>\n",
              "    <tr style=\"text-align: right;\">\n",
              "      <th></th>\n",
              "      <th>pricing</th>\n",
              "    </tr>\n",
              "  </thead>\n",
              "  <tbody>\n",
              "    <tr>\n",
              "      <th>$$</th>\n",
              "      <td>0.649292</td>\n",
              "    </tr>\n",
              "    <tr>\n",
              "      <th>$$$</th>\n",
              "      <td>0.186052</td>\n",
              "    </tr>\n",
              "    <tr>\n",
              "      <th>$</th>\n",
              "      <td>0.091199</td>\n",
              "    </tr>\n",
              "    <tr>\n",
              "      <th>$$$$</th>\n",
              "      <td>0.073457</td>\n",
              "    </tr>\n",
              "  </tbody>\n",
              "</table>\n",
              "</div>\n",
              "      <button class=\"colab-df-convert\" onclick=\"convertToInteractive('df-c5552c54-4636-400a-a97b-0156a30afa26')\"\n",
              "              title=\"Convert this dataframe to an interactive table.\"\n",
              "              style=\"display:none;\">\n",
              "        \n",
              "  <svg xmlns=\"http://www.w3.org/2000/svg\" height=\"24px\"viewBox=\"0 0 24 24\"\n",
              "       width=\"24px\">\n",
              "    <path d=\"M0 0h24v24H0V0z\" fill=\"none\"/>\n",
              "    <path d=\"M18.56 5.44l.94 2.06.94-2.06 2.06-.94-2.06-.94-.94-2.06-.94 2.06-2.06.94zm-11 1L8.5 8.5l.94-2.06 2.06-.94-2.06-.94L8.5 2.5l-.94 2.06-2.06.94zm10 10l.94 2.06.94-2.06 2.06-.94-2.06-.94-.94-2.06-.94 2.06-2.06.94z\"/><path d=\"M17.41 7.96l-1.37-1.37c-.4-.4-.92-.59-1.43-.59-.52 0-1.04.2-1.43.59L10.3 9.45l-7.72 7.72c-.78.78-.78 2.05 0 2.83L4 21.41c.39.39.9.59 1.41.59.51 0 1.02-.2 1.41-.59l7.78-7.78 2.81-2.81c.8-.78.8-2.07 0-2.86zM5.41 20L4 18.59l7.72-7.72 1.47 1.35L5.41 20z\"/>\n",
              "  </svg>\n",
              "      </button>\n",
              "      \n",
              "  <style>\n",
              "    .colab-df-container {\n",
              "      display:flex;\n",
              "      flex-wrap:wrap;\n",
              "      gap: 12px;\n",
              "    }\n",
              "\n",
              "    .colab-df-convert {\n",
              "      background-color: #E8F0FE;\n",
              "      border: none;\n",
              "      border-radius: 50%;\n",
              "      cursor: pointer;\n",
              "      display: none;\n",
              "      fill: #1967D2;\n",
              "      height: 32px;\n",
              "      padding: 0 0 0 0;\n",
              "      width: 32px;\n",
              "    }\n",
              "\n",
              "    .colab-df-convert:hover {\n",
              "      background-color: #E2EBFA;\n",
              "      box-shadow: 0px 1px 2px rgba(60, 64, 67, 0.3), 0px 1px 3px 1px rgba(60, 64, 67, 0.15);\n",
              "      fill: #174EA6;\n",
              "    }\n",
              "\n",
              "    [theme=dark] .colab-df-convert {\n",
              "      background-color: #3B4455;\n",
              "      fill: #D2E3FC;\n",
              "    }\n",
              "\n",
              "    [theme=dark] .colab-df-convert:hover {\n",
              "      background-color: #434B5C;\n",
              "      box-shadow: 0px 1px 3px 1px rgba(0, 0, 0, 0.15);\n",
              "      filter: drop-shadow(0px 1px 2px rgba(0, 0, 0, 0.3));\n",
              "      fill: #FFFFFF;\n",
              "    }\n",
              "  </style>\n",
              "\n",
              "      <script>\n",
              "        const buttonEl =\n",
              "          document.querySelector('#df-c5552c54-4636-400a-a97b-0156a30afa26 button.colab-df-convert');\n",
              "        buttonEl.style.display =\n",
              "          google.colab.kernel.accessAllowed ? 'block' : 'none';\n",
              "\n",
              "        async function convertToInteractive(key) {\n",
              "          const element = document.querySelector('#df-c5552c54-4636-400a-a97b-0156a30afa26');\n",
              "          const dataTable =\n",
              "            await google.colab.kernel.invokeFunction('convertToInteractive',\n",
              "                                                     [key], {});\n",
              "          if (!dataTable) return;\n",
              "\n",
              "          const docLinkHtml = 'Like what you see? Visit the ' +\n",
              "            '<a target=\"_blank\" href=https://colab.research.google.com/notebooks/data_table.ipynb>data table notebook</a>'\n",
              "            + ' to learn more about interactive tables.';\n",
              "          element.innerHTML = '';\n",
              "          dataTable['output_type'] = 'display_data';\n",
              "          await google.colab.output.renderOutput(dataTable, element);\n",
              "          const docLink = document.createElement('div');\n",
              "          docLink.innerHTML = docLinkHtml;\n",
              "          element.appendChild(docLink);\n",
              "        }\n",
              "      </script>\n",
              "    </div>\n",
              "  </div>\n",
              "  "
            ]
          },
          "metadata": {},
          "execution_count": 30
        }
      ]
    },
    {
      "cell_type": "markdown",
      "source": [
        "we note that our prices are represent by the money sign($). We will change this to below format.\n",
        "* Mid-range (3 signs)\n",
        "* Cheap Eats (1 sign)\n",
        "* Affordable (2 signs)\n",
        "* Pricey Dining (4 signs)"
      ],
      "metadata": {
        "id": "yhyiXdpAkNuS"
      }
    },
    {
      "cell_type": "code",
      "source": [
        "restaurant_reviews['pricing'].replace(['$$', '$$$$', '$', '$$$'], ['low', 'pricey-dining', 'popular-eats', 'mid-range'], inplace=True)"
      ],
      "metadata": {
        "id": "YYdiq_ZvjxyB"
      },
      "execution_count": 31,
      "outputs": []
    },
    {
      "cell_type": "code",
      "source": [
        "#confirm the changes\n",
        "restaurant_reviews['pricing'].value_counts(normalize=True).to_frame()"
      ],
      "metadata": {
        "colab": {
          "base_uri": "https://localhost:8080/",
          "height": 175
        },
        "id": "mO8VtFqgmv-h",
        "outputId": "fc190adf-5b8d-48e8-ea69-4bb635b16e95"
      },
      "execution_count": 32,
      "outputs": [
        {
          "output_type": "execute_result",
          "data": {
            "text/plain": [
              "                pricing\n",
              "low            0.649292\n",
              "mid-range      0.186052\n",
              "popular-eats   0.091199\n",
              "pricey-dining  0.073457"
            ],
            "text/html": [
              "\n",
              "  <div id=\"df-2814fb75-2983-481f-a4dc-be181907fd6f\">\n",
              "    <div class=\"colab-df-container\">\n",
              "      <div>\n",
              "<style scoped>\n",
              "    .dataframe tbody tr th:only-of-type {\n",
              "        vertical-align: middle;\n",
              "    }\n",
              "\n",
              "    .dataframe tbody tr th {\n",
              "        vertical-align: top;\n",
              "    }\n",
              "\n",
              "    .dataframe thead th {\n",
              "        text-align: right;\n",
              "    }\n",
              "</style>\n",
              "<table border=\"1\" class=\"dataframe\">\n",
              "  <thead>\n",
              "    <tr style=\"text-align: right;\">\n",
              "      <th></th>\n",
              "      <th>pricing</th>\n",
              "    </tr>\n",
              "  </thead>\n",
              "  <tbody>\n",
              "    <tr>\n",
              "      <th>low</th>\n",
              "      <td>0.649292</td>\n",
              "    </tr>\n",
              "    <tr>\n",
              "      <th>mid-range</th>\n",
              "      <td>0.186052</td>\n",
              "    </tr>\n",
              "    <tr>\n",
              "      <th>popular-eats</th>\n",
              "      <td>0.091199</td>\n",
              "    </tr>\n",
              "    <tr>\n",
              "      <th>pricey-dining</th>\n",
              "      <td>0.073457</td>\n",
              "    </tr>\n",
              "  </tbody>\n",
              "</table>\n",
              "</div>\n",
              "      <button class=\"colab-df-convert\" onclick=\"convertToInteractive('df-2814fb75-2983-481f-a4dc-be181907fd6f')\"\n",
              "              title=\"Convert this dataframe to an interactive table.\"\n",
              "              style=\"display:none;\">\n",
              "        \n",
              "  <svg xmlns=\"http://www.w3.org/2000/svg\" height=\"24px\"viewBox=\"0 0 24 24\"\n",
              "       width=\"24px\">\n",
              "    <path d=\"M0 0h24v24H0V0z\" fill=\"none\"/>\n",
              "    <path d=\"M18.56 5.44l.94 2.06.94-2.06 2.06-.94-2.06-.94-.94-2.06-.94 2.06-2.06.94zm-11 1L8.5 8.5l.94-2.06 2.06-.94-2.06-.94L8.5 2.5l-.94 2.06-2.06.94zm10 10l.94 2.06.94-2.06 2.06-.94-2.06-.94-.94-2.06-.94 2.06-2.06.94z\"/><path d=\"M17.41 7.96l-1.37-1.37c-.4-.4-.92-.59-1.43-.59-.52 0-1.04.2-1.43.59L10.3 9.45l-7.72 7.72c-.78.78-.78 2.05 0 2.83L4 21.41c.39.39.9.59 1.41.59.51 0 1.02-.2 1.41-.59l7.78-7.78 2.81-2.81c.8-.78.8-2.07 0-2.86zM5.41 20L4 18.59l7.72-7.72 1.47 1.35L5.41 20z\"/>\n",
              "  </svg>\n",
              "      </button>\n",
              "      \n",
              "  <style>\n",
              "    .colab-df-container {\n",
              "      display:flex;\n",
              "      flex-wrap:wrap;\n",
              "      gap: 12px;\n",
              "    }\n",
              "\n",
              "    .colab-df-convert {\n",
              "      background-color: #E8F0FE;\n",
              "      border: none;\n",
              "      border-radius: 50%;\n",
              "      cursor: pointer;\n",
              "      display: none;\n",
              "      fill: #1967D2;\n",
              "      height: 32px;\n",
              "      padding: 0 0 0 0;\n",
              "      width: 32px;\n",
              "    }\n",
              "\n",
              "    .colab-df-convert:hover {\n",
              "      background-color: #E2EBFA;\n",
              "      box-shadow: 0px 1px 2px rgba(60, 64, 67, 0.3), 0px 1px 3px 1px rgba(60, 64, 67, 0.15);\n",
              "      fill: #174EA6;\n",
              "    }\n",
              "\n",
              "    [theme=dark] .colab-df-convert {\n",
              "      background-color: #3B4455;\n",
              "      fill: #D2E3FC;\n",
              "    }\n",
              "\n",
              "    [theme=dark] .colab-df-convert:hover {\n",
              "      background-color: #434B5C;\n",
              "      box-shadow: 0px 1px 3px 1px rgba(0, 0, 0, 0.15);\n",
              "      filter: drop-shadow(0px 1px 2px rgba(0, 0, 0, 0.3));\n",
              "      fill: #FFFFFF;\n",
              "    }\n",
              "  </style>\n",
              "\n",
              "      <script>\n",
              "        const buttonEl =\n",
              "          document.querySelector('#df-2814fb75-2983-481f-a4dc-be181907fd6f button.colab-df-convert');\n",
              "        buttonEl.style.display =\n",
              "          google.colab.kernel.accessAllowed ? 'block' : 'none';\n",
              "\n",
              "        async function convertToInteractive(key) {\n",
              "          const element = document.querySelector('#df-2814fb75-2983-481f-a4dc-be181907fd6f');\n",
              "          const dataTable =\n",
              "            await google.colab.kernel.invokeFunction('convertToInteractive',\n",
              "                                                     [key], {});\n",
              "          if (!dataTable) return;\n",
              "\n",
              "          const docLinkHtml = 'Like what you see? Visit the ' +\n",
              "            '<a target=\"_blank\" href=https://colab.research.google.com/notebooks/data_table.ipynb>data table notebook</a>'\n",
              "            + ' to learn more about interactive tables.';\n",
              "          element.innerHTML = '';\n",
              "          dataTable['output_type'] = 'display_data';\n",
              "          await google.colab.output.renderOutput(dataTable, element);\n",
              "          const docLink = document.createElement('div');\n",
              "          docLink.innerHTML = docLinkHtml;\n",
              "          element.appendChild(docLink);\n",
              "        }\n",
              "      </script>\n",
              "    </div>\n",
              "  </div>\n",
              "  "
            ]
          },
          "metadata": {},
          "execution_count": 32
        }
      ]
    },
    {
      "cell_type": "markdown",
      "source": [
        "<strong>Plot a bar to show the price distribution</strong>"
      ],
      "metadata": {
        "id": "8CqmQtJTm5mN"
      }
    },
    {
      "cell_type": "markdown",
      "source": [],
      "metadata": {
        "id": "O_7BWxNvqYTx"
      }
    },
    {
      "cell_type": "markdown",
      "source": [
        "Most Restaurants in the dataset have low prices\n"
      ],
      "metadata": {
        "id": "_BlwJwyLpnkr"
      }
    },
    {
      "cell_type": "code",
      "source": [
        "restaurant_reviews['pricing'].value_counts(normalize=True).to_frame().plot(kind='bar', figsize=(12, 8))\n",
        "plt.title(\"Distribution of pricing\")\n",
        "plt.xlabel('Price Range')\n",
        "plt.ylabel('%count of Price Range');"
      ],
      "metadata": {
        "colab": {
          "base_uri": "https://localhost:8080/",
          "height": 795
        },
        "id": "-vzOS193puKG",
        "outputId": "c674b960-a6a2-4845-e4f9-bc5ffce07597"
      },
      "execution_count": 33,
      "outputs": [
        {
          "output_type": "display_data",
          "data": {
            "text/plain": [
              "<Figure size 1200x800 with 1 Axes>"
            ],
            "image/png": "[encoded data removed]"
          },
          "metadata": {}
        }
      ]
    },
    {
      "cell_type": "markdown",
      "source": [
        "<strong>Plot the trend in review generation</strong>"
      ],
      "metadata": {
        "id": "2IdvXL8BqaOQ"
      }
    },
    {
      "cell_type": "code",
      "source": [
        "plt.figure(figsize=(12,8))\n",
        "# create a line plot of the number of reviews over time using Seaborn\n",
        "sns.lineplot(x='date_of_review', y='number of reviews', data=restaurant_reviews)\n",
        "\n",
        "# add axis labels and title\n",
        "plt.xlabel('Date')\n",
        "plt.ylabel('Number of Reviews')\n",
        "plt.title('Number of Reviews over Time')\n",
        "plt.show()"
      ],
      "metadata": {
        "colab": {
          "base_uri": "https://localhost:8080/",
          "height": 718
        },
        "id": "An-oZGHarB_o",
        "outputId": "ce7ace38-bef8-4640-86fb-23c7ed3453e0"
      },
      "execution_count": 43,
      "outputs": [
        {
          "output_type": "display_data",
          "data": {
            "text/plain": [
              "<Figure size 1200x800 with 1 Axes>"
            ],
            "image/png": "[encoded data removed]"
          },
          "metadata": {}
        }
      ]
    },
    {
      "cell_type": "code",
      "source": [
        "restaurant_reviews.reset_index(inplace=True)"
      ],
      "metadata": {
        "id": "gO_uoVoIvQLV"
      },
      "execution_count": 38,
      "outputs": []
    }
  ]
}