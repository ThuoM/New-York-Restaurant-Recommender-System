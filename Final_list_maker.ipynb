{
 "cells": [
  {
   "cell_type": "code",
   "execution_count": 1,
   "id": "440e1322",
   "metadata": {},
   "outputs": [],
   "source": [
    "from bs4 import BeautifulSoup\n",
    "import requests\n",
    "import time\n",
    "import random\n",
    "import re\n",
    "import csv\n",
    "import pandas as pd"
   ]
  },
  {
   "cell_type": "code",
   "execution_count": 2,
   "id": "2c2966a0",
   "metadata": {},
   "outputs": [
    {
     "name": "stdout",
     "output_type": "stream",
     "text": [
      "['reviews (1).csv', 'reviews (10).csv', 'reviews (11).csv', 'reviews (12).csv', 'reviews (13).csv', 'reviews (15).csv', 'reviews (3).csv', 'reviews (6).csv', 'reviews (7).csv', 'reviews (9).csv', 'reviews.csv', 'reviews2.csv', 'reviews3.csv']\n"
     ]
    }
   ],
   "source": [
    "from os import walk\n",
    "\n",
    "# folder path\n",
    "dir_path = r'D:\\Phase 5 project\\reviews'\n",
    "res = []\n",
    "for (dir_path, dir_names, file_names) in walk(dir_path):\n",
    "    # print(f'Adding these files: {file_names}')\n",
    "    res.extend(file_names)\n",
    "    # don't look inside any subdirectory\n",
    "    break\n",
    "print(res)"
   ]
  },
  {
   "cell_type": "code",
   "execution_count": 3,
   "id": "e17d549a",
   "metadata": {},
   "outputs": [
    {
     "name": "stdout",
     "output_type": "stream",
     "text": [
      "['reviews (1).csv', 'reviews (10).csv', 'reviews (11).csv', 'reviews (12).csv', 'reviews (13).csv', 'reviews (15).csv', 'reviews (3).csv', 'reviews (6).csv', 'reviews (7).csv', 'reviews (9).csv', 'reviews.csv', 'reviews2.csv', 'reviews3.csv']\n"
     ]
    }
   ],
   "source": [
    "# list of the files to keep\n",
    "keep = []\n",
    "\n",
    "for name in res:\n",
    "    if 'review' in name:\n",
    "        keep.append(name)\n",
    "print(keep)"
   ]
  },
  {
   "cell_type": "code",
   "execution_count": 4,
   "id": "12dd4b1f",
   "metadata": {},
   "outputs": [],
   "source": [
    "# Confirms the list of files to pull data from\n",
    "work_on = []\n",
    "with open('list.csv', 'r') as csvfile:\n",
    "    info = csvfile.read()\n",
    "    for line in keep:\n",
    "        if line in info:\n",
    "            continue\n",
    "        else:\n",
    "            print(f'Pulling data from {line}')\n",
    "            work_on.append(line)\n",
    "    csvfile.close()        "
   ]
  },
  {
   "cell_type": "code",
   "execution_count": 5,
   "id": "02ea8fe5",
   "metadata": {},
   "outputs": [
    {
     "name": "stdout",
     "output_type": "stream",
     "text": [
      "0\n"
     ]
    }
   ],
   "source": [
    "li = []\n",
    "with open('list.csv', 'a+', encoding='utf-8') as csvfile:\n",
    "    list_writer = csv.writer(csvfile)\n",
    "    dic = {}\n",
    "    length = len(work_on)\n",
    "    print(length)\n",
    "    while length >= 1:\n",
    "        for name in work_on:\n",
    "            print(f'{name} is being read ..............')\n",
    "            df = pd.read_csv(f'reviews/{name}', index_col=None, on_bad_lines='skip', header=None)\n",
    "            li.append(df)\n",
    "            dic['name'] = name\n",
    "            list_writer.writerow(dic.values())\n",
    "            length -= 1\n",
    "        final_frame = pd.concat(li, axis=0, ignore_index=True)\n",
    "        print('Gone through entire list')"
   ]
  },
  {
   "cell_type": "code",
   "execution_count": 6,
   "id": "eda7b072",
   "metadata": {},
   "outputs": [
    {
     "ename": "NameError",
     "evalue": "name 'final_frame' is not defined",
     "output_type": "error",
     "traceback": [
      "\u001b[1;31m---------------------------------------------------------------------------\u001b[0m",
      "\u001b[1;31mNameError\u001b[0m                                 Traceback (most recent call last)",
      "Input \u001b[1;32mIn [6]\u001b[0m, in \u001b[0;36m<cell line: 1>\u001b[1;34m()\u001b[0m\n\u001b[1;32m----> 1\u001b[0m \u001b[43mfinal_frame\u001b[49m\u001b[38;5;241m.\u001b[39mhead()\n",
      "\u001b[1;31mNameError\u001b[0m: name 'final_frame' is not defined"
     ]
    }
   ],
   "source": [
    "final_frame.head()"
   ]
  },
  {
   "cell_type": "code",
   "execution_count": null,
   "id": "2e06b277",
   "metadata": {},
   "outputs": [],
   "source": [
    "# remove duplicates\n",
    "final_frame = final_frame.drop_duplicates()\n",
    "\n",
    "# check duplicates\n",
    "print(f'The num of duplicates are: {final_frame.duplicated().sum()} duplicates')\n"
   ]
  },
  {
   "cell_type": "code",
   "execution_count": null,
   "id": "7baca2a3",
   "metadata": {},
   "outputs": [],
   "source": [
    "# columns having null values\n",
    "final_frame.info()"
   ]
  },
  {
   "cell_type": "code",
   "execution_count": null,
   "id": "641f1c05",
   "metadata": {},
   "outputs": [],
   "source": [
    "final_frame = final_frame.dropna(axis=0)\n",
    "final_frame.info()"
   ]
  },
  {
   "cell_type": "code",
   "execution_count": null,
   "id": "880fdb3b",
   "metadata": {},
   "outputs": [],
   "source": [
    "# check the percentage of restaurants done in the final csv\n",
    "\n",
    "restaurants = pd.read_csv('restaurant_data.csv')\n",
    "\n",
    "rest_df = restaurants.drop_duplicates(subset=['URL'])\n",
    "rest_df.head()"
   ]
  },
  {
   "cell_type": "code",
   "execution_count": null,
   "id": "a08b895f",
   "metadata": {},
   "outputs": [],
   "source": []
  },
  {
   "cell_type": "code",
   "execution_count": null,
   "id": "fb54b925",
   "metadata": {},
   "outputs": [],
   "source": [
    "# get the set of available restaurants\n",
    "got_rest = set(final_frame[6])\n",
    "\n",
    "list_rest = set(rest_df['URL'])"
   ]
  },
  {
   "cell_type": "code",
   "execution_count": null,
   "id": "fbba8e78",
   "metadata": {
    "scrolled": false
   },
   "outputs": [],
   "source": [
    "# What restaurants do we have\n",
    "missing_urls = []\n",
    "for url in list_rest:\n",
    "    if url in got_rest:\n",
    "        num = len(final_frame[final_frame[6] == url])\n",
    "        expected = rest_df[rest_df['URL'] == url]\n",
    "        # print(expected['Number of Reviews'])\n",
    "        eventual = float(num/expected['Number of Reviews']) *100\n",
    "        if eventual >= 90.0:\n",
    "            print(f\"We have {expected['Name']} and have about ....... {eventual}% of expected collection\")\n",
    "            print('WITHIN COMPLETED EXPECTATION')\n",
    "        else:\n",
    "            print(f\"We have {expected['Name']} and have about ....... {eventual}% of expected collection\")\n",
    "            print(f\"{expected['Name']} NEEDS MORE COLLECTION PLEASE\")\n",
    "            missing_urls.append(url)\n",
    "    else:\n",
    "        expected = rest_df[rest_df['URL'] == url]\n",
    "        num = 0\n",
    "        eventual = (num/expected['Number of Reviews']) *100\n",
    "        # print(f\"We have {expected['Name']} and have about ....... {eventual}% of expected collection\")\n",
    "        # print(f\"{expected['Name']} NEEDS MORE COLLECTION PLEASE\")\n",
    "        missing_urls.append(url)\n",
    "\n",
    "        \n",
    "print('Done with list of content')"
   ]
  },
  {
   "cell_type": "code",
   "execution_count": null,
   "id": "706f62a1",
   "metadata": {},
   "outputs": [],
   "source": [
    "len(missing_urls)"
   ]
  },
  {
   "cell_type": "code",
   "execution_count": null,
   "id": "72199f20",
   "metadata": {},
   "outputs": [],
   "source": []
  },
  {
   "cell_type": "code",
   "execution_count": null,
   "id": "3595d0be",
   "metadata": {},
   "outputs": [],
   "source": [
    "with open('final_revs.csv', 'a+', encoding='utf-8') as csvfile:\n",
    "        review_writer = csv.writer(csvfile)\n",
    "        for index, row in final_frame.iterrows():\n",
    "            dic = {}\n",
    "        \n",
    "            # Assign the user values to the dictionary\n",
    "            dic['username'] = row[0]\n",
    "            dic['account'] = row[1]\n",
    "            dic['location'] = row[2]\n",
    "            dic['date'] = row[3]\n",
    "            dic['rating'] = row[4]\n",
    "            dic['comments'] = row[5]\n",
    "            dic['restaurant'] = row[6]\n",
    "\n",
    "            # write this info to the local csv\n",
    "            review_writer.writerow(dic.values())\n",
    "print('Done')"
   ]
  },
  {
   "cell_type": "code",
   "execution_count": null,
   "id": "3d2c4d15",
   "metadata": {},
   "outputs": [],
   "source": []
  },
  {
   "cell_type": "code",
   "execution_count": null,
   "id": "15504110",
   "metadata": {},
   "outputs": [],
   "source": [
    "try:\n",
    "    missing_url_df = pd.read_csv('missing_urls.csv', header=None)\n",
    "except pd.errors.EmptyDataError:\n",
    "    found_missing_urls = list(['File is empty'])\n",
    "else:\n",
    "    found_missing_urls = list(missing_url_df)\n",
    "\n",
    "\n",
    "found_missing_urls"
   ]
  },
  {
   "cell_type": "code",
   "execution_count": null,
   "id": "3d996693",
   "metadata": {},
   "outputs": [],
   "source": [
    "# Dealing with missing urls\n",
    "with open('missing_urls.csv', 'a+', encoding='utf-8') as csvfile:\n",
    "        review_writer = csv.writer(csvfile)\n",
    "        for url in missing_urls:\n",
    "            dic = {}\n",
    "            # print(url)\n",
    "        \n",
    "            if url in found_missing_urls:\n",
    "                continue\n",
    "            else:\n",
    "                # Assign the user values to the dictionary\n",
    "                dic['url'] = url\n",
    "\n",
    "                # write this info to the local csv\n",
    "                review_writer.writerow(dic.values())\n",
    "print('Done')"
   ]
  },
  {
   "cell_type": "code",
   "execution_count": null,
   "id": "f07d59eb",
   "metadata": {},
   "outputs": [],
   "source": []
  },
  {
   "cell_type": "code",
   "execution_count": null,
   "id": "dadd1b2f",
   "metadata": {},
   "outputs": [],
   "source": []
  },
  {
   "cell_type": "code",
   "execution_count": null,
   "id": "d6ce17ed",
   "metadata": {},
   "outputs": [],
   "source": []
  }
 ],
 "metadata": {
  "kernelspec": {
   "display_name": "Python 3 (ipykernel)",
   "language": "python",
   "name": "python3"
  },
  "language_info": {
   "codemirror_mode": {
    "name": "ipython",
    "version": 3
   },
   "file_extension": ".py",
   "mimetype": "text/x-python",
   "name": "python",
   "nbconvert_exporter": "python",
   "pygments_lexer": "ipython3",
   "version": "3.9.12"
  }
 },
 "nbformat": 4,
 "nbformat_minor": 5
}
