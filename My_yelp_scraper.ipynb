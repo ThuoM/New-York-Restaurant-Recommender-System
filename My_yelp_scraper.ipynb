{
 "cells": [
  {
   "cell_type": "markdown",
   "id": "9538fcdf",
   "metadata": {},
   "source": [
    "## Scrape Yelp Individual restaurant reviews\n",
    "\n",
    "<ul>\n",
    "    <li>We'll be using this scraper to collect all the reviews possible from the yelp restaurants we scraped already from NY and get user content which will help in building a content based and collaborative filtering based model</li>\n",
    "</ul>\n",
    "    "
   ]
  },
  {
   "cell_type": "markdown",
   "id": "1fb54dfe",
   "metadata": {},
   "source": [
    "### Step 1: Find the pattern of url"
   ]
  },
  {
   "cell_type": "code",
   "execution_count": 1,
   "id": "bf7db87c",
   "metadata": {},
   "outputs": [
    {
     "data": {
      "text/plain": [
       "500"
      ]
     },
     "execution_count": 1,
     "metadata": {},
     "output_type": "execute_result"
    }
   ],
   "source": [
    "# select the list of urls that are unique to each other\n",
    "import numpy as np\n",
    "import pandas as pd\n",
    "\n",
    "restaurants = pd.read_csv('restaurant_data.csv')\n",
    "\n",
    "len(restaurants)"
   ]
  },
  {
   "cell_type": "code",
   "execution_count": 2,
   "id": "8326be3f",
   "metadata": {},
   "outputs": [
    {
     "data": {
      "text/plain": [
       "435"
      ]
     },
     "execution_count": 2,
     "metadata": {},
     "output_type": "execute_result"
    }
   ],
   "source": [
    "# make a set from the url\n",
    "urls_rests = set(restaurants['URL'])\n",
    "\n",
    "len(urls_rests)"
   ]
  },
  {
   "cell_type": "code",
   "execution_count": 3,
   "id": "914c1b2e",
   "metadata": {},
   "outputs": [
    {
     "data": {
      "text/html": [
       "<div>\n",
       "<style scoped>\n",
       "    .dataframe tbody tr th:only-of-type {\n",
       "        vertical-align: middle;\n",
       "    }\n",
       "\n",
       "    .dataframe tbody tr th {\n",
       "        vertical-align: top;\n",
       "    }\n",
       "\n",
       "    .dataframe thead th {\n",
       "        text-align: right;\n",
       "    }\n",
       "</style>\n",
       "<table border=\"1\" class=\"dataframe\">\n",
       "  <thead>\n",
       "    <tr style=\"text-align: right;\">\n",
       "      <th></th>\n",
       "      <th>Name</th>\n",
       "      <th>Rating</th>\n",
       "      <th>Pricing</th>\n",
       "      <th>URL</th>\n",
       "      <th>Latitude</th>\n",
       "      <th>Longitude</th>\n",
       "      <th>Transactions</th>\n",
       "      <th>Location</th>\n",
       "      <th>Phone</th>\n",
       "      <th>Display Phone</th>\n",
       "      <th>Distance</th>\n",
       "      <th>Reviews</th>\n",
       "      <th>Review Count</th>\n",
       "      <th>Cuisine</th>\n",
       "      <th>Restaurant ID</th>\n",
       "      <th>Number of Reviews</th>\n",
       "    </tr>\n",
       "  </thead>\n",
       "  <tbody>\n",
       "    <tr>\n",
       "      <th>0</th>\n",
       "      <td>Da Andrea</td>\n",
       "      <td>4</td>\n",
       "      <td>$$</td>\n",
       "      <td>https://www.yelp.com/biz/da-andrea-new-york?ad...</td>\n",
       "      <td>40.736218</td>\n",
       "      <td>-73.995970</td>\n",
       "      <td>['delivery', 'pickup', 'restaurant_reservation']</td>\n",
       "      <td>35 W 13th St, New York, NY 10011</td>\n",
       "      <td>1.212367e+10</td>\n",
       "      <td>(212) 367-1979</td>\n",
       "      <td>3526.365252</td>\n",
       "      <td>[{'text': 'This small and crowded place seems ...</td>\n",
       "      <td>3</td>\n",
       "      <td>I, t, a, l, i, a, n</td>\n",
       "      <td>hdiuRS9sVZSMReZm4oV5SA</td>\n",
       "      <td>1851</td>\n",
       "    </tr>\n",
       "    <tr>\n",
       "      <th>1</th>\n",
       "      <td>LoveMama</td>\n",
       "      <td>5</td>\n",
       "      <td>$$</td>\n",
       "      <td>https://www.yelp.com/biz/lovemama-new-york?adj...</td>\n",
       "      <td>40.730409</td>\n",
       "      <td>-73.986127</td>\n",
       "      <td>['delivery', 'pickup', 'restaurant_reservation']</td>\n",
       "      <td>174 2nd Ave, New York, NY 10003</td>\n",
       "      <td>1.212255e+10</td>\n",
       "      <td>(212) 254-5370</td>\n",
       "      <td>2645.074283</td>\n",
       "      <td>[{'text': 'Absolutely LOVED LoveMama!! As a co...</td>\n",
       "      <td>3</td>\n",
       "      <td>T, h, a, i</td>\n",
       "      <td>jjJc_CrkB2HodEinB6cWww</td>\n",
       "      <td>6377</td>\n",
       "    </tr>\n",
       "    <tr>\n",
       "      <th>2</th>\n",
       "      <td>Ye's Apothecary</td>\n",
       "      <td>5</td>\n",
       "      <td>$$$</td>\n",
       "      <td>https://www.yelp.com/biz/yes-apothecary-new-yo...</td>\n",
       "      <td>40.719450</td>\n",
       "      <td>-73.989800</td>\n",
       "      <td>[]</td>\n",
       "      <td>119 Orchard St, New York, NY 10002</td>\n",
       "      <td>NaN</td>\n",
       "      <td>NaN</td>\n",
       "      <td>1638.756115</td>\n",
       "      <td>[{'text': 'Edy and Josh are the BEST bartender...</td>\n",
       "      <td>3</td>\n",
       "      <td>S, z, e, c, h, u, a, n</td>\n",
       "      <td>8YWLuLUKj0t_0_Xv06UUtw</td>\n",
       "      <td>212</td>\n",
       "    </tr>\n",
       "    <tr>\n",
       "      <th>3</th>\n",
       "      <td>Joe's Shanghai</td>\n",
       "      <td>4</td>\n",
       "      <td>$$</td>\n",
       "      <td>https://www.yelp.com/biz/joes-shanghai-new-yor...</td>\n",
       "      <td>40.715661</td>\n",
       "      <td>-73.996701</td>\n",
       "      <td>['delivery', 'pickup']</td>\n",
       "      <td>46 Bowery St, New York, NY 10013</td>\n",
       "      <td>1.212234e+10</td>\n",
       "      <td>(212) 233-8888</td>\n",
       "      <td>1766.176007</td>\n",
       "      <td>[{'text': 'This is the third stop of our food ...</td>\n",
       "      <td>3</td>\n",
       "      <td>S, h, a, n, g, h, a, i, n, e, s, e</td>\n",
       "      <td>0CjK3esfpFcxIopebzjFxA</td>\n",
       "      <td>7098</td>\n",
       "    </tr>\n",
       "    <tr>\n",
       "      <th>4</th>\n",
       "      <td>Antidote</td>\n",
       "      <td>4</td>\n",
       "      <td>$$</td>\n",
       "      <td>https://www.yelp.com/biz/antidote-brooklyn-2?a...</td>\n",
       "      <td>40.714253</td>\n",
       "      <td>-73.965448</td>\n",
       "      <td>['delivery', 'pickup']</td>\n",
       "      <td>66 S 2nd St, Brooklyn, NY 11249</td>\n",
       "      <td>1.718782e+10</td>\n",
       "      <td>(718) 782-2585</td>\n",
       "      <td>1376.494330</td>\n",
       "      <td>[{'text': 'Excellent service &amp; food! The drink...</td>\n",
       "      <td>3</td>\n",
       "      <td>C, o, c, k, t, a, i, l,  , B, a, r, s</td>\n",
       "      <td>4DInnPhOyvXFbYpUdO0SMQ</td>\n",
       "      <td>325</td>\n",
       "    </tr>\n",
       "  </tbody>\n",
       "</table>\n",
       "</div>"
      ],
      "text/plain": [
       "              Name  Rating Pricing  \\\n",
       "0        Da Andrea       4      $$   \n",
       "1         LoveMama       5      $$   \n",
       "2  Ye's Apothecary       5     $$$   \n",
       "3   Joe's Shanghai       4      $$   \n",
       "4         Antidote       4      $$   \n",
       "\n",
       "                                                 URL   Latitude  Longitude  \\\n",
       "0  https://www.yelp.com/biz/da-andrea-new-york?ad...  40.736218 -73.995970   \n",
       "1  https://www.yelp.com/biz/lovemama-new-york?adj...  40.730409 -73.986127   \n",
       "2  https://www.yelp.com/biz/yes-apothecary-new-yo...  40.719450 -73.989800   \n",
       "3  https://www.yelp.com/biz/joes-shanghai-new-yor...  40.715661 -73.996701   \n",
       "4  https://www.yelp.com/biz/antidote-brooklyn-2?a...  40.714253 -73.965448   \n",
       "\n",
       "                                       Transactions  \\\n",
       "0  ['delivery', 'pickup', 'restaurant_reservation']   \n",
       "1  ['delivery', 'pickup', 'restaurant_reservation']   \n",
       "2                                                []   \n",
       "3                            ['delivery', 'pickup']   \n",
       "4                            ['delivery', 'pickup']   \n",
       "\n",
       "                             Location         Phone   Display Phone  \\\n",
       "0    35 W 13th St, New York, NY 10011  1.212367e+10  (212) 367-1979   \n",
       "1     174 2nd Ave, New York, NY 10003  1.212255e+10  (212) 254-5370   \n",
       "2  119 Orchard St, New York, NY 10002           NaN             NaN   \n",
       "3    46 Bowery St, New York, NY 10013  1.212234e+10  (212) 233-8888   \n",
       "4     66 S 2nd St, Brooklyn, NY 11249  1.718782e+10  (718) 782-2585   \n",
       "\n",
       "      Distance                                            Reviews  \\\n",
       "0  3526.365252  [{'text': 'This small and crowded place seems ...   \n",
       "1  2645.074283  [{'text': 'Absolutely LOVED LoveMama!! As a co...   \n",
       "2  1638.756115  [{'text': 'Edy and Josh are the BEST bartender...   \n",
       "3  1766.176007  [{'text': 'This is the third stop of our food ...   \n",
       "4  1376.494330  [{'text': 'Excellent service & food! The drink...   \n",
       "\n",
       "   Review Count                                Cuisine  \\\n",
       "0             3                    I, t, a, l, i, a, n   \n",
       "1             3                             T, h, a, i   \n",
       "2             3                 S, z, e, c, h, u, a, n   \n",
       "3             3     S, h, a, n, g, h, a, i, n, e, s, e   \n",
       "4             3  C, o, c, k, t, a, i, l,  , B, a, r, s   \n",
       "\n",
       "            Restaurant ID  Number of Reviews  \n",
       "0  hdiuRS9sVZSMReZm4oV5SA               1851  \n",
       "1  jjJc_CrkB2HodEinB6cWww               6377  \n",
       "2  8YWLuLUKj0t_0_Xv06UUtw                212  \n",
       "3  0CjK3esfpFcxIopebzjFxA               7098  \n",
       "4  4DInnPhOyvXFbYpUdO0SMQ                325  "
      ]
     },
     "execution_count": 3,
     "metadata": {},
     "output_type": "execute_result"
    }
   ],
   "source": [
    "final_df = restaurants.drop_duplicates(subset=['URL'])\n",
    "final_df.head()"
   ]
  },
  {
   "cell_type": "code",
   "execution_count": 4,
   "id": "dae40047",
   "metadata": {},
   "outputs": [
    {
     "name": "stdout",
     "output_type": "stream",
     "text": [
      "https://www.yelp.com/biz/itaewon-pocha-new-york?adjust_creative=YOPxpPg1qGggP5qGSctmew&utm_campaign=yelp_api_v3&utm_medium=api_v3_business_search&utm_source=YOPxpPg1qGggP5qGSctmew\n",
      "No problem here\n"
     ]
    }
   ],
   "source": [
    "# select a dataframe where the set is included\n",
    "urls = list(urls_rests)\n",
    "print(urls[0])\n",
    "\n",
    "compare_urls = set(final_df['URL'])\n",
    "\n",
    "# This makes sure that the urls that were initially collected are equal to the urls in the final df\n",
    "if compare_urls == urls_rests:\n",
    "    print('No problem here')\n",
    "else:\n",
    "    print('Kuna shida hapa')"
   ]
  },
  {
   "cell_type": "code",
   "execution_count": 5,
   "id": "701924cb",
   "metadata": {
    "scrolled": true
   },
   "outputs": [
    {
     "data": {
      "text/plain": [
       "['https://www.yelp.com/biz/las-santas-brooklyn-2?adjust_creative=YOPxpPg1qGggP5qGSctmew&utm_campaign=yelp_api_v3&utm_medium=api_v3_business_search&utm_source=YOPxpPg1qGggP5qGSctmew',\n",
       " 'https://www.yelp.com/biz/yakiniku-toraji-new-york?adjust_creative=YOPxpPg1qGggP5qGSctmew&utm_campaign=yelp_api_v3&utm_medium=api_v3_business_search&utm_source=YOPxpPg1qGggP5qGSctmew',\n",
       " 'https://www.yelp.com/biz/veselka-new-york?adjust_creative=YOPxpPg1qGggP5qGSctmew&utm_campaign=yelp_api_v3&utm_medium=api_v3_business_search&utm_source=YOPxpPg1qGggP5qGSctmew',\n",
       " 'https://www.yelp.com/biz/amici-ristorante-new-york-3?adjust_creative=YOPxpPg1qGggP5qGSctmew&utm_campaign=yelp_api_v3&utm_medium=api_v3_business_search&utm_source=YOPxpPg1qGggP5qGSctmew',\n",
       " 'https://www.yelp.com/biz/nonono-new-york-6?adjust_creative=YOPxpPg1qGggP5qGSctmew&utm_campaign=yelp_api_v3&utm_medium=api_v3_business_search&utm_source=YOPxpPg1qGggP5qGSctmew',\n",
       " 'https://www.yelp.com/biz/sagaponack-new-york-6?adjust_creative=YOPxpPg1qGggP5qGSctmew&utm_campaign=yelp_api_v3&utm_medium=api_v3_business_search&utm_source=YOPxpPg1qGggP5qGSctmew',\n",
       " 'https://www.yelp.com/biz/dim-sum-palace-new-york-16?adjust_creative=YOPxpPg1qGggP5qGSctmew&utm_campaign=yelp_api_v3&utm_medium=api_v3_business_search&utm_source=YOPxpPg1qGggP5qGSctmew',\n",
       " 'https://www.yelp.com/biz/osteria-la-baia-new-york?adjust_creative=YOPxpPg1qGggP5qGSctmew&utm_campaign=yelp_api_v3&utm_medium=api_v3_business_search&utm_source=YOPxpPg1qGggP5qGSctmew',\n",
       " 'https://www.yelp.com/biz/wagamama-murray-hill-new-york?adjust_creative=YOPxpPg1qGggP5qGSctmew&utm_campaign=yelp_api_v3&utm_medium=api_v3_business_search&utm_source=YOPxpPg1qGggP5qGSctmew',\n",
       " 'https://www.yelp.com/biz/larina-pastificio-and-vino-brooklyn?adjust_creative=YOPxpPg1qGggP5qGSctmew&utm_campaign=yelp_api_v3&utm_medium=api_v3_business_search&utm_source=YOPxpPg1qGggP5qGSctmew',\n",
       " 'https://www.yelp.com/biz/luchadores-new-york?adjust_creative=YOPxpPg1qGggP5qGSctmew&utm_campaign=yelp_api_v3&utm_medium=api_v3_business_search&utm_source=YOPxpPg1qGggP5qGSctmew',\n",
       " 'https://www.yelp.com/biz/yardbird-brooklyn?adjust_creative=YOPxpPg1qGggP5qGSctmew&utm_campaign=yelp_api_v3&utm_medium=api_v3_business_search&utm_source=YOPxpPg1qGggP5qGSctmew',\n",
       " 'https://www.yelp.com/biz/hometown-bar-b-que-brooklyn-3?adjust_creative=YOPxpPg1qGggP5qGSctmew&utm_campaign=yelp_api_v3&utm_medium=api_v3_business_search&utm_source=YOPxpPg1qGggP5qGSctmew',\n",
       " 'https://www.yelp.com/biz/aurora-brooklyn?adjust_creative=YOPxpPg1qGggP5qGSctmew&utm_campaign=yelp_api_v3&utm_medium=api_v3_business_search&utm_source=YOPxpPg1qGggP5qGSctmew',\n",
       " 'https://www.yelp.com/biz/berimbau-brazilian-kitchen-new-york-2?adjust_creative=YOPxpPg1qGggP5qGSctmew&utm_campaign=yelp_api_v3&utm_medium=api_v3_business_search&utm_source=YOPxpPg1qGggP5qGSctmew',\n",
       " 'https://www.yelp.com/biz/leyla-new-york-4?adjust_creative=YOPxpPg1qGggP5qGSctmew&utm_campaign=yelp_api_v3&utm_medium=api_v3_business_search&utm_source=YOPxpPg1qGggP5qGSctmew',\n",
       " 'https://www.yelp.com/biz/the-grotto-brooklyn?adjust_creative=YOPxpPg1qGggP5qGSctmew&utm_campaign=yelp_api_v3&utm_medium=api_v3_business_search&utm_source=YOPxpPg1qGggP5qGSctmew',\n",
       " 'https://www.yelp.com/biz/azule-cantina-new-york?adjust_creative=YOPxpPg1qGggP5qGSctmew&utm_campaign=yelp_api_v3&utm_medium=api_v3_business_search&utm_source=YOPxpPg1qGggP5qGSctmew',\n",
       " 'https://www.yelp.com/biz/a-un-brooklyn-new-york-2?adjust_creative=YOPxpPg1qGggP5qGSctmew&utm_campaign=yelp_api_v3&utm_medium=api_v3_business_search&utm_source=YOPxpPg1qGggP5qGSctmew',\n",
       " 'https://www.yelp.com/biz/kikis-new-york?adjust_creative=YOPxpPg1qGggP5qGSctmew&utm_campaign=yelp_api_v3&utm_medium=api_v3_business_search&utm_source=YOPxpPg1qGggP5qGSctmew',\n",
       " 'https://www.yelp.com/biz/olly-olly-market-new-york-2?adjust_creative=YOPxpPg1qGggP5qGSctmew&utm_campaign=yelp_api_v3&utm_medium=api_v3_business_search&utm_source=YOPxpPg1qGggP5qGSctmew',\n",
       " 'https://www.yelp.com/biz/the-smith-new-york-2?adjust_creative=YOPxpPg1qGggP5qGSctmew&utm_campaign=yelp_api_v3&utm_medium=api_v3_business_search&utm_source=YOPxpPg1qGggP5qGSctmew',\n",
       " 'https://www.yelp.com/biz/pearl-street-supper-club-brooklyn?adjust_creative=YOPxpPg1qGggP5qGSctmew&utm_campaign=yelp_api_v3&utm_medium=api_v3_business_search&utm_source=YOPxpPg1qGggP5qGSctmew',\n",
       " 'https://www.yelp.com/biz/wan-wan-new-york-2?adjust_creative=YOPxpPg1qGggP5qGSctmew&utm_campaign=yelp_api_v3&utm_medium=api_v3_business_search&utm_source=YOPxpPg1qGggP5qGSctmew',\n",
       " 'https://www.yelp.com/biz/hanoi-house-new-york?adjust_creative=YOPxpPg1qGggP5qGSctmew&utm_campaign=yelp_api_v3&utm_medium=api_v3_business_search&utm_source=YOPxpPg1qGggP5qGSctmew',\n",
       " 'https://www.yelp.com/biz/aita-brooklyn?adjust_creative=YOPxpPg1qGggP5qGSctmew&utm_campaign=yelp_api_v3&utm_medium=api_v3_business_search&utm_source=YOPxpPg1qGggP5qGSctmew',\n",
       " 'https://www.yelp.com/biz/petite-patate-brooklyn?adjust_creative=YOPxpPg1qGggP5qGSctmew&utm_campaign=yelp_api_v3&utm_medium=api_v3_business_search&utm_source=YOPxpPg1qGggP5qGSctmew',\n",
       " 'https://www.yelp.com/biz/forma-pasta-factory-brooklyn-3?adjust_creative=YOPxpPg1qGggP5qGSctmew&utm_campaign=yelp_api_v3&utm_medium=api_v3_business_search&utm_source=YOPxpPg1qGggP5qGSctmew',\n",
       " 'https://www.yelp.com/biz/ursula-bk-brooklyn-2?adjust_creative=YOPxpPg1qGggP5qGSctmew&utm_campaign=yelp_api_v3&utm_medium=api_v3_business_search&utm_source=YOPxpPg1qGggP5qGSctmew',\n",
       " 'https://www.yelp.com/biz/olle-new-york?adjust_creative=YOPxpPg1qGggP5qGSctmew&utm_campaign=yelp_api_v3&utm_medium=api_v3_business_search&utm_source=YOPxpPg1qGggP5qGSctmew',\n",
       " 'https://www.yelp.com/biz/kook-new-york?adjust_creative=YOPxpPg1qGggP5qGSctmew&utm_campaign=yelp_api_v3&utm_medium=api_v3_business_search&utm_source=YOPxpPg1qGggP5qGSctmew',\n",
       " 'https://www.yelp.com/biz/carnegie-diner-new-york?adjust_creative=YOPxpPg1qGggP5qGSctmew&utm_campaign=yelp_api_v3&utm_medium=api_v3_business_search&utm_source=YOPxpPg1qGggP5qGSctmew',\n",
       " 'https://www.yelp.com/biz/loreto-italian-kitchen-and-bar-brooklyn?adjust_creative=YOPxpPg1qGggP5qGSctmew&utm_campaign=yelp_api_v3&utm_medium=api_v3_business_search&utm_source=YOPxpPg1qGggP5qGSctmew',\n",
       " 'https://www.yelp.com/biz/mekong-bk-brooklyn?adjust_creative=YOPxpPg1qGggP5qGSctmew&utm_campaign=yelp_api_v3&utm_medium=api_v3_business_search&utm_source=YOPxpPg1qGggP5qGSctmew',\n",
       " 'https://www.yelp.com/biz/tasty-hand-pulled-noodles-new-york?adjust_creative=YOPxpPg1qGggP5qGSctmew&utm_campaign=yelp_api_v3&utm_medium=api_v3_business_search&utm_source=YOPxpPg1qGggP5qGSctmew']"
      ]
     },
     "execution_count": 5,
     "metadata": {},
     "output_type": "execute_result"
    }
   ],
   "source": [
    "part_9_urls = ['https://www.yelp.com/biz/las-santas-brooklyn-2?adjust_creative=YOPxpPg1qGggP5qGSctmew&utm_campaign=yelp_api_v3&utm_medium=api_v3_business_search&utm_source=YOPxpPg1qGggP5qGSctmew',\n",
    " 'https://www.yelp.com/biz/yakiniku-toraji-new-york?adjust_creative=YOPxpPg1qGggP5qGSctmew&utm_campaign=yelp_api_v3&utm_medium=api_v3_business_search&utm_source=YOPxpPg1qGggP5qGSctmew',\n",
    " 'https://www.yelp.com/biz/veselka-new-york?adjust_creative=YOPxpPg1qGggP5qGSctmew&utm_campaign=yelp_api_v3&utm_medium=api_v3_business_search&utm_source=YOPxpPg1qGggP5qGSctmew',\n",
    " 'https://www.yelp.com/biz/amici-ristorante-new-york-3?adjust_creative=YOPxpPg1qGggP5qGSctmew&utm_campaign=yelp_api_v3&utm_medium=api_v3_business_search&utm_source=YOPxpPg1qGggP5qGSctmew',\n",
    " 'https://www.yelp.com/biz/nonono-new-york-6?adjust_creative=YOPxpPg1qGggP5qGSctmew&utm_campaign=yelp_api_v3&utm_medium=api_v3_business_search&utm_source=YOPxpPg1qGggP5qGSctmew',\n",
    " 'https://www.yelp.com/biz/sagaponack-new-york-6?adjust_creative=YOPxpPg1qGggP5qGSctmew&utm_campaign=yelp_api_v3&utm_medium=api_v3_business_search&utm_source=YOPxpPg1qGggP5qGSctmew',\n",
    " 'https://www.yelp.com/biz/dim-sum-palace-new-york-16?adjust_creative=YOPxpPg1qGggP5qGSctmew&utm_campaign=yelp_api_v3&utm_medium=api_v3_business_search&utm_source=YOPxpPg1qGggP5qGSctmew',\n",
    " 'https://www.yelp.com/biz/osteria-la-baia-new-york?adjust_creative=YOPxpPg1qGggP5qGSctmew&utm_campaign=yelp_api_v3&utm_medium=api_v3_business_search&utm_source=YOPxpPg1qGggP5qGSctmew',\n",
    " 'https://www.yelp.com/biz/wagamama-murray-hill-new-york?adjust_creative=YOPxpPg1qGggP5qGSctmew&utm_campaign=yelp_api_v3&utm_medium=api_v3_business_search&utm_source=YOPxpPg1qGggP5qGSctmew',\n",
    " 'https://www.yelp.com/biz/larina-pastificio-and-vino-brooklyn?adjust_creative=YOPxpPg1qGggP5qGSctmew&utm_campaign=yelp_api_v3&utm_medium=api_v3_business_search&utm_source=YOPxpPg1qGggP5qGSctmew',\n",
    " 'https://www.yelp.com/biz/luchadores-new-york?adjust_creative=YOPxpPg1qGggP5qGSctmew&utm_campaign=yelp_api_v3&utm_medium=api_v3_business_search&utm_source=YOPxpPg1qGggP5qGSctmew',\n",
    " 'https://www.yelp.com/biz/yardbird-brooklyn?adjust_creative=YOPxpPg1qGggP5qGSctmew&utm_campaign=yelp_api_v3&utm_medium=api_v3_business_search&utm_source=YOPxpPg1qGggP5qGSctmew',\n",
    " 'https://www.yelp.com/biz/hometown-bar-b-que-brooklyn-3?adjust_creative=YOPxpPg1qGggP5qGSctmew&utm_campaign=yelp_api_v3&utm_medium=api_v3_business_search&utm_source=YOPxpPg1qGggP5qGSctmew',\n",
    " 'https://www.yelp.com/biz/aurora-brooklyn?adjust_creative=YOPxpPg1qGggP5qGSctmew&utm_campaign=yelp_api_v3&utm_medium=api_v3_business_search&utm_source=YOPxpPg1qGggP5qGSctmew',\n",
    " 'https://www.yelp.com/biz/berimbau-brazilian-kitchen-new-york-2?adjust_creative=YOPxpPg1qGggP5qGSctmew&utm_campaign=yelp_api_v3&utm_medium=api_v3_business_search&utm_source=YOPxpPg1qGggP5qGSctmew',\n",
    " 'https://www.yelp.com/biz/leyla-new-york-4?adjust_creative=YOPxpPg1qGggP5qGSctmew&utm_campaign=yelp_api_v3&utm_medium=api_v3_business_search&utm_source=YOPxpPg1qGggP5qGSctmew',\n",
    " 'https://www.yelp.com/biz/the-grotto-brooklyn?adjust_creative=YOPxpPg1qGggP5qGSctmew&utm_campaign=yelp_api_v3&utm_medium=api_v3_business_search&utm_source=YOPxpPg1qGggP5qGSctmew',\n",
    " 'https://www.yelp.com/biz/azule-cantina-new-york?adjust_creative=YOPxpPg1qGggP5qGSctmew&utm_campaign=yelp_api_v3&utm_medium=api_v3_business_search&utm_source=YOPxpPg1qGggP5qGSctmew',\n",
    " 'https://www.yelp.com/biz/a-un-brooklyn-new-york-2?adjust_creative=YOPxpPg1qGggP5qGSctmew&utm_campaign=yelp_api_v3&utm_medium=api_v3_business_search&utm_source=YOPxpPg1qGggP5qGSctmew',\n",
    " 'https://www.yelp.com/biz/kikis-new-york?adjust_creative=YOPxpPg1qGggP5qGSctmew&utm_campaign=yelp_api_v3&utm_medium=api_v3_business_search&utm_source=YOPxpPg1qGggP5qGSctmew',\n",
    " 'https://www.yelp.com/biz/olly-olly-market-new-york-2?adjust_creative=YOPxpPg1qGggP5qGSctmew&utm_campaign=yelp_api_v3&utm_medium=api_v3_business_search&utm_source=YOPxpPg1qGggP5qGSctmew',\n",
    " 'https://www.yelp.com/biz/the-smith-new-york-2?adjust_creative=YOPxpPg1qGggP5qGSctmew&utm_campaign=yelp_api_v3&utm_medium=api_v3_business_search&utm_source=YOPxpPg1qGggP5qGSctmew',\n",
    " 'https://www.yelp.com/biz/pearl-street-supper-club-brooklyn?adjust_creative=YOPxpPg1qGggP5qGSctmew&utm_campaign=yelp_api_v3&utm_medium=api_v3_business_search&utm_source=YOPxpPg1qGggP5qGSctmew',\n",
    " 'https://www.yelp.com/biz/wan-wan-new-york-2?adjust_creative=YOPxpPg1qGggP5qGSctmew&utm_campaign=yelp_api_v3&utm_medium=api_v3_business_search&utm_source=YOPxpPg1qGggP5qGSctmew',\n",
    " 'https://www.yelp.com/biz/hanoi-house-new-york?adjust_creative=YOPxpPg1qGggP5qGSctmew&utm_campaign=yelp_api_v3&utm_medium=api_v3_business_search&utm_source=YOPxpPg1qGggP5qGSctmew',\n",
    " 'https://www.yelp.com/biz/aita-brooklyn?adjust_creative=YOPxpPg1qGggP5qGSctmew&utm_campaign=yelp_api_v3&utm_medium=api_v3_business_search&utm_source=YOPxpPg1qGggP5qGSctmew',\n",
    " 'https://www.yelp.com/biz/petite-patate-brooklyn?adjust_creative=YOPxpPg1qGggP5qGSctmew&utm_campaign=yelp_api_v3&utm_medium=api_v3_business_search&utm_source=YOPxpPg1qGggP5qGSctmew',\n",
    " 'https://www.yelp.com/biz/forma-pasta-factory-brooklyn-3?adjust_creative=YOPxpPg1qGggP5qGSctmew&utm_campaign=yelp_api_v3&utm_medium=api_v3_business_search&utm_source=YOPxpPg1qGggP5qGSctmew',\n",
    " 'https://www.yelp.com/biz/ursula-bk-brooklyn-2?adjust_creative=YOPxpPg1qGggP5qGSctmew&utm_campaign=yelp_api_v3&utm_medium=api_v3_business_search&utm_source=YOPxpPg1qGggP5qGSctmew',\n",
    " 'https://www.yelp.com/biz/olle-new-york?adjust_creative=YOPxpPg1qGggP5qGSctmew&utm_campaign=yelp_api_v3&utm_medium=api_v3_business_search&utm_source=YOPxpPg1qGggP5qGSctmew',\n",
    " 'https://www.yelp.com/biz/kook-new-york?adjust_creative=YOPxpPg1qGggP5qGSctmew&utm_campaign=yelp_api_v3&utm_medium=api_v3_business_search&utm_source=YOPxpPg1qGggP5qGSctmew',\n",
    " 'https://www.yelp.com/biz/carnegie-diner-new-york?adjust_creative=YOPxpPg1qGggP5qGSctmew&utm_campaign=yelp_api_v3&utm_medium=api_v3_business_search&utm_source=YOPxpPg1qGggP5qGSctmew',\n",
    " 'https://www.yelp.com/biz/loreto-italian-kitchen-and-bar-brooklyn?adjust_creative=YOPxpPg1qGggP5qGSctmew&utm_campaign=yelp_api_v3&utm_medium=api_v3_business_search&utm_source=YOPxpPg1qGggP5qGSctmew',\n",
    " 'https://www.yelp.com/biz/mekong-bk-brooklyn?adjust_creative=YOPxpPg1qGggP5qGSctmew&utm_campaign=yelp_api_v3&utm_medium=api_v3_business_search&utm_source=YOPxpPg1qGggP5qGSctmew',\n",
    " 'https://www.yelp.com/biz/tasty-hand-pulled-noodles-new-york?adjust_creative=YOPxpPg1qGggP5qGSctmew&utm_campaign=yelp_api_v3&utm_medium=api_v3_business_search&utm_source=YOPxpPg1qGggP5qGSctmew']\n",
    "part_9_urls"
   ]
  },
  {
   "cell_type": "code",
   "execution_count": 12,
   "id": "648fcbbd",
   "metadata": {
    "scrolled": true
   },
   "outputs": [
    {
     "data": {
      "text/plain": [
       "['https://www.yelp.com/biz/cobble-fish-new-york-2?adjust_creative=YOPxpPg1qGggP5qGSctmew&utm_campaign=yelp_api_v3&utm_medium=api_v3_business_search&utm_source=YOPxpPg1qGggP5qGSctmew',\n",
       " 'https://www.yelp.com/biz/maman-new-york-22?adjust_creative=YOPxpPg1qGggP5qGSctmew&utm_campaign=yelp_api_v3&utm_medium=api_v3_business_search&utm_source=YOPxpPg1qGggP5qGSctmew',\n",
       " 'https://www.yelp.com/biz/boulton-and-watt-new-york?adjust_creative=YOPxpPg1qGggP5qGSctmew&utm_campaign=yelp_api_v3&utm_medium=api_v3_business_search&utm_source=YOPxpPg1qGggP5qGSctmew',\n",
       " 'https://www.yelp.com/biz/hometown-hotpot-and-bbq-new-york-2?adjust_creative=YOPxpPg1qGggP5qGSctmew&utm_campaign=yelp_api_v3&utm_medium=api_v3_business_search&utm_source=YOPxpPg1qGggP5qGSctmew',\n",
       " 'https://www.yelp.com/biz/the-cactus-shop-brooklyn?adjust_creative=YOPxpPg1qGggP5qGSctmew&utm_campaign=yelp_api_v3&utm_medium=api_v3_business_search&utm_source=YOPxpPg1qGggP5qGSctmew',\n",
       " 'https://www.yelp.com/biz/soothr-new-york-2?adjust_creative=YOPxpPg1qGggP5qGSctmew&utm_campaign=yelp_api_v3&utm_medium=api_v3_business_search&utm_source=YOPxpPg1qGggP5qGSctmew',\n",
       " 'https://www.yelp.com/biz/somtum-der-redhook-brooklyn-2?adjust_creative=YOPxpPg1qGggP5qGSctmew&utm_campaign=yelp_api_v3&utm_medium=api_v3_business_search&utm_source=YOPxpPg1qGggP5qGSctmew',\n",
       " 'https://www.yelp.com/biz/red-feather-new-york?adjust_creative=YOPxpPg1qGggP5qGSctmew&utm_campaign=yelp_api_v3&utm_medium=api_v3_business_search&utm_source=YOPxpPg1qGggP5qGSctmew',\n",
       " 'https://www.yelp.com/biz/jajaja-mexicana-new-york?adjust_creative=YOPxpPg1qGggP5qGSctmew&utm_campaign=yelp_api_v3&utm_medium=api_v3_business_search&utm_source=YOPxpPg1qGggP5qGSctmew',\n",
       " 'https://www.yelp.com/biz/place-des-f%C3%AAtes-brooklyn?adjust_creative=YOPxpPg1qGggP5qGSctmew&utm_campaign=yelp_api_v3&utm_medium=api_v3_business_search&utm_source=YOPxpPg1qGggP5qGSctmew',\n",
       " 'https://www.yelp.com/biz/hak-box-new-york-2?adjust_creative=YOPxpPg1qGggP5qGSctmew&utm_campaign=yelp_api_v3&utm_medium=api_v3_business_search&utm_source=YOPxpPg1qGggP5qGSctmew',\n",
       " 'https://www.yelp.com/biz/12-chairs-cafe-new-york?adjust_creative=YOPxpPg1qGggP5qGSctmew&utm_campaign=yelp_api_v3&utm_medium=api_v3_business_search&utm_source=YOPxpPg1qGggP5qGSctmew',\n",
       " 'https://www.yelp.com/biz/senshi-ramen-new-york?adjust_creative=YOPxpPg1qGggP5qGSctmew&utm_campaign=yelp_api_v3&utm_medium=api_v3_business_search&utm_source=YOPxpPg1qGggP5qGSctmew',\n",
       " 'https://www.yelp.com/biz/taiwan-pork-chop-house-new-york?adjust_creative=YOPxpPg1qGggP5qGSctmew&utm_campaign=yelp_api_v3&utm_medium=api_v3_business_search&utm_source=YOPxpPg1qGggP5qGSctmew',\n",
       " 'https://www.yelp.com/biz/mr-mista-oh-new-york?adjust_creative=YOPxpPg1qGggP5qGSctmew&utm_campaign=yelp_api_v3&utm_medium=api_v3_business_search&utm_source=YOPxpPg1qGggP5qGSctmew',\n",
       " 'https://www.yelp.com/biz/take31-new-york?adjust_creative=YOPxpPg1qGggP5qGSctmew&utm_campaign=yelp_api_v3&utm_medium=api_v3_business_search&utm_source=YOPxpPg1qGggP5qGSctmew',\n",
       " 'https://www.yelp.com/biz/bartusi-new-york?adjust_creative=YOPxpPg1qGggP5qGSctmew&utm_campaign=yelp_api_v3&utm_medium=api_v3_business_search&utm_source=YOPxpPg1qGggP5qGSctmew',\n",
       " 'https://www.yelp.com/biz/lula-mae-brooklyn?adjust_creative=YOPxpPg1qGggP5qGSctmew&utm_campaign=yelp_api_v3&utm_medium=api_v3_business_search&utm_source=YOPxpPg1qGggP5qGSctmew',\n",
       " 'https://www.yelp.com/biz/tin-building-by-jean-georges-new-york?adjust_creative=YOPxpPg1qGggP5qGSctmew&utm_campaign=yelp_api_v3&utm_medium=api_v3_business_search&utm_source=YOPxpPg1qGggP5qGSctmew',\n",
       " 'https://www.yelp.com/biz/wok-wok-southeast-asian-kitchen-new-york?adjust_creative=YOPxpPg1qGggP5qGSctmew&utm_campaign=yelp_api_v3&utm_medium=api_v3_business_search&utm_source=YOPxpPg1qGggP5qGSctmew',\n",
       " 'https://www.yelp.com/biz/osamil-new-york?adjust_creative=YOPxpPg1qGggP5qGSctmew&utm_campaign=yelp_api_v3&utm_medium=api_v3_business_search&utm_source=YOPxpPg1qGggP5qGSctmew',\n",
       " 'https://www.yelp.com/biz/gramercy-tavern-new-york?adjust_creative=YOPxpPg1qGggP5qGSctmew&utm_campaign=yelp_api_v3&utm_medium=api_v3_business_search&utm_source=YOPxpPg1qGggP5qGSctmew',\n",
       " 'https://www.yelp.com/biz/buddakan-new-york?adjust_creative=YOPxpPg1qGggP5qGSctmew&utm_campaign=yelp_api_v3&utm_medium=api_v3_business_search&utm_source=YOPxpPg1qGggP5qGSctmew',\n",
       " 'https://www.yelp.com/biz/jajaja-mexicana-brooklyn?adjust_creative=YOPxpPg1qGggP5qGSctmew&utm_campaign=yelp_api_v3&utm_medium=api_v3_business_search&utm_source=YOPxpPg1qGggP5qGSctmew',\n",
       " 'https://www.yelp.com/biz/joes-home-of-soup-dumplings-new-york?adjust_creative=YOPxpPg1qGggP5qGSctmew&utm_campaign=yelp_api_v3&utm_medium=api_v3_business_search&utm_source=YOPxpPg1qGggP5qGSctmew',\n",
       " 'https://www.yelp.com/biz/dim-sum-palace-new-york-9?adjust_creative=YOPxpPg1qGggP5qGSctmew&utm_campaign=yelp_api_v3&utm_medium=api_v3_business_search&utm_source=YOPxpPg1qGggP5qGSctmew',\n",
       " 'https://www.yelp.com/biz/lupa-new-york?adjust_creative=YOPxpPg1qGggP5qGSctmew&utm_campaign=yelp_api_v3&utm_medium=api_v3_business_search&utm_source=YOPxpPg1qGggP5qGSctmew',\n",
       " 'https://www.yelp.com/biz/fukurou-brooklyn-new-york-2?adjust_creative=YOPxpPg1qGggP5qGSctmew&utm_campaign=yelp_api_v3&utm_medium=api_v3_business_search&utm_source=YOPxpPg1qGggP5qGSctmew',\n",
       " 'https://www.yelp.com/biz/the-lavaux-new-york?adjust_creative=YOPxpPg1qGggP5qGSctmew&utm_campaign=yelp_api_v3&utm_medium=api_v3_business_search&utm_source=YOPxpPg1qGggP5qGSctmew',\n",
       " 'https://www.yelp.com/biz/san-marzano-pasta-fresca-new-york?adjust_creative=YOPxpPg1qGggP5qGSctmew&utm_campaign=yelp_api_v3&utm_medium=api_v3_business_search&utm_source=YOPxpPg1qGggP5qGSctmew',\n",
       " 'https://www.yelp.com/biz/maru-2-new-york-4?adjust_creative=YOPxpPg1qGggP5qGSctmew&utm_campaign=yelp_api_v3&utm_medium=api_v3_business_search&utm_source=YOPxpPg1qGggP5qGSctmew',\n",
       " 'https://www.yelp.com/biz/dunhuang-miss-noodles-brooklyn?adjust_creative=YOPxpPg1qGggP5qGSctmew&utm_campaign=yelp_api_v3&utm_medium=api_v3_business_search&utm_source=YOPxpPg1qGggP5qGSctmew',\n",
       " 'https://www.yelp.com/biz/pierre-loti-mediterranean-kitchen-and-bar-new-york?adjust_creative=YOPxpPg1qGggP5qGSctmew&utm_campaign=yelp_api_v3&utm_medium=api_v3_business_search&utm_source=YOPxpPg1qGggP5qGSctmew',\n",
       " 'https://www.yelp.com/biz/xolo-brooklyn?adjust_creative=YOPxpPg1qGggP5qGSctmew&utm_campaign=yelp_api_v3&utm_medium=api_v3_business_search&utm_source=YOPxpPg1qGggP5qGSctmew',\n",
       " 'https://www.yelp.com/biz/boutros-brooklyn?adjust_creative=YOPxpPg1qGggP5qGSctmew&utm_campaign=yelp_api_v3&utm_medium=api_v3_business_search&utm_source=YOPxpPg1qGggP5qGSctmew',\n",
       " 'https://www.yelp.com/biz/oiji-mi-new-york-2?adjust_creative=YOPxpPg1qGggP5qGSctmew&utm_campaign=yelp_api_v3&utm_medium=api_v3_business_search&utm_source=YOPxpPg1qGggP5qGSctmew',\n",
       " 'https://www.yelp.com/biz/eataly-nyc-flatiron-new-york-3?adjust_creative=YOPxpPg1qGggP5qGSctmew&utm_campaign=yelp_api_v3&utm_medium=api_v3_business_search&utm_source=YOPxpPg1qGggP5qGSctmew',\n",
       " 'https://www.yelp.com/biz/eva-s-x-cinco-de-mayo-new-york?adjust_creative=YOPxpPg1qGggP5qGSctmew&utm_campaign=yelp_api_v3&utm_medium=api_v3_business_search&utm_source=YOPxpPg1qGggP5qGSctmew',\n",
       " 'https://www.yelp.com/biz/endswell-bar-and-bistro-brooklyn?adjust_creative=YOPxpPg1qGggP5qGSctmew&utm_campaign=yelp_api_v3&utm_medium=api_v3_business_search&utm_source=YOPxpPg1qGggP5qGSctmew',\n",
       " 'https://www.yelp.com/biz/noods-n-chill-brooklyn?adjust_creative=YOPxpPg1qGggP5qGSctmew&utm_campaign=yelp_api_v3&utm_medium=api_v3_business_search&utm_source=YOPxpPg1qGggP5qGSctmew',\n",
       " 'https://www.yelp.com/biz/peaches-hothouse-brooklyn?adjust_creative=YOPxpPg1qGggP5qGSctmew&utm_campaign=yelp_api_v3&utm_medium=api_v3_business_search&utm_source=YOPxpPg1qGggP5qGSctmew',\n",
       " 'https://www.yelp.com/biz/bobbi-s-italian-beef-brooklyn?adjust_creative=YOPxpPg1qGggP5qGSctmew&utm_campaign=yelp_api_v3&utm_medium=api_v3_business_search&utm_source=YOPxpPg1qGggP5qGSctmew',\n",
       " 'https://www.yelp.com/biz/hakata-tonton-new-york-7?adjust_creative=YOPxpPg1qGggP5qGSctmew&utm_campaign=yelp_api_v3&utm_medium=api_v3_business_search&utm_source=YOPxpPg1qGggP5qGSctmew',\n",
       " 'https://www.yelp.com/biz/shanghai-21-new-york-2?adjust_creative=YOPxpPg1qGggP5qGSctmew&utm_campaign=yelp_api_v3&utm_medium=api_v3_business_search&utm_source=YOPxpPg1qGggP5qGSctmew',\n",
       " 'https://www.yelp.com/biz/botte-brooklyn-brooklyn?adjust_creative=YOPxpPg1qGggP5qGSctmew&utm_campaign=yelp_api_v3&utm_medium=api_v3_business_search&utm_source=YOPxpPg1qGggP5qGSctmew',\n",
       " 'https://www.yelp.com/biz/upstate-craft-beer-and-oyster-bar-new-york-4?adjust_creative=YOPxpPg1qGggP5qGSctmew&utm_campaign=yelp_api_v3&utm_medium=api_v3_business_search&utm_source=YOPxpPg1qGggP5qGSctmew',\n",
       " 'https://www.yelp.com/biz/bulbap-grill-new-york?adjust_creative=YOPxpPg1qGggP5qGSctmew&utm_campaign=yelp_api_v3&utm_medium=api_v3_business_search&utm_source=YOPxpPg1qGggP5qGSctmew',\n",
       " 'https://www.yelp.com/biz/kettl-brooklyn-3?adjust_creative=YOPxpPg1qGggP5qGSctmew&utm_campaign=yelp_api_v3&utm_medium=api_v3_business_search&utm_source=YOPxpPg1qGggP5qGSctmew',\n",
       " 'https://www.yelp.com/biz/cookshop-new-york?adjust_creative=YOPxpPg1qGggP5qGSctmew&utm_campaign=yelp_api_v3&utm_medium=api_v3_business_search&utm_source=YOPxpPg1qGggP5qGSctmew',\n",
       " 'https://www.yelp.com/biz/udon-lab-new-york?adjust_creative=YOPxpPg1qGggP5qGSctmew&utm_campaign=yelp_api_v3&utm_medium=api_v3_business_search&utm_source=YOPxpPg1qGggP5qGSctmew']"
      ]
     },
     "execution_count": 12,
     "metadata": {},
     "output_type": "execute_result"
    }
   ],
   "source": [
    "part_1_urls = urls[:50]\n",
    "part_1_urls"
   ]
  },
  {
   "cell_type": "code",
   "execution_count": 13,
   "id": "626de513",
   "metadata": {
    "scrolled": true
   },
   "outputs": [
    {
     "data": {
      "text/plain": [
       "['https://www.yelp.com/biz/counter-and-bodega-new-york?adjust_creative=YOPxpPg1qGggP5qGSctmew&utm_campaign=yelp_api_v3&utm_medium=api_v3_business_search&utm_source=YOPxpPg1qGggP5qGSctmew',\n",
       " 'https://www.yelp.com/biz/david-burke-timeout-market-brooklyn?adjust_creative=YOPxpPg1qGggP5qGSctmew&utm_campaign=yelp_api_v3&utm_medium=api_v3_business_search&utm_source=YOPxpPg1qGggP5qGSctmew',\n",
       " 'https://www.yelp.com/biz/wah-fung-no-1-new-york-2?adjust_creative=YOPxpPg1qGggP5qGSctmew&utm_campaign=yelp_api_v3&utm_medium=api_v3_business_search&utm_source=YOPxpPg1qGggP5qGSctmew',\n",
       " 'https://www.yelp.com/biz/clover-hill-brooklyn?adjust_creative=YOPxpPg1qGggP5qGSctmew&utm_campaign=yelp_api_v3&utm_medium=api_v3_business_search&utm_source=YOPxpPg1qGggP5qGSctmew',\n",
       " 'https://www.yelp.com/biz/fulgurances-brooklyn?adjust_creative=YOPxpPg1qGggP5qGSctmew&utm_campaign=yelp_api_v3&utm_medium=api_v3_business_search&utm_source=YOPxpPg1qGggP5qGSctmew',\n",
       " 'https://www.yelp.com/biz/egg-shop-new-york-3?adjust_creative=YOPxpPg1qGggP5qGSctmew&utm_campaign=yelp_api_v3&utm_medium=api_v3_business_search&utm_source=YOPxpPg1qGggP5qGSctmew',\n",
       " 'https://www.yelp.com/biz/miznon-new-york?adjust_creative=YOPxpPg1qGggP5qGSctmew&utm_campaign=yelp_api_v3&utm_medium=api_v3_business_search&utm_source=YOPxpPg1qGggP5qGSctmew',\n",
       " 'https://www.yelp.com/biz/the-buttery-bar-brooklyn?adjust_creative=YOPxpPg1qGggP5qGSctmew&utm_campaign=yelp_api_v3&utm_medium=api_v3_business_search&utm_source=YOPxpPg1qGggP5qGSctmew',\n",
       " 'https://www.yelp.com/biz/bar-crudo-brooklyn-2?adjust_creative=YOPxpPg1qGggP5qGSctmew&utm_campaign=yelp_api_v3&utm_medium=api_v3_business_search&utm_source=YOPxpPg1qGggP5qGSctmew',\n",
       " 'https://www.yelp.com/biz/mad-for-chicken-brooklyn?adjust_creative=YOPxpPg1qGggP5qGSctmew&utm_campaign=yelp_api_v3&utm_medium=api_v3_business_search&utm_source=YOPxpPg1qGggP5qGSctmew',\n",
       " 'https://www.yelp.com/biz/naked-tomato-new-york-2?adjust_creative=YOPxpPg1qGggP5qGSctmew&utm_campaign=yelp_api_v3&utm_medium=api_v3_business_search&utm_source=YOPxpPg1qGggP5qGSctmew',\n",
       " 'https://www.yelp.com/biz/chalong-new-york?adjust_creative=YOPxpPg1qGggP5qGSctmew&utm_campaign=yelp_api_v3&utm_medium=api_v3_business_search&utm_source=YOPxpPg1qGggP5qGSctmew',\n",
       " 'https://www.yelp.com/biz/cool-world-brooklyn?adjust_creative=YOPxpPg1qGggP5qGSctmew&utm_campaign=yelp_api_v3&utm_medium=api_v3_business_search&utm_source=YOPxpPg1qGggP5qGSctmew',\n",
       " 'https://www.yelp.com/biz/little-mo-brooklyn?adjust_creative=YOPxpPg1qGggP5qGSctmew&utm_campaign=yelp_api_v3&utm_medium=api_v3_business_search&utm_source=YOPxpPg1qGggP5qGSctmew',\n",
       " 'https://www.yelp.com/biz/5ive-spice-new-york-4?adjust_creative=YOPxpPg1qGggP5qGSctmew&utm_campaign=yelp_api_v3&utm_medium=api_v3_business_search&utm_source=YOPxpPg1qGggP5qGSctmew',\n",
       " 'https://www.yelp.com/biz/the-office-of-mr-moto-new-york?adjust_creative=YOPxpPg1qGggP5qGSctmew&utm_campaign=yelp_api_v3&utm_medium=api_v3_business_search&utm_source=YOPxpPg1qGggP5qGSctmew',\n",
       " 'https://www.yelp.com/biz/au-zaatar-new-york-5?adjust_creative=YOPxpPg1qGggP5qGSctmew&utm_campaign=yelp_api_v3&utm_medium=api_v3_business_search&utm_source=YOPxpPg1qGggP5qGSctmew',\n",
       " 'https://www.yelp.com/biz/deux-chats-brooklyn?adjust_creative=YOPxpPg1qGggP5qGSctmew&utm_campaign=yelp_api_v3&utm_medium=api_v3_business_search&utm_source=YOPxpPg1qGggP5qGSctmew',\n",
       " 'https://www.yelp.com/biz/kalye-bistro-woodside?adjust_creative=YOPxpPg1qGggP5qGSctmew&utm_campaign=yelp_api_v3&utm_medium=api_v3_business_search&utm_source=YOPxpPg1qGggP5qGSctmew',\n",
       " 'https://www.yelp.com/biz/caf%C3%A9-mish-mosh-new-york?adjust_creative=YOPxpPg1qGggP5qGSctmew&utm_campaign=yelp_api_v3&utm_medium=api_v3_business_search&utm_source=YOPxpPg1qGggP5qGSctmew',\n",
       " 'https://www.yelp.com/biz/the-binc-brooklyn?adjust_creative=YOPxpPg1qGggP5qGSctmew&utm_campaign=yelp_api_v3&utm_medium=api_v3_business_search&utm_source=YOPxpPg1qGggP5qGSctmew',\n",
       " 'https://www.yelp.com/biz/lalou-brooklyn?adjust_creative=YOPxpPg1qGggP5qGSctmew&utm_campaign=yelp_api_v3&utm_medium=api_v3_business_search&utm_source=YOPxpPg1qGggP5qGSctmew',\n",
       " 'https://www.yelp.com/biz/naya-brooklyn-commons-brooklyn?adjust_creative=YOPxpPg1qGggP5qGSctmew&utm_campaign=yelp_api_v3&utm_medium=api_v3_business_search&utm_source=YOPxpPg1qGggP5qGSctmew',\n",
       " 'https://www.yelp.com/biz/raku-new-york-7?adjust_creative=YOPxpPg1qGggP5qGSctmew&utm_campaign=yelp_api_v3&utm_medium=api_v3_business_search&utm_source=YOPxpPg1qGggP5qGSctmew',\n",
       " 'https://www.yelp.com/biz/douska-new-york?adjust_creative=YOPxpPg1qGggP5qGSctmew&utm_campaign=yelp_api_v3&utm_medium=api_v3_business_search&utm_source=YOPxpPg1qGggP5qGSctmew',\n",
       " 'https://www.yelp.com/biz/pecking-house-brooklyn-2?adjust_creative=YOPxpPg1qGggP5qGSctmew&utm_campaign=yelp_api_v3&utm_medium=api_v3_business_search&utm_source=YOPxpPg1qGggP5qGSctmew',\n",
       " 'https://www.yelp.com/biz/creminis-aperitivo-and-kitchen-brooklyn?adjust_creative=YOPxpPg1qGggP5qGSctmew&utm_campaign=yelp_api_v3&utm_medium=api_v3_business_search&utm_source=YOPxpPg1qGggP5qGSctmew',\n",
       " 'https://www.yelp.com/biz/marlow-and-sons-brooklyn-2?adjust_creative=YOPxpPg1qGggP5qGSctmew&utm_campaign=yelp_api_v3&utm_medium=api_v3_business_search&utm_source=YOPxpPg1qGggP5qGSctmew',\n",
       " 'https://www.yelp.com/biz/chinah-brooklyn?adjust_creative=YOPxpPg1qGggP5qGSctmew&utm_campaign=yelp_api_v3&utm_medium=api_v3_business_search&utm_source=YOPxpPg1qGggP5qGSctmew',\n",
       " 'https://www.yelp.com/biz/bites-of-xian-brooklyn?adjust_creative=YOPxpPg1qGggP5qGSctmew&utm_campaign=yelp_api_v3&utm_medium=api_v3_business_search&utm_source=YOPxpPg1qGggP5qGSctmew',\n",
       " 'https://www.yelp.com/biz/manousheh-bleecker-new-york-8?adjust_creative=YOPxpPg1qGggP5qGSctmew&utm_campaign=yelp_api_v3&utm_medium=api_v3_business_search&utm_source=YOPxpPg1qGggP5qGSctmew',\n",
       " 'https://www.yelp.com/biz/do-not-disturb-new-york?adjust_creative=YOPxpPg1qGggP5qGSctmew&utm_campaign=yelp_api_v3&utm_medium=api_v3_business_search&utm_source=YOPxpPg1qGggP5qGSctmew',\n",
       " 'https://www.yelp.com/biz/tacoria-jersey-city-3?adjust_creative=YOPxpPg1qGggP5qGSctmew&utm_campaign=yelp_api_v3&utm_medium=api_v3_business_search&utm_source=YOPxpPg1qGggP5qGSctmew',\n",
       " 'https://www.yelp.com/biz/the-malt-house-new-york-3?adjust_creative=YOPxpPg1qGggP5qGSctmew&utm_campaign=yelp_api_v3&utm_medium=api_v3_business_search&utm_source=YOPxpPg1qGggP5qGSctmew',\n",
       " 'https://www.yelp.com/biz/double-chicken-please-new-york?adjust_creative=YOPxpPg1qGggP5qGSctmew&utm_campaign=yelp_api_v3&utm_medium=api_v3_business_search&utm_source=YOPxpPg1qGggP5qGSctmew',\n",
       " 'https://www.yelp.com/biz/omusubi-gonbei-new-york-3?adjust_creative=YOPxpPg1qGggP5qGSctmew&utm_campaign=yelp_api_v3&utm_medium=api_v3_business_search&utm_source=YOPxpPg1qGggP5qGSctmew',\n",
       " 'https://www.yelp.com/biz/okonomi-brooklyn?adjust_creative=YOPxpPg1qGggP5qGSctmew&utm_campaign=yelp_api_v3&utm_medium=api_v3_business_search&utm_source=YOPxpPg1qGggP5qGSctmew',\n",
       " 'https://www.yelp.com/biz/lukes-lobster-brooklyn-bridge-park-brooklyn-2?adjust_creative=YOPxpPg1qGggP5qGSctmew&utm_campaign=yelp_api_v3&utm_medium=api_v3_business_search&utm_source=YOPxpPg1qGggP5qGSctmew',\n",
       " 'https://www.yelp.com/biz/verde-on-smith-brooklyn-4?adjust_creative=YOPxpPg1qGggP5qGSctmew&utm_campaign=yelp_api_v3&utm_medium=api_v3_business_search&utm_source=YOPxpPg1qGggP5qGSctmew',\n",
       " 'https://www.yelp.com/biz/potluck-club-new-york-2?adjust_creative=YOPxpPg1qGggP5qGSctmew&utm_campaign=yelp_api_v3&utm_medium=api_v3_business_search&utm_source=YOPxpPg1qGggP5qGSctmew',\n",
       " 'https://www.yelp.com/biz/boots-and-bones-jersey-city?adjust_creative=YOPxpPg1qGggP5qGSctmew&utm_campaign=yelp_api_v3&utm_medium=api_v3_business_search&utm_source=YOPxpPg1qGggP5qGSctmew',\n",
       " 'https://www.yelp.com/biz/salt-charcoal-brooklyn?adjust_creative=YOPxpPg1qGggP5qGSctmew&utm_campaign=yelp_api_v3&utm_medium=api_v3_business_search&utm_source=YOPxpPg1qGggP5qGSctmew',\n",
       " 'https://www.yelp.com/biz/xus-public-house-new-york-2?adjust_creative=YOPxpPg1qGggP5qGSctmew&utm_campaign=yelp_api_v3&utm_medium=api_v3_business_search&utm_source=YOPxpPg1qGggP5qGSctmew',\n",
       " 'https://www.yelp.com/biz/petisco-brazuca-new-york?adjust_creative=YOPxpPg1qGggP5qGSctmew&utm_campaign=yelp_api_v3&utm_medium=api_v3_business_search&utm_source=YOPxpPg1qGggP5qGSctmew',\n",
       " 'https://www.yelp.com/biz/kebaya-new-york?adjust_creative=YOPxpPg1qGggP5qGSctmew&utm_campaign=yelp_api_v3&utm_medium=api_v3_business_search&utm_source=YOPxpPg1qGggP5qGSctmew',\n",
       " 'https://www.yelp.com/biz/selene-new-york?adjust_creative=YOPxpPg1qGggP5qGSctmew&utm_campaign=yelp_api_v3&utm_medium=api_v3_business_search&utm_source=YOPxpPg1qGggP5qGSctmew',\n",
       " 'https://www.yelp.com/biz/sushi-lab-rooftop-new-york-2?adjust_creative=YOPxpPg1qGggP5qGSctmew&utm_campaign=yelp_api_v3&utm_medium=api_v3_business_search&utm_source=YOPxpPg1qGggP5qGSctmew',\n",
       " 'https://www.yelp.com/biz/menya-and-izakaya-brooklyn-2?adjust_creative=YOPxpPg1qGggP5qGSctmew&utm_campaign=yelp_api_v3&utm_medium=api_v3_business_search&utm_source=YOPxpPg1qGggP5qGSctmew',\n",
       " 'https://www.yelp.com/biz/jua-new-york?adjust_creative=YOPxpPg1qGggP5qGSctmew&utm_campaign=yelp_api_v3&utm_medium=api_v3_business_search&utm_source=YOPxpPg1qGggP5qGSctmew',\n",
       " 'https://www.yelp.com/biz/fat-fowl-brooklyn?adjust_creative=YOPxpPg1qGggP5qGSctmew&utm_campaign=yelp_api_v3&utm_medium=api_v3_business_search&utm_source=YOPxpPg1qGggP5qGSctmew']"
      ]
     },
     "execution_count": 13,
     "metadata": {},
     "output_type": "execute_result"
    }
   ],
   "source": [
    "part_2_urls = urls[50:100]\n",
    "part_2_urls"
   ]
  },
  {
   "cell_type": "code",
   "execution_count": 14,
   "id": "334ffb77",
   "metadata": {
    "scrolled": true
   },
   "outputs": [
    {
     "data": {
      "text/plain": [
       "['https://www.yelp.com/biz/reyna-new-york?adjust_creative=YOPxpPg1qGggP5qGSctmew&utm_campaign=yelp_api_v3&utm_medium=api_v3_business_search&utm_source=YOPxpPg1qGggP5qGSctmew',\n",
       " 'https://www.yelp.com/biz/jacobs-pickles-new-york?adjust_creative=YOPxpPg1qGggP5qGSctmew&utm_campaign=yelp_api_v3&utm_medium=api_v3_business_search&utm_source=YOPxpPg1qGggP5qGSctmew',\n",
       " 'https://www.yelp.com/biz/la-nonna-ristorante-and-bar-brooklyn?adjust_creative=YOPxpPg1qGggP5qGSctmew&utm_campaign=yelp_api_v3&utm_medium=api_v3_business_search&utm_source=YOPxpPg1qGggP5qGSctmew',\n",
       " 'https://www.yelp.com/biz/anything-at-all-new-york-2?adjust_creative=YOPxpPg1qGggP5qGSctmew&utm_campaign=yelp_api_v3&utm_medium=api_v3_business_search&utm_source=YOPxpPg1qGggP5qGSctmew',\n",
       " 'https://www.yelp.com/biz/sanmiwago-new-york-5?adjust_creative=YOPxpPg1qGggP5qGSctmew&utm_campaign=yelp_api_v3&utm_medium=api_v3_business_search&utm_source=YOPxpPg1qGggP5qGSctmew',\n",
       " 'https://www.yelp.com/biz/tuk-tuk-long-island-city?adjust_creative=YOPxpPg1qGggP5qGSctmew&utm_campaign=yelp_api_v3&utm_medium=api_v3_business_search&utm_source=YOPxpPg1qGggP5qGSctmew',\n",
       " 'https://www.yelp.com/biz/ginger-and-lemongrass-new-york-2?adjust_creative=YOPxpPg1qGggP5qGSctmew&utm_campaign=yelp_api_v3&utm_medium=api_v3_business_search&utm_source=YOPxpPg1qGggP5qGSctmew',\n",
       " 'https://www.yelp.com/biz/excuse-my-french-new-york?adjust_creative=YOPxpPg1qGggP5qGSctmew&utm_campaign=yelp_api_v3&utm_medium=api_v3_business_search&utm_source=YOPxpPg1qGggP5qGSctmew',\n",
       " 'https://www.yelp.com/biz/awesum-dimsum-new-york-2?adjust_creative=YOPxpPg1qGggP5qGSctmew&utm_campaign=yelp_api_v3&utm_medium=api_v3_business_search&utm_source=YOPxpPg1qGggP5qGSctmew',\n",
       " 'https://www.yelp.com/biz/canal-street-market-new-york?adjust_creative=YOPxpPg1qGggP5qGSctmew&utm_campaign=yelp_api_v3&utm_medium=api_v3_business_search&utm_source=YOPxpPg1qGggP5qGSctmew',\n",
       " 'https://www.yelp.com/biz/katsu-hama-new-york?adjust_creative=YOPxpPg1qGggP5qGSctmew&utm_campaign=yelp_api_v3&utm_medium=api_v3_business_search&utm_source=YOPxpPg1qGggP5qGSctmew',\n",
       " 'https://www.yelp.com/biz/benemon-new-york?adjust_creative=YOPxpPg1qGggP5qGSctmew&utm_campaign=yelp_api_v3&utm_medium=api_v3_business_search&utm_source=YOPxpPg1qGggP5qGSctmew',\n",
       " 'https://www.yelp.com/biz/balaboosta-new-york-3?adjust_creative=YOPxpPg1qGggP5qGSctmew&utm_campaign=yelp_api_v3&utm_medium=api_v3_business_search&utm_source=YOPxpPg1qGggP5qGSctmew',\n",
       " 'https://www.yelp.com/biz/mesiba-brooklyn?adjust_creative=YOPxpPg1qGggP5qGSctmew&utm_campaign=yelp_api_v3&utm_medium=api_v3_business_search&utm_source=YOPxpPg1qGggP5qGSctmew',\n",
       " 'https://www.yelp.com/biz/cafe-katja-new-york?adjust_creative=YOPxpPg1qGggP5qGSctmew&utm_campaign=yelp_api_v3&utm_medium=api_v3_business_search&utm_source=YOPxpPg1qGggP5qGSctmew',\n",
       " 'https://www.yelp.com/biz/karasu-brooklyn-2?adjust_creative=YOPxpPg1qGggP5qGSctmew&utm_campaign=yelp_api_v3&utm_medium=api_v3_business_search&utm_source=YOPxpPg1qGggP5qGSctmew',\n",
       " 'https://www.yelp.com/biz/mercato-new-york?adjust_creative=YOPxpPg1qGggP5qGSctmew&utm_campaign=yelp_api_v3&utm_medium=api_v3_business_search&utm_source=YOPxpPg1qGggP5qGSctmew',\n",
       " 'https://www.yelp.com/biz/thai-holic-brooklyn?adjust_creative=YOPxpPg1qGggP5qGSctmew&utm_campaign=yelp_api_v3&utm_medium=api_v3_business_search&utm_source=YOPxpPg1qGggP5qGSctmew',\n",
       " 'https://www.yelp.com/biz/java-indonesian-restaurant-brooklyn?adjust_creative=YOPxpPg1qGggP5qGSctmew&utm_campaign=yelp_api_v3&utm_medium=api_v3_business_search&utm_source=YOPxpPg1qGggP5qGSctmew',\n",
       " 'https://www.yelp.com/biz/dinner-party-brooklyn?adjust_creative=YOPxpPg1qGggP5qGSctmew&utm_campaign=yelp_api_v3&utm_medium=api_v3_business_search&utm_source=YOPxpPg1qGggP5qGSctmew',\n",
       " 'https://www.yelp.com/biz/good-thanks-cafe-new-york?adjust_creative=YOPxpPg1qGggP5qGSctmew&utm_campaign=yelp_api_v3&utm_medium=api_v3_business_search&utm_source=YOPxpPg1qGggP5qGSctmew',\n",
       " 'https://www.yelp.com/biz/electric-lemon-new-york?adjust_creative=YOPxpPg1qGggP5qGSctmew&utm_campaign=yelp_api_v3&utm_medium=api_v3_business_search&utm_source=YOPxpPg1qGggP5qGSctmew',\n",
       " 'https://www.yelp.com/biz/sushi-gallery-brooklyn?adjust_creative=YOPxpPg1qGggP5qGSctmew&utm_campaign=yelp_api_v3&utm_medium=api_v3_business_search&utm_source=YOPxpPg1qGggP5qGSctmew',\n",
       " 'https://www.yelp.com/biz/keg-and-lantern-brewing-company-brooklyn-2?adjust_creative=YOPxpPg1qGggP5qGSctmew&utm_campaign=yelp_api_v3&utm_medium=api_v3_business_search&utm_source=YOPxpPg1qGggP5qGSctmew',\n",
       " 'https://www.yelp.com/biz/macao-trading-company-new-york?adjust_creative=YOPxpPg1qGggP5qGSctmew&utm_campaign=yelp_api_v3&utm_medium=api_v3_business_search&utm_source=YOPxpPg1qGggP5qGSctmew',\n",
       " 'https://www.yelp.com/biz/what-the-fish-queens?adjust_creative=YOPxpPg1qGggP5qGSctmew&utm_campaign=yelp_api_v3&utm_medium=api_v3_business_search&utm_source=YOPxpPg1qGggP5qGSctmew',\n",
       " 'https://www.yelp.com/biz/hillstone-restaurant-new-york?adjust_creative=YOPxpPg1qGggP5qGSctmew&utm_campaign=yelp_api_v3&utm_medium=api_v3_business_search&utm_source=YOPxpPg1qGggP5qGSctmew',\n",
       " 'https://www.yelp.com/biz/butler-brooklyn-2?adjust_creative=YOPxpPg1qGggP5qGSctmew&utm_campaign=yelp_api_v3&utm_medium=api_v3_business_search&utm_source=YOPxpPg1qGggP5qGSctmew',\n",
       " 'https://www.yelp.com/biz/madame-vo-new-york?adjust_creative=YOPxpPg1qGggP5qGSctmew&utm_campaign=yelp_api_v3&utm_medium=api_v3_business_search&utm_source=YOPxpPg1qGggP5qGSctmew',\n",
       " 'https://www.yelp.com/biz/izakaya-juraku-new-york-2?adjust_creative=YOPxpPg1qGggP5qGSctmew&utm_campaign=yelp_api_v3&utm_medium=api_v3_business_search&utm_source=YOPxpPg1qGggP5qGSctmew',\n",
       " 'https://www.yelp.com/biz/french-louie-brooklyn?adjust_creative=YOPxpPg1qGggP5qGSctmew&utm_campaign=yelp_api_v3&utm_medium=api_v3_business_search&utm_source=YOPxpPg1qGggP5qGSctmew',\n",
       " 'https://www.yelp.com/biz/7th-street-burger-new-york-9?adjust_creative=YOPxpPg1qGggP5qGSctmew&utm_campaign=yelp_api_v3&utm_medium=api_v3_business_search&utm_source=YOPxpPg1qGggP5qGSctmew',\n",
       " 'https://www.yelp.com/biz/steam-shanghai-asian-fusion-new-york-2?adjust_creative=YOPxpPg1qGggP5qGSctmew&utm_campaign=yelp_api_v3&utm_medium=api_v3_business_search&utm_source=YOPxpPg1qGggP5qGSctmew',\n",
       " 'https://www.yelp.com/biz/spaghetti-incident-new-york-2?adjust_creative=YOPxpPg1qGggP5qGSctmew&utm_campaign=yelp_api_v3&utm_medium=api_v3_business_search&utm_source=YOPxpPg1qGggP5qGSctmew',\n",
       " 'https://www.yelp.com/biz/coppelia-new-york?adjust_creative=YOPxpPg1qGggP5qGSctmew&utm_campaign=yelp_api_v3&utm_medium=api_v3_business_search&utm_source=YOPxpPg1qGggP5qGSctmew',\n",
       " 'https://www.yelp.com/biz/pilot-brooklyn?adjust_creative=YOPxpPg1qGggP5qGSctmew&utm_campaign=yelp_api_v3&utm_medium=api_v3_business_search&utm_source=YOPxpPg1qGggP5qGSctmew',\n",
       " 'https://www.yelp.com/biz/lava-shawarma-new-york?adjust_creative=YOPxpPg1qGggP5qGSctmew&utm_campaign=yelp_api_v3&utm_medium=api_v3_business_search&utm_source=YOPxpPg1qGggP5qGSctmew',\n",
       " 'https://www.yelp.com/biz/momofuku-noodle-bar-uptown-new-york?adjust_creative=YOPxpPg1qGggP5qGSctmew&utm_campaign=yelp_api_v3&utm_medium=api_v3_business_search&utm_source=YOPxpPg1qGggP5qGSctmew',\n",
       " 'https://www.yelp.com/biz/yakitori-totto-new-york?adjust_creative=YOPxpPg1qGggP5qGSctmew&utm_campaign=yelp_api_v3&utm_medium=api_v3_business_search&utm_source=YOPxpPg1qGggP5qGSctmew',\n",
       " 'https://www.yelp.com/biz/lighthouse-brooklyn-2?adjust_creative=YOPxpPg1qGggP5qGSctmew&utm_campaign=yelp_api_v3&utm_medium=api_v3_business_search&utm_source=YOPxpPg1qGggP5qGSctmew',\n",
       " 'https://www.yelp.com/biz/the-hihi-room-new-york?adjust_creative=YOPxpPg1qGggP5qGSctmew&utm_campaign=yelp_api_v3&utm_medium=api_v3_business_search&utm_source=YOPxpPg1qGggP5qGSctmew',\n",
       " 'https://www.yelp.com/biz/williamsburg-market-new-york?adjust_creative=YOPxpPg1qGggP5qGSctmew&utm_campaign=yelp_api_v3&utm_medium=api_v3_business_search&utm_source=YOPxpPg1qGggP5qGSctmew',\n",
       " 'https://www.yelp.com/biz/dollar-hits-new-york-new-york?adjust_creative=YOPxpPg1qGggP5qGSctmew&utm_campaign=yelp_api_v3&utm_medium=api_v3_business_search&utm_source=YOPxpPg1qGggP5qGSctmew',\n",
       " 'https://www.yelp.com/biz/la-chilaquer%C3%ADa-new-york-new-york?adjust_creative=YOPxpPg1qGggP5qGSctmew&utm_campaign=yelp_api_v3&utm_medium=api_v3_business_search&utm_source=YOPxpPg1qGggP5qGSctmew',\n",
       " 'https://www.yelp.com/biz/yin-ji-chang-fen-rice-roll-new-york?adjust_creative=YOPxpPg1qGggP5qGSctmew&utm_campaign=yelp_api_v3&utm_medium=api_v3_business_search&utm_source=YOPxpPg1qGggP5qGSctmew',\n",
       " 'https://www.yelp.com/biz/shabushabu-mayumon-new-york-5?adjust_creative=YOPxpPg1qGggP5qGSctmew&utm_campaign=yelp_api_v3&utm_medium=api_v3_business_search&utm_source=YOPxpPg1qGggP5qGSctmew',\n",
       " 'https://www.yelp.com/biz/sun-hing-lung-co-new-york-3?adjust_creative=YOPxpPg1qGggP5qGSctmew&utm_campaign=yelp_api_v3&utm_medium=api_v3_business_search&utm_source=YOPxpPg1qGggP5qGSctmew',\n",
       " 'https://www.yelp.com/biz/liberty-bagels-new-york?adjust_creative=YOPxpPg1qGggP5qGSctmew&utm_campaign=yelp_api_v3&utm_medium=api_v3_business_search&utm_source=YOPxpPg1qGggP5qGSctmew',\n",
       " 'https://www.yelp.com/biz/momoya-soho-new-york?adjust_creative=YOPxpPg1qGggP5qGSctmew&utm_campaign=yelp_api_v3&utm_medium=api_v3_business_search&utm_source=YOPxpPg1qGggP5qGSctmew',\n",
       " 'https://www.yelp.com/biz/casa-nono-brooklyn?adjust_creative=YOPxpPg1qGggP5qGSctmew&utm_campaign=yelp_api_v3&utm_medium=api_v3_business_search&utm_source=YOPxpPg1qGggP5qGSctmew']"
      ]
     },
     "execution_count": 14,
     "metadata": {},
     "output_type": "execute_result"
    }
   ],
   "source": [
    "part_3_urls = urls[100:150]\n",
    "part_3_urls"
   ]
  },
  {
   "cell_type": "code",
   "execution_count": 15,
   "id": "5b2ff718",
   "metadata": {
    "scrolled": true
   },
   "outputs": [
    {
     "data": {
      "text/plain": [
       "['https://www.yelp.com/biz/wenwen-brooklyn-2?adjust_creative=YOPxpPg1qGggP5qGSctmew&utm_campaign=yelp_api_v3&utm_medium=api_v3_business_search&utm_source=YOPxpPg1qGggP5qGSctmew',\n",
       " 'https://www.yelp.com/biz/wadadli-jerk-brooklyn-3?adjust_creative=YOPxpPg1qGggP5qGSctmew&utm_campaign=yelp_api_v3&utm_medium=api_v3_business_search&utm_source=YOPxpPg1qGggP5qGSctmew',\n",
       " 'https://www.yelp.com/biz/panz%C3%B3n-brooklyn?adjust_creative=YOPxpPg1qGggP5qGSctmew&utm_campaign=yelp_api_v3&utm_medium=api_v3_business_search&utm_source=YOPxpPg1qGggP5qGSctmew',\n",
       " 'https://www.yelp.com/biz/cornbread-brooklyn-new-york?adjust_creative=YOPxpPg1qGggP5qGSctmew&utm_campaign=yelp_api_v3&utm_medium=api_v3_business_search&utm_source=YOPxpPg1qGggP5qGSctmew',\n",
       " 'https://www.yelp.com/biz/fishmarket-ii-new-york?adjust_creative=YOPxpPg1qGggP5qGSctmew&utm_campaign=yelp_api_v3&utm_medium=api_v3_business_search&utm_source=YOPxpPg1qGggP5qGSctmew',\n",
       " 'https://www.yelp.com/biz/a-pasta-bar-new-york?adjust_creative=YOPxpPg1qGggP5qGSctmew&utm_campaign=yelp_api_v3&utm_medium=api_v3_business_search&utm_source=YOPxpPg1qGggP5qGSctmew',\n",
       " 'https://www.yelp.com/biz/peter-luger-brooklyn-2?adjust_creative=YOPxpPg1qGggP5qGSctmew&utm_campaign=yelp_api_v3&utm_medium=api_v3_business_search&utm_source=YOPxpPg1qGggP5qGSctmew',\n",
       " 'https://www.yelp.com/biz/t%C3%A1n-new-york?adjust_creative=YOPxpPg1qGggP5qGSctmew&utm_campaign=yelp_api_v3&utm_medium=api_v3_business_search&utm_source=YOPxpPg1qGggP5qGSctmew',\n",
       " 'https://www.yelp.com/biz/black-walnut-brooklyn-2?adjust_creative=YOPxpPg1qGggP5qGSctmew&utm_campaign=yelp_api_v3&utm_medium=api_v3_business_search&utm_source=YOPxpPg1qGggP5qGSctmew',\n",
       " 'https://www.yelp.com/biz/dim-sum-palace-new-york-8?adjust_creative=YOPxpPg1qGggP5qGSctmew&utm_campaign=yelp_api_v3&utm_medium=api_v3_business_search&utm_source=YOPxpPg1qGggP5qGSctmew',\n",
       " 'https://www.yelp.com/biz/davelle-new-york-2?adjust_creative=YOPxpPg1qGggP5qGSctmew&utm_campaign=yelp_api_v3&utm_medium=api_v3_business_search&utm_source=YOPxpPg1qGggP5qGSctmew',\n",
       " 'https://www.yelp.com/biz/sweet-talk-brooklyn?adjust_creative=YOPxpPg1qGggP5qGSctmew&utm_campaign=yelp_api_v3&utm_medium=api_v3_business_search&utm_source=YOPxpPg1qGggP5qGSctmew',\n",
       " 'https://www.yelp.com/biz/oxalis-brooklyn?adjust_creative=YOPxpPg1qGggP5qGSctmew&utm_campaign=yelp_api_v3&utm_medium=api_v3_business_search&utm_source=YOPxpPg1qGggP5qGSctmew',\n",
       " 'https://www.yelp.com/biz/virginias-new-york-2?adjust_creative=YOPxpPg1qGggP5qGSctmew&utm_campaign=yelp_api_v3&utm_medium=api_v3_business_search&utm_source=YOPxpPg1qGggP5qGSctmew',\n",
       " 'https://www.yelp.com/biz/jerrells-betr-brgr-hoboken-hoboken?adjust_creative=YOPxpPg1qGggP5qGSctmew&utm_campaign=yelp_api_v3&utm_medium=api_v3_business_search&utm_source=YOPxpPg1qGggP5qGSctmew',\n",
       " 'https://www.yelp.com/biz/maite-brooklyn?adjust_creative=YOPxpPg1qGggP5qGSctmew&utm_campaign=yelp_api_v3&utm_medium=api_v3_business_search&utm_source=YOPxpPg1qGggP5qGSctmew',\n",
       " 'https://www.yelp.com/biz/cantina-33-ridgewood?adjust_creative=YOPxpPg1qGggP5qGSctmew&utm_campaign=yelp_api_v3&utm_medium=api_v3_business_search&utm_source=YOPxpPg1qGggP5qGSctmew',\n",
       " 'https://www.yelp.com/biz/rice-and-miso-brooklyn?adjust_creative=YOPxpPg1qGggP5qGSctmew&utm_campaign=yelp_api_v3&utm_medium=api_v3_business_search&utm_source=YOPxpPg1qGggP5qGSctmew',\n",
       " 'https://www.yelp.com/biz/los-tacos-no-1-new-york-3?adjust_creative=YOPxpPg1qGggP5qGSctmew&utm_campaign=yelp_api_v3&utm_medium=api_v3_business_search&utm_source=YOPxpPg1qGggP5qGSctmew',\n",
       " 'https://www.yelp.com/biz/white-oak-tavern-new-york-2?adjust_creative=YOPxpPg1qGggP5qGSctmew&utm_campaign=yelp_api_v3&utm_medium=api_v3_business_search&utm_source=YOPxpPg1qGggP5qGSctmew',\n",
       " 'https://www.yelp.com/biz/tokuyamatcha-and-onigirazu-bar-new-york-3?adjust_creative=YOPxpPg1qGggP5qGSctmew&utm_campaign=yelp_api_v3&utm_medium=api_v3_business_search&utm_source=YOPxpPg1qGggP5qGSctmew',\n",
       " 'https://www.yelp.com/biz/purepecha-brooklyn?adjust_creative=YOPxpPg1qGggP5qGSctmew&utm_campaign=yelp_api_v3&utm_medium=api_v3_business_search&utm_source=YOPxpPg1qGggP5qGSctmew',\n",
       " 'https://www.yelp.com/biz/mayree-new-york?adjust_creative=YOPxpPg1qGggP5qGSctmew&utm_campaign=yelp_api_v3&utm_medium=api_v3_business_search&utm_source=YOPxpPg1qGggP5qGSctmew',\n",
       " 'https://www.yelp.com/biz/the-frenchmans-dough-new-york?adjust_creative=YOPxpPg1qGggP5qGSctmew&utm_campaign=yelp_api_v3&utm_medium=api_v3_business_search&utm_source=YOPxpPg1qGggP5qGSctmew',\n",
       " 'https://www.yelp.com/biz/locanda-verde-new-york?adjust_creative=YOPxpPg1qGggP5qGSctmew&utm_campaign=yelp_api_v3&utm_medium=api_v3_business_search&utm_source=YOPxpPg1qGggP5qGSctmew',\n",
       " 'https://www.yelp.com/biz/da-gennaro-new-york?adjust_creative=YOPxpPg1qGggP5qGSctmew&utm_campaign=yelp_api_v3&utm_medium=api_v3_business_search&utm_source=YOPxpPg1qGggP5qGSctmew',\n",
       " 'https://www.yelp.com/biz/kalye-new-york?adjust_creative=YOPxpPg1qGggP5qGSctmew&utm_campaign=yelp_api_v3&utm_medium=api_v3_business_search&utm_source=YOPxpPg1qGggP5qGSctmew',\n",
       " 'https://www.yelp.com/biz/yakiniku-west-new-york?adjust_creative=YOPxpPg1qGggP5qGSctmew&utm_campaign=yelp_api_v3&utm_medium=api_v3_business_search&utm_source=YOPxpPg1qGggP5qGSctmew',\n",
       " 'https://www.yelp.com/biz/salma-new-york?adjust_creative=YOPxpPg1qGggP5qGSctmew&utm_campaign=yelp_api_v3&utm_medium=api_v3_business_search&utm_source=YOPxpPg1qGggP5qGSctmew',\n",
       " 'https://www.yelp.com/biz/piccola-cucina-osteria-new-york-2?adjust_creative=YOPxpPg1qGggP5qGSctmew&utm_campaign=yelp_api_v3&utm_medium=api_v3_business_search&utm_source=YOPxpPg1qGggP5qGSctmew',\n",
       " 'https://www.yelp.com/biz/medusa-the-greek-brooklyn?adjust_creative=YOPxpPg1qGggP5qGSctmew&utm_campaign=yelp_api_v3&utm_medium=api_v3_business_search&utm_source=YOPxpPg1qGggP5qGSctmew',\n",
       " 'https://www.yelp.com/biz/sunflower-gramercy-new-york-3?adjust_creative=YOPxpPg1qGggP5qGSctmew&utm_campaign=yelp_api_v3&utm_medium=api_v3_business_search&utm_source=YOPxpPg1qGggP5qGSctmew',\n",
       " 'https://www.yelp.com/biz/chama-mama-new-york?adjust_creative=YOPxpPg1qGggP5qGSctmew&utm_campaign=yelp_api_v3&utm_medium=api_v3_business_search&utm_source=YOPxpPg1qGggP5qGSctmew',\n",
       " 'https://www.yelp.com/biz/aska-brooklyn-3?adjust_creative=YOPxpPg1qGggP5qGSctmew&utm_campaign=yelp_api_v3&utm_medium=api_v3_business_search&utm_source=YOPxpPg1qGggP5qGSctmew',\n",
       " 'https://www.yelp.com/biz/monarch-restaurant-brooklyn?adjust_creative=YOPxpPg1qGggP5qGSctmew&utm_campaign=yelp_api_v3&utm_medium=api_v3_business_search&utm_source=YOPxpPg1qGggP5qGSctmew',\n",
       " 'https://www.yelp.com/biz/emily-west-village-new-york?adjust_creative=YOPxpPg1qGggP5qGSctmew&utm_campaign=yelp_api_v3&utm_medium=api_v3_business_search&utm_source=YOPxpPg1qGggP5qGSctmew',\n",
       " 'https://www.yelp.com/biz/silky-kitchen-new-york-3?adjust_creative=YOPxpPg1qGggP5qGSctmew&utm_campaign=yelp_api_v3&utm_medium=api_v3_business_search&utm_source=YOPxpPg1qGggP5qGSctmew',\n",
       " 'https://www.yelp.com/biz/saraghina-caff%C3%A8-brooklyn-2?adjust_creative=YOPxpPg1qGggP5qGSctmew&utm_campaign=yelp_api_v3&utm_medium=api_v3_business_search&utm_source=YOPxpPg1qGggP5qGSctmew',\n",
       " 'https://www.yelp.com/biz/h-and-h-reserve-brooklyn?adjust_creative=YOPxpPg1qGggP5qGSctmew&utm_campaign=yelp_api_v3&utm_medium=api_v3_business_search&utm_source=YOPxpPg1qGggP5qGSctmew',\n",
       " 'https://www.yelp.com/biz/seeds-and-weeds-new-york?adjust_creative=YOPxpPg1qGggP5qGSctmew&utm_campaign=yelp_api_v3&utm_medium=api_v3_business_search&utm_source=YOPxpPg1qGggP5qGSctmew',\n",
       " 'https://www.yelp.com/biz/p-j-clarkes-new-york-8?adjust_creative=YOPxpPg1qGggP5qGSctmew&utm_campaign=yelp_api_v3&utm_medium=api_v3_business_search&utm_source=YOPxpPg1qGggP5qGSctmew',\n",
       " 'https://www.yelp.com/biz/spicy-moon-east-village-new-york?adjust_creative=YOPxpPg1qGggP5qGSctmew&utm_campaign=yelp_api_v3&utm_medium=api_v3_business_search&utm_source=YOPxpPg1qGggP5qGSctmew',\n",
       " 'https://www.yelp.com/biz/gersi-brooklyn?adjust_creative=YOPxpPg1qGggP5qGSctmew&utm_campaign=yelp_api_v3&utm_medium=api_v3_business_search&utm_source=YOPxpPg1qGggP5qGSctmew',\n",
       " 'https://www.yelp.com/biz/uluh-new-york?adjust_creative=YOPxpPg1qGggP5qGSctmew&utm_campaign=yelp_api_v3&utm_medium=api_v3_business_search&utm_source=YOPxpPg1qGggP5qGSctmew',\n",
       " 'https://www.yelp.com/biz/popular-new-york-3?adjust_creative=YOPxpPg1qGggP5qGSctmew&utm_campaign=yelp_api_v3&utm_medium=api_v3_business_search&utm_source=YOPxpPg1qGggP5qGSctmew',\n",
       " 'https://www.yelp.com/biz/zest-ramen-new-york-8?adjust_creative=YOPxpPg1qGggP5qGSctmew&utm_campaign=yelp_api_v3&utm_medium=api_v3_business_search&utm_source=YOPxpPg1qGggP5qGSctmew',\n",
       " 'https://www.yelp.com/biz/da-andrea-new-york?adjust_creative=YOPxpPg1qGggP5qGSctmew&utm_campaign=yelp_api_v3&utm_medium=api_v3_business_search&utm_source=YOPxpPg1qGggP5qGSctmew',\n",
       " 'https://www.yelp.com/biz/robertas-brooklyn-2?adjust_creative=YOPxpPg1qGggP5qGSctmew&utm_campaign=yelp_api_v3&utm_medium=api_v3_business_search&utm_source=YOPxpPg1qGggP5qGSctmew',\n",
       " 'https://www.yelp.com/biz/am%C3%A9lie-new-york?adjust_creative=YOPxpPg1qGggP5qGSctmew&utm_campaign=yelp_api_v3&utm_medium=api_v3_business_search&utm_source=YOPxpPg1qGggP5qGSctmew',\n",
       " 'https://www.yelp.com/biz/katzs-delicatessen-new-york?adjust_creative=YOPxpPg1qGggP5qGSctmew&utm_campaign=yelp_api_v3&utm_medium=api_v3_business_search&utm_source=YOPxpPg1qGggP5qGSctmew']"
      ]
     },
     "execution_count": 15,
     "metadata": {},
     "output_type": "execute_result"
    }
   ],
   "source": [
    "part_4_urls = urls[150:200]\n",
    "part_4_urls"
   ]
  },
  {
   "cell_type": "code",
   "execution_count": 16,
   "id": "600c015b",
   "metadata": {
    "scrolled": true
   },
   "outputs": [
    {
     "data": {
      "text/plain": [
       "['https://www.yelp.com/biz/aoi-kitchen-new-york?adjust_creative=YOPxpPg1qGggP5qGSctmew&utm_campaign=yelp_api_v3&utm_medium=api_v3_business_search&utm_source=YOPxpPg1qGggP5qGSctmew',\n",
       " 'https://www.yelp.com/biz/nowon-new-york-3?adjust_creative=YOPxpPg1qGggP5qGSctmew&utm_campaign=yelp_api_v3&utm_medium=api_v3_business_search&utm_source=YOPxpPg1qGggP5qGSctmew',\n",
       " 'https://www.yelp.com/biz/xian-famous-foods-brooklyn-12?adjust_creative=YOPxpPg1qGggP5qGSctmew&utm_campaign=yelp_api_v3&utm_medium=api_v3_business_search&utm_source=YOPxpPg1qGggP5qGSctmew',\n",
       " 'https://www.yelp.com/biz/m%E1%BA%AFm-new-york-2?adjust_creative=YOPxpPg1qGggP5qGSctmew&utm_campaign=yelp_api_v3&utm_medium=api_v3_business_search&utm_source=YOPxpPg1qGggP5qGSctmew',\n",
       " 'https://www.yelp.com/biz/bar-mario-brooklyn?adjust_creative=YOPxpPg1qGggP5qGSctmew&utm_campaign=yelp_api_v3&utm_medium=api_v3_business_search&utm_source=YOPxpPg1qGggP5qGSctmew',\n",
       " 'https://www.yelp.com/biz/the-greek-new-york-2?adjust_creative=YOPxpPg1qGggP5qGSctmew&utm_campaign=yelp_api_v3&utm_medium=api_v3_business_search&utm_source=YOPxpPg1qGggP5qGSctmew',\n",
       " 'https://www.yelp.com/biz/kyuramen-chinatown-new-york-3?adjust_creative=YOPxpPg1qGggP5qGSctmew&utm_campaign=yelp_api_v3&utm_medium=api_v3_business_search&utm_source=YOPxpPg1qGggP5qGSctmew',\n",
       " 'https://www.yelp.com/biz/fong-on-new-york?adjust_creative=YOPxpPg1qGggP5qGSctmew&utm_campaign=yelp_api_v3&utm_medium=api_v3_business_search&utm_source=YOPxpPg1qGggP5qGSctmew',\n",
       " 'https://www.yelp.com/biz/hoek-pizza-brooklyn-2?adjust_creative=YOPxpPg1qGggP5qGSctmew&utm_campaign=yelp_api_v3&utm_medium=api_v3_business_search&utm_source=YOPxpPg1qGggP5qGSctmew',\n",
       " 'https://www.yelp.com/biz/go-go-curry-new-york-33?adjust_creative=YOPxpPg1qGggP5qGSctmew&utm_campaign=yelp_api_v3&utm_medium=api_v3_business_search&utm_source=YOPxpPg1qGggP5qGSctmew',\n",
       " 'https://www.yelp.com/biz/bites-of-xian-new-york?adjust_creative=YOPxpPg1qGggP5qGSctmew&utm_campaign=yelp_api_v3&utm_medium=api_v3_business_search&utm_source=YOPxpPg1qGggP5qGSctmew',\n",
       " 'https://www.yelp.com/biz/taiwanese-yummy-new-york?adjust_creative=YOPxpPg1qGggP5qGSctmew&utm_campaign=yelp_api_v3&utm_medium=api_v3_business_search&utm_source=YOPxpPg1qGggP5qGSctmew',\n",
       " 'https://www.yelp.com/biz/gage-and-tollner-brooklyn?adjust_creative=YOPxpPg1qGggP5qGSctmew&utm_campaign=yelp_api_v3&utm_medium=api_v3_business_search&utm_source=YOPxpPg1qGggP5qGSctmew',\n",
       " 'https://www.yelp.com/biz/vinyl-steakhouse-new-york?adjust_creative=YOPxpPg1qGggP5qGSctmew&utm_campaign=yelp_api_v3&utm_medium=api_v3_business_search&utm_source=YOPxpPg1qGggP5qGSctmew',\n",
       " 'https://www.yelp.com/biz/city-vineyard-new-york-2?adjust_creative=YOPxpPg1qGggP5qGSctmew&utm_campaign=yelp_api_v3&utm_medium=api_v3_business_search&utm_source=YOPxpPg1qGggP5qGSctmew',\n",
       " 'https://www.yelp.com/biz/naro-new-york?adjust_creative=YOPxpPg1qGggP5qGSctmew&utm_campaign=yelp_api_v3&utm_medium=api_v3_business_search&utm_source=YOPxpPg1qGggP5qGSctmew',\n",
       " 'https://www.yelp.com/biz/ariari-new-york?adjust_creative=YOPxpPg1qGggP5qGSctmew&utm_campaign=yelp_api_v3&utm_medium=api_v3_business_search&utm_source=YOPxpPg1qGggP5qGSctmew',\n",
       " 'https://www.yelp.com/biz/colonia-verde-brooklyn?adjust_creative=YOPxpPg1qGggP5qGSctmew&utm_campaign=yelp_api_v3&utm_medium=api_v3_business_search&utm_source=YOPxpPg1qGggP5qGSctmew',\n",
       " 'https://www.yelp.com/biz/pommes-frites-new-york-2?adjust_creative=YOPxpPg1qGggP5qGSctmew&utm_campaign=yelp_api_v3&utm_medium=api_v3_business_search&utm_source=YOPxpPg1qGggP5qGSctmew',\n",
       " 'https://www.yelp.com/biz/shu-jiao-fu-zhou-new-york-2?adjust_creative=YOPxpPg1qGggP5qGSctmew&utm_campaign=yelp_api_v3&utm_medium=api_v3_business_search&utm_source=YOPxpPg1qGggP5qGSctmew',\n",
       " 'https://www.yelp.com/biz/mekelburgs-brooklyn-3?adjust_creative=YOPxpPg1qGggP5qGSctmew&utm_campaign=yelp_api_v3&utm_medium=api_v3_business_search&utm_source=YOPxpPg1qGggP5qGSctmew',\n",
       " 'https://www.yelp.com/biz/suram-nyc-new-york?adjust_creative=YOPxpPg1qGggP5qGSctmew&utm_campaign=yelp_api_v3&utm_medium=api_v3_business_search&utm_source=YOPxpPg1qGggP5qGSctmew',\n",
       " 'https://www.yelp.com/biz/yes-apothecary-new-york-4?adjust_creative=YOPxpPg1qGggP5qGSctmew&utm_campaign=yelp_api_v3&utm_medium=api_v3_business_search&utm_source=YOPxpPg1qGggP5qGSctmew',\n",
       " 'https://www.yelp.com/biz/naked-dog-brooklyn-2?adjust_creative=YOPxpPg1qGggP5qGSctmew&utm_campaign=yelp_api_v3&utm_medium=api_v3_business_search&utm_source=YOPxpPg1qGggP5qGSctmew',\n",
       " 'https://www.yelp.com/biz/no-7-brooklyn-3?adjust_creative=YOPxpPg1qGggP5qGSctmew&utm_campaign=yelp_api_v3&utm_medium=api_v3_business_search&utm_source=YOPxpPg1qGggP5qGSctmew',\n",
       " 'https://www.yelp.com/biz/elder-greene-brooklyn?adjust_creative=YOPxpPg1qGggP5qGSctmew&utm_campaign=yelp_api_v3&utm_medium=api_v3_business_search&utm_source=YOPxpPg1qGggP5qGSctmew',\n",
       " 'https://www.yelp.com/biz/fine-and-rare-new-york?adjust_creative=YOPxpPg1qGggP5qGSctmew&utm_campaign=yelp_api_v3&utm_medium=api_v3_business_search&utm_source=YOPxpPg1qGggP5qGSctmew',\n",
       " 'https://www.yelp.com/biz/la-barca-cantina-new-york-2?adjust_creative=YOPxpPg1qGggP5qGSctmew&utm_campaign=yelp_api_v3&utm_medium=api_v3_business_search&utm_source=YOPxpPg1qGggP5qGSctmew',\n",
       " 'https://www.yelp.com/biz/yia-yias-taverna-brooklyn-4?adjust_creative=YOPxpPg1qGggP5qGSctmew&utm_campaign=yelp_api_v3&utm_medium=api_v3_business_search&utm_source=YOPxpPg1qGggP5qGSctmew',\n",
       " 'https://www.yelp.com/biz/the-cabin-nyc-new-york-2?adjust_creative=YOPxpPg1qGggP5qGSctmew&utm_campaign=yelp_api_v3&utm_medium=api_v3_business_search&utm_source=YOPxpPg1qGggP5qGSctmew',\n",
       " 'https://www.yelp.com/biz/kings-of-kobe-new-york-6?adjust_creative=YOPxpPg1qGggP5qGSctmew&utm_campaign=yelp_api_v3&utm_medium=api_v3_business_search&utm_source=YOPxpPg1qGggP5qGSctmew',\n",
       " 'https://www.yelp.com/biz/chef-huang-jian-bing-and-peking-duck-new-york?adjust_creative=YOPxpPg1qGggP5qGSctmew&utm_campaign=yelp_api_v3&utm_medium=api_v3_business_search&utm_source=YOPxpPg1qGggP5qGSctmew',\n",
       " 'https://www.yelp.com/biz/momofuku-ssam-bar-new-york-6?adjust_creative=YOPxpPg1qGggP5qGSctmew&utm_campaign=yelp_api_v3&utm_medium=api_v3_business_search&utm_source=YOPxpPg1qGggP5qGSctmew',\n",
       " 'https://www.yelp.com/biz/itaewon-pocha-new-york?adjust_creative=YOPxpPg1qGggP5qGSctmew&utm_campaign=yelp_api_v3&utm_medium=api_v3_business_search&utm_source=YOPxpPg1qGggP5qGSctmew',\n",
       " 'https://www.yelp.com/biz/white-maize-brooklyn?adjust_creative=YOPxpPg1qGggP5qGSctmew&utm_campaign=yelp_api_v3&utm_medium=api_v3_business_search&utm_source=YOPxpPg1qGggP5qGSctmew',\n",
       " 'https://www.yelp.com/biz/jacks-wife-freda-new-york-5?adjust_creative=YOPxpPg1qGggP5qGSctmew&utm_campaign=yelp_api_v3&utm_medium=api_v3_business_search&utm_source=YOPxpPg1qGggP5qGSctmew',\n",
       " 'https://www.yelp.com/biz/ro-s-diner-brooklyn?adjust_creative=YOPxpPg1qGggP5qGSctmew&utm_campaign=yelp_api_v3&utm_medium=api_v3_business_search&utm_source=YOPxpPg1qGggP5qGSctmew',\n",
       " 'https://www.yelp.com/biz/bonnies-brooklyn?adjust_creative=YOPxpPg1qGggP5qGSctmew&utm_campaign=yelp_api_v3&utm_medium=api_v3_business_search&utm_source=YOPxpPg1qGggP5qGSctmew',\n",
       " 'https://www.yelp.com/biz/mad-for-chicken-brooklyn-heights-brooklyn-2?adjust_creative=YOPxpPg1qGggP5qGSctmew&utm_campaign=yelp_api_v3&utm_medium=api_v3_business_search&utm_source=YOPxpPg1qGggP5qGSctmew',\n",
       " 'https://www.yelp.com/biz/c-as-in-charlie-new-york?adjust_creative=YOPxpPg1qGggP5qGSctmew&utm_campaign=yelp_api_v3&utm_medium=api_v3_business_search&utm_source=YOPxpPg1qGggP5qGSctmew',\n",
       " 'https://www.yelp.com/biz/ver%C5%8Dnika-new-york-2?adjust_creative=YOPxpPg1qGggP5qGSctmew&utm_campaign=yelp_api_v3&utm_medium=api_v3_business_search&utm_source=YOPxpPg1qGggP5qGSctmew',\n",
       " 'https://www.yelp.com/biz/sobak-new-york-2?adjust_creative=YOPxpPg1qGggP5qGSctmew&utm_campaign=yelp_api_v3&utm_medium=api_v3_business_search&utm_source=YOPxpPg1qGggP5qGSctmew',\n",
       " 'https://www.yelp.com/biz/banter-new-york?adjust_creative=YOPxpPg1qGggP5qGSctmew&utm_campaign=yelp_api_v3&utm_medium=api_v3_business_search&utm_source=YOPxpPg1qGggP5qGSctmew',\n",
       " 'https://www.yelp.com/biz/sanmiwago-new-york?adjust_creative=YOPxpPg1qGggP5qGSctmew&utm_campaign=yelp_api_v3&utm_medium=api_v3_business_search&utm_source=YOPxpPg1qGggP5qGSctmew',\n",
       " 'https://www.yelp.com/biz/pig-and-khao-new-york?adjust_creative=YOPxpPg1qGggP5qGSctmew&utm_campaign=yelp_api_v3&utm_medium=api_v3_business_search&utm_source=YOPxpPg1qGggP5qGSctmew',\n",
       " 'https://www.yelp.com/biz/olmsted-brooklyn?adjust_creative=YOPxpPg1qGggP5qGSctmew&utm_campaign=yelp_api_v3&utm_medium=api_v3_business_search&utm_source=YOPxpPg1qGggP5qGSctmew',\n",
       " 'https://www.yelp.com/biz/gen-korean-bbq-house-new-york-4?adjust_creative=YOPxpPg1qGggP5qGSctmew&utm_campaign=yelp_api_v3&utm_medium=api_v3_business_search&utm_source=YOPxpPg1qGggP5qGSctmew',\n",
       " 'https://www.yelp.com/biz/bolivian-llama-party-sunnyside?adjust_creative=YOPxpPg1qGggP5qGSctmew&utm_campaign=yelp_api_v3&utm_medium=api_v3_business_search&utm_source=YOPxpPg1qGggP5qGSctmew',\n",
       " 'https://www.yelp.com/biz/vineapple-cafe-brooklyn?adjust_creative=YOPxpPg1qGggP5qGSctmew&utm_campaign=yelp_api_v3&utm_medium=api_v3_business_search&utm_source=YOPxpPg1qGggP5qGSctmew',\n",
       " 'https://www.yelp.com/biz/tsuta-brooklyn?adjust_creative=YOPxpPg1qGggP5qGSctmew&utm_campaign=yelp_api_v3&utm_medium=api_v3_business_search&utm_source=YOPxpPg1qGggP5qGSctmew']"
      ]
     },
     "execution_count": 16,
     "metadata": {},
     "output_type": "execute_result"
    }
   ],
   "source": [
    "part_5_urls = urls[200:250]\n",
    "part_5_urls"
   ]
  },
  {
   "cell_type": "code",
   "execution_count": 17,
   "id": "44d124dd",
   "metadata": {
    "scrolled": true
   },
   "outputs": [
    {
     "data": {
      "text/plain": [
       "['https://www.yelp.com/biz/los-tacos-no-1-new-york-5?adjust_creative=YOPxpPg1qGggP5qGSctmew&utm_campaign=yelp_api_v3&utm_medium=api_v3_business_search&utm_source=YOPxpPg1qGggP5qGSctmew',\n",
       " 'https://www.yelp.com/biz/mokyo-new-york-2?adjust_creative=YOPxpPg1qGggP5qGSctmew&utm_campaign=yelp_api_v3&utm_medium=api_v3_business_search&utm_source=YOPxpPg1qGggP5qGSctmew',\n",
       " 'https://www.yelp.com/biz/cho-dang-gol-korean-restaurant-new-york?adjust_creative=YOPxpPg1qGggP5qGSctmew&utm_campaign=yelp_api_v3&utm_medium=api_v3_business_search&utm_source=YOPxpPg1qGggP5qGSctmew',\n",
       " 'https://www.yelp.com/biz/gunbae-tribeca-new-york?adjust_creative=YOPxpPg1qGggP5qGSctmew&utm_campaign=yelp_api_v3&utm_medium=api_v3_business_search&utm_source=YOPxpPg1qGggP5qGSctmew',\n",
       " 'https://www.yelp.com/biz/crab-house-all-you-can-eat-seafood-new-york?adjust_creative=YOPxpPg1qGggP5qGSctmew&utm_campaign=yelp_api_v3&utm_medium=api_v3_business_search&utm_source=YOPxpPg1qGggP5qGSctmew',\n",
       " 'https://www.yelp.com/biz/diner-brooklyn?adjust_creative=YOPxpPg1qGggP5qGSctmew&utm_campaign=yelp_api_v3&utm_medium=api_v3_business_search&utm_source=YOPxpPg1qGggP5qGSctmew',\n",
       " 'https://www.yelp.com/biz/gugu-room-new-york?adjust_creative=YOPxpPg1qGggP5qGSctmew&utm_campaign=yelp_api_v3&utm_medium=api_v3_business_search&utm_source=YOPxpPg1qGggP5qGSctmew',\n",
       " 'https://www.yelp.com/biz/despa%C3%B1a-fine-foods-and-tapas-cafe-new-york-2?adjust_creative=YOPxpPg1qGggP5qGSctmew&utm_campaign=yelp_api_v3&utm_medium=api_v3_business_search&utm_source=YOPxpPg1qGggP5qGSctmew',\n",
       " 'https://www.yelp.com/biz/the-esters-brooklyn?adjust_creative=YOPxpPg1qGggP5qGSctmew&utm_campaign=yelp_api_v3&utm_medium=api_v3_business_search&utm_source=YOPxpPg1qGggP5qGSctmew',\n",
       " 'https://www.yelp.com/biz/paisley-new-york-2?adjust_creative=YOPxpPg1qGggP5qGSctmew&utm_campaign=yelp_api_v3&utm_medium=api_v3_business_search&utm_source=YOPxpPg1qGggP5qGSctmew',\n",
       " 'https://www.yelp.com/biz/ichibantei-new-york?adjust_creative=YOPxpPg1qGggP5qGSctmew&utm_campaign=yelp_api_v3&utm_medium=api_v3_business_search&utm_source=YOPxpPg1qGggP5qGSctmew',\n",
       " 'https://www.yelp.com/biz/marians-new-york?adjust_creative=YOPxpPg1qGggP5qGSctmew&utm_campaign=yelp_api_v3&utm_medium=api_v3_business_search&utm_source=YOPxpPg1qGggP5qGSctmew',\n",
       " 'https://www.yelp.com/biz/babas-pierogies-brooklyn?adjust_creative=YOPxpPg1qGggP5qGSctmew&utm_campaign=yelp_api_v3&utm_medium=api_v3_business_search&utm_source=YOPxpPg1qGggP5qGSctmew',\n",
       " 'https://www.yelp.com/biz/da-claudio-new-york?adjust_creative=YOPxpPg1qGggP5qGSctmew&utm_campaign=yelp_api_v3&utm_medium=api_v3_business_search&utm_source=YOPxpPg1qGggP5qGSctmew',\n",
       " 'https://www.yelp.com/biz/osteria-brooklyn-brooklyn?adjust_creative=YOPxpPg1qGggP5qGSctmew&utm_campaign=yelp_api_v3&utm_medium=api_v3_business_search&utm_source=YOPxpPg1qGggP5qGSctmew',\n",
       " 'https://www.yelp.com/biz/nabila-s-brooklyn-2?adjust_creative=YOPxpPg1qGggP5qGSctmew&utm_campaign=yelp_api_v3&utm_medium=api_v3_business_search&utm_source=YOPxpPg1qGggP5qGSctmew',\n",
       " 'https://www.yelp.com/biz/steak-frites-bistro-new-york-3?adjust_creative=YOPxpPg1qGggP5qGSctmew&utm_campaign=yelp_api_v3&utm_medium=api_v3_business_search&utm_source=YOPxpPg1qGggP5qGSctmew',\n",
       " 'https://www.yelp.com/biz/clarks-restaurant-brooklyn?adjust_creative=YOPxpPg1qGggP5qGSctmew&utm_campaign=yelp_api_v3&utm_medium=api_v3_business_search&utm_source=YOPxpPg1qGggP5qGSctmew',\n",
       " 'https://www.yelp.com/biz/lukes-lobster-fidi-new-york?adjust_creative=YOPxpPg1qGggP5qGSctmew&utm_campaign=yelp_api_v3&utm_medium=api_v3_business_search&utm_source=YOPxpPg1qGggP5qGSctmew',\n",
       " 'https://www.yelp.com/biz/tipsy-shanghai-new-york-2?adjust_creative=YOPxpPg1qGggP5qGSctmew&utm_campaign=yelp_api_v3&utm_medium=api_v3_business_search&utm_source=YOPxpPg1qGggP5qGSctmew',\n",
       " 'https://www.yelp.com/biz/heno-heno-new-york-2?adjust_creative=YOPxpPg1qGggP5qGSctmew&utm_campaign=yelp_api_v3&utm_medium=api_v3_business_search&utm_source=YOPxpPg1qGggP5qGSctmew',\n",
       " 'https://www.yelp.com/biz/citizens-of-gramercy-new-york-2?adjust_creative=YOPxpPg1qGggP5qGSctmew&utm_campaign=yelp_api_v3&utm_medium=api_v3_business_search&utm_source=YOPxpPg1qGggP5qGSctmew',\n",
       " 'https://www.yelp.com/biz/two-hands-new-york-5?adjust_creative=YOPxpPg1qGggP5qGSctmew&utm_campaign=yelp_api_v3&utm_medium=api_v3_business_search&utm_source=YOPxpPg1qGggP5qGSctmew',\n",
       " 'https://www.yelp.com/biz/koloman-new-york-2?adjust_creative=YOPxpPg1qGggP5qGSctmew&utm_campaign=yelp_api_v3&utm_medium=api_v3_business_search&utm_source=YOPxpPg1qGggP5qGSctmew',\n",
       " 'https://www.yelp.com/biz/munchiez-by-mei-lai-wah-new-york?adjust_creative=YOPxpPg1qGggP5qGSctmew&utm_campaign=yelp_api_v3&utm_medium=api_v3_business_search&utm_source=YOPxpPg1qGggP5qGSctmew',\n",
       " 'https://www.yelp.com/biz/glin-thai-bistro-brooklyn-3?adjust_creative=YOPxpPg1qGggP5qGSctmew&utm_campaign=yelp_api_v3&utm_medium=api_v3_business_search&utm_source=YOPxpPg1qGggP5qGSctmew',\n",
       " 'https://www.yelp.com/biz/clinton-hall-fidi-new-york?adjust_creative=YOPxpPg1qGggP5qGSctmew&utm_campaign=yelp_api_v3&utm_medium=api_v3_business_search&utm_source=YOPxpPg1qGggP5qGSctmew',\n",
       " 'https://www.yelp.com/biz/san-marino-ristorante-new-york-2?adjust_creative=YOPxpPg1qGggP5qGSctmew&utm_campaign=yelp_api_v3&utm_medium=api_v3_business_search&utm_source=YOPxpPg1qGggP5qGSctmew',\n",
       " 'https://www.yelp.com/biz/boran-brooklyn-2?adjust_creative=YOPxpPg1qGggP5qGSctmew&utm_campaign=yelp_api_v3&utm_medium=api_v3_business_search&utm_source=YOPxpPg1qGggP5qGSctmew',\n",
       " 'https://www.yelp.com/biz/cava-new-york-4?adjust_creative=YOPxpPg1qGggP5qGSctmew&utm_campaign=yelp_api_v3&utm_medium=api_v3_business_search&utm_source=YOPxpPg1qGggP5qGSctmew',\n",
       " 'https://www.yelp.com/biz/toloache-50-new-york?adjust_creative=YOPxpPg1qGggP5qGSctmew&utm_campaign=yelp_api_v3&utm_medium=api_v3_business_search&utm_source=YOPxpPg1qGggP5qGSctmew',\n",
       " 'https://www.yelp.com/biz/lindens-new-york?adjust_creative=YOPxpPg1qGggP5qGSctmew&utm_campaign=yelp_api_v3&utm_medium=api_v3_business_search&utm_source=YOPxpPg1qGggP5qGSctmew',\n",
       " 'https://www.yelp.com/biz/oxomoco-brooklyn-2?adjust_creative=YOPxpPg1qGggP5qGSctmew&utm_campaign=yelp_api_v3&utm_medium=api_v3_business_search&utm_source=YOPxpPg1qGggP5qGSctmew',\n",
       " 'https://www.yelp.com/biz/pier-66-maritime-new-york?adjust_creative=YOPxpPg1qGggP5qGSctmew&utm_campaign=yelp_api_v3&utm_medium=api_v3_business_search&utm_source=YOPxpPg1qGggP5qGSctmew',\n",
       " 'https://www.yelp.com/biz/lovemama-new-york?adjust_creative=YOPxpPg1qGggP5qGSctmew&utm_campaign=yelp_api_v3&utm_medium=api_v3_business_search&utm_source=YOPxpPg1qGggP5qGSctmew',\n",
       " 'https://www.yelp.com/biz/le-petit-monstre-brooklyn?adjust_creative=YOPxpPg1qGggP5qGSctmew&utm_campaign=yelp_api_v3&utm_medium=api_v3_business_search&utm_source=YOPxpPg1qGggP5qGSctmew',\n",
       " 'https://www.yelp.com/biz/mercado-little-spain-new-york?adjust_creative=YOPxpPg1qGggP5qGSctmew&utm_campaign=yelp_api_v3&utm_medium=api_v3_business_search&utm_source=YOPxpPg1qGggP5qGSctmew',\n",
       " 'https://www.yelp.com/biz/mels-new-york-6?adjust_creative=YOPxpPg1qGggP5qGSctmew&utm_campaign=yelp_api_v3&utm_medium=api_v3_business_search&utm_source=YOPxpPg1qGggP5qGSctmew',\n",
       " 'https://www.yelp.com/biz/chongkho-restaurant-brooklyn?adjust_creative=YOPxpPg1qGggP5qGSctmew&utm_campaign=yelp_api_v3&utm_medium=api_v3_business_search&utm_source=YOPxpPg1qGggP5qGSctmew',\n",
       " 'https://www.yelp.com/biz/prime-meat-rokko-new-york?adjust_creative=YOPxpPg1qGggP5qGSctmew&utm_campaign=yelp_api_v3&utm_medium=api_v3_business_search&utm_source=YOPxpPg1qGggP5qGSctmew',\n",
       " 'https://www.yelp.com/biz/moms-kitchen-and-bar-new-york?adjust_creative=YOPxpPg1qGggP5qGSctmew&utm_campaign=yelp_api_v3&utm_medium=api_v3_business_search&utm_source=YOPxpPg1qGggP5qGSctmew',\n",
       " 'https://www.yelp.com/biz/bom-with-the-wind-brooklyn?adjust_creative=YOPxpPg1qGggP5qGSctmew&utm_campaign=yelp_api_v3&utm_medium=api_v3_business_search&utm_source=YOPxpPg1qGggP5qGSctmew',\n",
       " 'https://www.yelp.com/biz/el-ping%C3%BCino-brooklyn?adjust_creative=YOPxpPg1qGggP5qGSctmew&utm_campaign=yelp_api_v3&utm_medium=api_v3_business_search&utm_source=YOPxpPg1qGggP5qGSctmew',\n",
       " 'https://www.yelp.com/biz/nish-nush-new-york?adjust_creative=YOPxpPg1qGggP5qGSctmew&utm_campaign=yelp_api_v3&utm_medium=api_v3_business_search&utm_source=YOPxpPg1qGggP5qGSctmew',\n",
       " 'https://www.yelp.com/biz/soba-ya-new-york?adjust_creative=YOPxpPg1qGggP5qGSctmew&utm_campaign=yelp_api_v3&utm_medium=api_v3_business_search&utm_source=YOPxpPg1qGggP5qGSctmew',\n",
       " 'https://www.yelp.com/biz/taste-from-everest-new-york-2?adjust_creative=YOPxpPg1qGggP5qGSctmew&utm_campaign=yelp_api_v3&utm_medium=api_v3_business_search&utm_source=YOPxpPg1qGggP5qGSctmew',\n",
       " 'https://www.yelp.com/biz/cafe-gitane-brooklyn?adjust_creative=YOPxpPg1qGggP5qGSctmew&utm_campaign=yelp_api_v3&utm_medium=api_v3_business_search&utm_source=YOPxpPg1qGggP5qGSctmew',\n",
       " 'https://www.yelp.com/biz/nomo-kitchen-new-york?adjust_creative=YOPxpPg1qGggP5qGSctmew&utm_campaign=yelp_api_v3&utm_medium=api_v3_business_search&utm_source=YOPxpPg1qGggP5qGSctmew',\n",
       " 'https://www.yelp.com/biz/chiko-brooklyn-2?adjust_creative=YOPxpPg1qGggP5qGSctmew&utm_campaign=yelp_api_v3&utm_medium=api_v3_business_search&utm_source=YOPxpPg1qGggP5qGSctmew',\n",
       " 'https://www.yelp.com/biz/olea-brooklyn-2?adjust_creative=YOPxpPg1qGggP5qGSctmew&utm_campaign=yelp_api_v3&utm_medium=api_v3_business_search&utm_source=YOPxpPg1qGggP5qGSctmew']"
      ]
     },
     "execution_count": 17,
     "metadata": {},
     "output_type": "execute_result"
    }
   ],
   "source": [
    "part_6_urls = urls[250:300]\n",
    "part_6_urls"
   ]
  },
  {
   "cell_type": "code",
   "execution_count": 18,
   "id": "d7a5c8d3",
   "metadata": {
    "scrolled": true
   },
   "outputs": [
    {
     "data": {
      "text/plain": [
       "['https://www.yelp.com/biz/los-tacos-no-1-new-york-10?adjust_creative=YOPxpPg1qGggP5qGSctmew&utm_campaign=yelp_api_v3&utm_medium=api_v3_business_search&utm_source=YOPxpPg1qGggP5qGSctmew',\n",
       " 'https://www.yelp.com/biz/sweetwater-restaurant-brooklyn-2?adjust_creative=YOPxpPg1qGggP5qGSctmew&utm_campaign=yelp_api_v3&utm_medium=api_v3_business_search&utm_source=YOPxpPg1qGggP5qGSctmew',\n",
       " 'https://www.yelp.com/biz/bird-dog-new-york?adjust_creative=YOPxpPg1qGggP5qGSctmew&utm_campaign=yelp_api_v3&utm_medium=api_v3_business_search&utm_source=YOPxpPg1qGggP5qGSctmew',\n",
       " 'https://www.yelp.com/biz/the-grey-dog-nolita-new-york-3?adjust_creative=YOPxpPg1qGggP5qGSctmew&utm_campaign=yelp_api_v3&utm_medium=api_v3_business_search&utm_source=YOPxpPg1qGggP5qGSctmew',\n",
       " 'https://www.yelp.com/biz/tagmo-new-york?adjust_creative=YOPxpPg1qGggP5qGSctmew&utm_campaign=yelp_api_v3&utm_medium=api_v3_business_search&utm_source=YOPxpPg1qGggP5qGSctmew',\n",
       " 'https://www.yelp.com/biz/tonchin-brooklyn?adjust_creative=YOPxpPg1qGggP5qGSctmew&utm_campaign=yelp_api_v3&utm_medium=api_v3_business_search&utm_source=YOPxpPg1qGggP5qGSctmew',\n",
       " 'https://www.yelp.com/biz/butter-dose-new-york-2?adjust_creative=YOPxpPg1qGggP5qGSctmew&utm_campaign=yelp_api_v3&utm_medium=api_v3_business_search&utm_source=YOPxpPg1qGggP5qGSctmew',\n",
       " 'https://www.yelp.com/biz/hi-collar-new-york-2?adjust_creative=YOPxpPg1qGggP5qGSctmew&utm_campaign=yelp_api_v3&utm_medium=api_v3_business_search&utm_source=YOPxpPg1qGggP5qGSctmew',\n",
       " 'https://www.yelp.com/biz/ensenada-brooklyn?adjust_creative=YOPxpPg1qGggP5qGSctmew&utm_campaign=yelp_api_v3&utm_medium=api_v3_business_search&utm_source=YOPxpPg1qGggP5qGSctmew',\n",
       " 'https://www.yelp.com/biz/kopitiam-new-york?adjust_creative=YOPxpPg1qGggP5qGSctmew&utm_campaign=yelp_api_v3&utm_medium=api_v3_business_search&utm_source=YOPxpPg1qGggP5qGSctmew',\n",
       " 'https://www.yelp.com/biz/nura-brooklyn-2?adjust_creative=YOPxpPg1qGggP5qGSctmew&utm_campaign=yelp_api_v3&utm_medium=api_v3_business_search&utm_source=YOPxpPg1qGggP5qGSctmew',\n",
       " 'https://www.yelp.com/biz/antidote-brooklyn-2?adjust_creative=YOPxpPg1qGggP5qGSctmew&utm_campaign=yelp_api_v3&utm_medium=api_v3_business_search&utm_source=YOPxpPg1qGggP5qGSctmew',\n",
       " 'https://www.yelp.com/biz/ugly-baby-brooklyn-3?adjust_creative=YOPxpPg1qGggP5qGSctmew&utm_campaign=yelp_api_v3&utm_medium=api_v3_business_search&utm_source=YOPxpPg1qGggP5qGSctmew',\n",
       " 'https://www.yelp.com/biz/bunny-brooklyn?adjust_creative=YOPxpPg1qGggP5qGSctmew&utm_campaign=yelp_api_v3&utm_medium=api_v3_business_search&utm_source=YOPxpPg1qGggP5qGSctmew',\n",
       " 'https://www.yelp.com/biz/dumpling-n-dips-new-york-2?adjust_creative=YOPxpPg1qGggP5qGSctmew&utm_campaign=yelp_api_v3&utm_medium=api_v3_business_search&utm_source=YOPxpPg1qGggP5qGSctmew',\n",
       " 'https://www.yelp.com/biz/celestine-brooklyn?adjust_creative=YOPxpPg1qGggP5qGSctmew&utm_campaign=yelp_api_v3&utm_medium=api_v3_business_search&utm_source=YOPxpPg1qGggP5qGSctmew',\n",
       " 'https://www.yelp.com/biz/la-marchande-new-york-2?adjust_creative=YOPxpPg1qGggP5qGSctmew&utm_campaign=yelp_api_v3&utm_medium=api_v3_business_search&utm_source=YOPxpPg1qGggP5qGSctmew',\n",
       " 'https://www.yelp.com/biz/jajaja-mexicana-new-york-3?adjust_creative=YOPxpPg1qGggP5qGSctmew&utm_campaign=yelp_api_v3&utm_medium=api_v3_business_search&utm_source=YOPxpPg1qGggP5qGSctmew',\n",
       " 'https://www.yelp.com/biz/kuu-ramen-new-york?adjust_creative=YOPxpPg1qGggP5qGSctmew&utm_campaign=yelp_api_v3&utm_medium=api_v3_business_search&utm_source=YOPxpPg1qGggP5qGSctmew',\n",
       " 'https://www.yelp.com/biz/warrenpeace-new-york?adjust_creative=YOPxpPg1qGggP5qGSctmew&utm_campaign=yelp_api_v3&utm_medium=api_v3_business_search&utm_source=YOPxpPg1qGggP5qGSctmew',\n",
       " 'https://www.yelp.com/biz/eyval-brooklyn?adjust_creative=YOPxpPg1qGggP5qGSctmew&utm_campaign=yelp_api_v3&utm_medium=api_v3_business_search&utm_source=YOPxpPg1qGggP5qGSctmew',\n",
       " 'https://www.yelp.com/biz/giando-brooklyn?adjust_creative=YOPxpPg1qGggP5qGSctmew&utm_campaign=yelp_api_v3&utm_medium=api_v3_business_search&utm_source=YOPxpPg1qGggP5qGSctmew',\n",
       " 'https://www.yelp.com/biz/mr-bao-new-york?adjust_creative=YOPxpPg1qGggP5qGSctmew&utm_campaign=yelp_api_v3&utm_medium=api_v3_business_search&utm_source=YOPxpPg1qGggP5qGSctmew',\n",
       " 'https://www.yelp.com/biz/little-mad-new-york-2?adjust_creative=YOPxpPg1qGggP5qGSctmew&utm_campaign=yelp_api_v3&utm_medium=api_v3_business_search&utm_source=YOPxpPg1qGggP5qGSctmew',\n",
       " 'https://www.yelp.com/biz/soco-brooklyn?adjust_creative=YOPxpPg1qGggP5qGSctmew&utm_campaign=yelp_api_v3&utm_medium=api_v3_business_search&utm_source=YOPxpPg1qGggP5qGSctmew',\n",
       " 'https://www.yelp.com/biz/henrys-end-brooklyn-4?adjust_creative=YOPxpPg1qGggP5qGSctmew&utm_campaign=yelp_api_v3&utm_medium=api_v3_business_search&utm_source=YOPxpPg1qGggP5qGSctmew',\n",
       " 'https://www.yelp.com/biz/frangos-peri-peri-new-york?adjust_creative=YOPxpPg1qGggP5qGSctmew&utm_campaign=yelp_api_v3&utm_medium=api_v3_business_search&utm_source=YOPxpPg1qGggP5qGSctmew',\n",
       " 'https://www.yelp.com/biz/and-sons-brooklyn?adjust_creative=YOPxpPg1qGggP5qGSctmew&utm_campaign=yelp_api_v3&utm_medium=api_v3_business_search&utm_source=YOPxpPg1qGggP5qGSctmew',\n",
       " 'https://www.yelp.com/biz/miznon-new-york-7?adjust_creative=YOPxpPg1qGggP5qGSctmew&utm_campaign=yelp_api_v3&utm_medium=api_v3_business_search&utm_source=YOPxpPg1qGggP5qGSctmew',\n",
       " 'https://www.yelp.com/biz/sweet-chick-new-york-2?adjust_creative=YOPxpPg1qGggP5qGSctmew&utm_campaign=yelp_api_v3&utm_medium=api_v3_business_search&utm_source=YOPxpPg1qGggP5qGSctmew',\n",
       " 'https://www.yelp.com/biz/omakase-by-korami-new-york?adjust_creative=YOPxpPg1qGggP5qGSctmew&utm_campaign=yelp_api_v3&utm_medium=api_v3_business_search&utm_source=YOPxpPg1qGggP5qGSctmew',\n",
       " 'https://www.yelp.com/biz/k%C5%8Dbo-by-nai-new-york?adjust_creative=YOPxpPg1qGggP5qGSctmew&utm_campaign=yelp_api_v3&utm_medium=api_v3_business_search&utm_source=YOPxpPg1qGggP5qGSctmew',\n",
       " 'https://www.yelp.com/biz/bacalls-new-york-2?adjust_creative=YOPxpPg1qGggP5qGSctmew&utm_campaign=yelp_api_v3&utm_medium=api_v3_business_search&utm_source=YOPxpPg1qGggP5qGSctmew',\n",
       " 'https://www.yelp.com/biz/monsieur-vo-new-york?adjust_creative=YOPxpPg1qGggP5qGSctmew&utm_campaign=yelp_api_v3&utm_medium=api_v3_business_search&utm_source=YOPxpPg1qGggP5qGSctmew',\n",
       " 'https://www.yelp.com/biz/xixa-brooklyn?adjust_creative=YOPxpPg1qGggP5qGSctmew&utm_campaign=yelp_api_v3&utm_medium=api_v3_business_search&utm_source=YOPxpPg1qGggP5qGSctmew',\n",
       " 'https://www.yelp.com/biz/les-enfants-de-boheme-new-york?adjust_creative=YOPxpPg1qGggP5qGSctmew&utm_campaign=yelp_api_v3&utm_medium=api_v3_business_search&utm_source=YOPxpPg1qGggP5qGSctmew',\n",
       " 'https://www.yelp.com/biz/cafe-spaghetti-brooklyn?adjust_creative=YOPxpPg1qGggP5qGSctmew&utm_campaign=yelp_api_v3&utm_medium=api_v3_business_search&utm_source=YOPxpPg1qGggP5qGSctmew',\n",
       " 'https://www.yelp.com/biz/ho-foods-new-york-3?adjust_creative=YOPxpPg1qGggP5qGSctmew&utm_campaign=yelp_api_v3&utm_medium=api_v3_business_search&utm_source=YOPxpPg1qGggP5qGSctmew',\n",
       " 'https://www.yelp.com/biz/3-times-new-york-5?adjust_creative=YOPxpPg1qGggP5qGSctmew&utm_campaign=yelp_api_v3&utm_medium=api_v3_business_search&utm_source=YOPxpPg1qGggP5qGSctmew',\n",
       " 'https://www.yelp.com/biz/izakaya-new-york-2?adjust_creative=YOPxpPg1qGggP5qGSctmew&utm_campaign=yelp_api_v3&utm_medium=api_v3_business_search&utm_source=YOPxpPg1qGggP5qGSctmew',\n",
       " 'https://www.yelp.com/biz/honest-new-york?adjust_creative=YOPxpPg1qGggP5qGSctmew&utm_campaign=yelp_api_v3&utm_medium=api_v3_business_search&utm_source=YOPxpPg1qGggP5qGSctmew',\n",
       " 'https://www.yelp.com/biz/chino-grande-brooklyn-2?adjust_creative=YOPxpPg1qGggP5qGSctmew&utm_campaign=yelp_api_v3&utm_medium=api_v3_business_search&utm_source=YOPxpPg1qGggP5qGSctmew',\n",
       " 'https://www.yelp.com/biz/rice-thief-queens?adjust_creative=YOPxpPg1qGggP5qGSctmew&utm_campaign=yelp_api_v3&utm_medium=api_v3_business_search&utm_source=YOPxpPg1qGggP5qGSctmew',\n",
       " 'https://www.yelp.com/biz/lumlum-new-york?adjust_creative=YOPxpPg1qGggP5qGSctmew&utm_campaign=yelp_api_v3&utm_medium=api_v3_business_search&utm_source=YOPxpPg1qGggP5qGSctmew',\n",
       " 'https://www.yelp.com/biz/kimika-new-york?adjust_creative=YOPxpPg1qGggP5qGSctmew&utm_campaign=yelp_api_v3&utm_medium=api_v3_business_search&utm_source=YOPxpPg1qGggP5qGSctmew',\n",
       " 'https://www.yelp.com/biz/la-pecora-bianca-new-york-6?adjust_creative=YOPxpPg1qGggP5qGSctmew&utm_campaign=yelp_api_v3&utm_medium=api_v3_business_search&utm_source=YOPxpPg1qGggP5qGSctmew',\n",
       " 'https://www.yelp.com/biz/ingas-bar-brooklyn?adjust_creative=YOPxpPg1qGggP5qGSctmew&utm_campaign=yelp_api_v3&utm_medium=api_v3_business_search&utm_source=YOPxpPg1qGggP5qGSctmew',\n",
       " 'https://www.yelp.com/biz/abc-kitchen-new-york?adjust_creative=YOPxpPg1qGggP5qGSctmew&utm_campaign=yelp_api_v3&utm_medium=api_v3_business_search&utm_source=YOPxpPg1qGggP5qGSctmew',\n",
       " 'https://www.yelp.com/biz/joes-shanghai-new-york-2?adjust_creative=YOPxpPg1qGggP5qGSctmew&utm_campaign=yelp_api_v3&utm_medium=api_v3_business_search&utm_source=YOPxpPg1qGggP5qGSctmew',\n",
       " 'https://www.yelp.com/biz/ai-ki-ya-new-york-3?adjust_creative=YOPxpPg1qGggP5qGSctmew&utm_campaign=yelp_api_v3&utm_medium=api_v3_business_search&utm_source=YOPxpPg1qGggP5qGSctmew']"
      ]
     },
     "execution_count": 18,
     "metadata": {},
     "output_type": "execute_result"
    }
   ],
   "source": [
    "part_7_urls = urls[300:350]\n",
    "part_7_urls"
   ]
  },
  {
   "cell_type": "code",
   "execution_count": 19,
   "id": "21aa04f8",
   "metadata": {
    "scrolled": true
   },
   "outputs": [
    {
     "data": {
      "text/plain": [
       "['https://www.yelp.com/biz/the-warren-new-york?adjust_creative=YOPxpPg1qGggP5qGSctmew&utm_campaign=yelp_api_v3&utm_medium=api_v3_business_search&utm_source=YOPxpPg1qGggP5qGSctmew',\n",
       " 'https://www.yelp.com/biz/cha-an-new-york?adjust_creative=YOPxpPg1qGggP5qGSctmew&utm_campaign=yelp_api_v3&utm_medium=api_v3_business_search&utm_source=YOPxpPg1qGggP5qGSctmew',\n",
       " 'https://www.yelp.com/biz/bowery-road-new-york-3?adjust_creative=YOPxpPg1qGggP5qGSctmew&utm_campaign=yelp_api_v3&utm_medium=api_v3_business_search&utm_source=YOPxpPg1qGggP5qGSctmew',\n",
       " 'https://www.yelp.com/biz/barbalu-restaurant-new-york?adjust_creative=YOPxpPg1qGggP5qGSctmew&utm_campaign=yelp_api_v3&utm_medium=api_v3_business_search&utm_source=YOPxpPg1qGggP5qGSctmew',\n",
       " 'https://www.yelp.com/biz/urbanspace-union-square-new-york-2?adjust_creative=YOPxpPg1qGggP5qGSctmew&utm_campaign=yelp_api_v3&utm_medium=api_v3_business_search&utm_source=YOPxpPg1qGggP5qGSctmew',\n",
       " 'https://www.yelp.com/biz/el-mate-brooklyn?adjust_creative=YOPxpPg1qGggP5qGSctmew&utm_campaign=yelp_api_v3&utm_medium=api_v3_business_search&utm_source=YOPxpPg1qGggP5qGSctmew',\n",
       " 'https://www.yelp.com/biz/bluestone-lane-dumbo-caf%C3%A9-brooklyn?adjust_creative=YOPxpPg1qGggP5qGSctmew&utm_campaign=yelp_api_v3&utm_medium=api_v3_business_search&utm_source=YOPxpPg1qGggP5qGSctmew',\n",
       " 'https://www.yelp.com/biz/blue-willow-%E5%A4%9C%E6%9D%A5%E6%B9%98-new-york-2?adjust_creative=YOPxpPg1qGggP5qGSctmew&utm_campaign=yelp_api_v3&utm_medium=api_v3_business_search&utm_source=YOPxpPg1qGggP5qGSctmew',\n",
       " 'https://www.yelp.com/biz/21-greenpoint-brooklyn-2?adjust_creative=YOPxpPg1qGggP5qGSctmew&utm_campaign=yelp_api_v3&utm_medium=api_v3_business_search&utm_source=YOPxpPg1qGggP5qGSctmew',\n",
       " 'https://www.yelp.com/biz/paesano-of-mulberry-street-new-york?adjust_creative=YOPxpPg1qGggP5qGSctmew&utm_campaign=yelp_api_v3&utm_medium=api_v3_business_search&utm_source=YOPxpPg1qGggP5qGSctmew',\n",
       " 'https://www.yelp.com/biz/8282-new-york-2?adjust_creative=YOPxpPg1qGggP5qGSctmew&utm_campaign=yelp_api_v3&utm_medium=api_v3_business_search&utm_source=YOPxpPg1qGggP5qGSctmew',\n",
       " 'https://www.yelp.com/biz/republic-restaurant-and-lounge-brooklyn?adjust_creative=YOPxpPg1qGggP5qGSctmew&utm_campaign=yelp_api_v3&utm_medium=api_v3_business_search&utm_source=YOPxpPg1qGggP5qGSctmew',\n",
       " 'https://www.yelp.com/biz/esme-brooklyn-2?adjust_creative=YOPxpPg1qGggP5qGSctmew&utm_campaign=yelp_api_v3&utm_medium=api_v3_business_search&utm_source=YOPxpPg1qGggP5qGSctmew',\n",
       " 'https://www.yelp.com/biz/spes-new-york?adjust_creative=YOPxpPg1qGggP5qGSctmew&utm_campaign=yelp_api_v3&utm_medium=api_v3_business_search&utm_source=YOPxpPg1qGggP5qGSctmew',\n",
       " 'https://www.yelp.com/biz/arden-brooklyn?adjust_creative=YOPxpPg1qGggP5qGSctmew&utm_campaign=yelp_api_v3&utm_medium=api_v3_business_search&utm_source=YOPxpPg1qGggP5qGSctmew',\n",
       " 'https://www.yelp.com/biz/l-industrie-pizzeria-brooklyn?adjust_creative=YOPxpPg1qGggP5qGSctmew&utm_campaign=yelp_api_v3&utm_medium=api_v3_business_search&utm_source=YOPxpPg1qGggP5qGSctmew',\n",
       " 'https://www.yelp.com/biz/julianas-brooklyn-3?adjust_creative=YOPxpPg1qGggP5qGSctmew&utm_campaign=yelp_api_v3&utm_medium=api_v3_business_search&utm_source=YOPxpPg1qGggP5qGSctmew',\n",
       " 'https://www.yelp.com/biz/sea-wolf-williamsburg-waterfront-brooklyn?adjust_creative=YOPxpPg1qGggP5qGSctmew&utm_campaign=yelp_api_v3&utm_medium=api_v3_business_search&utm_source=YOPxpPg1qGggP5qGSctmew',\n",
       " 'https://www.yelp.com/biz/rangoon-brooklyn-brooklyn?adjust_creative=YOPxpPg1qGggP5qGSctmew&utm_campaign=yelp_api_v3&utm_medium=api_v3_business_search&utm_source=YOPxpPg1qGggP5qGSctmew',\n",
       " 'https://www.yelp.com/biz/kogane-ramen-brooklyn-heights-brooklyn?adjust_creative=YOPxpPg1qGggP5qGSctmew&utm_campaign=yelp_api_v3&utm_medium=api_v3_business_search&utm_source=YOPxpPg1qGggP5qGSctmew',\n",
       " 'https://www.yelp.com/biz/bar-camillo-brooklyn?adjust_creative=YOPxpPg1qGggP5qGSctmew&utm_campaign=yelp_api_v3&utm_medium=api_v3_business_search&utm_source=YOPxpPg1qGggP5qGSctmew',\n",
       " 'https://www.yelp.com/biz/casino-new-york-2?adjust_creative=YOPxpPg1qGggP5qGSctmew&utm_campaign=yelp_api_v3&utm_medium=api_v3_business_search&utm_source=YOPxpPg1qGggP5qGSctmew',\n",
       " 'https://www.yelp.com/biz/win-son-bakery-brooklyn-9?adjust_creative=YOPxpPg1qGggP5qGSctmew&utm_campaign=yelp_api_v3&utm_medium=api_v3_business_search&utm_source=YOPxpPg1qGggP5qGSctmew',\n",
       " 'https://www.yelp.com/biz/thep-thai-restaurant-new-york-5?adjust_creative=YOPxpPg1qGggP5qGSctmew&utm_campaign=yelp_api_v3&utm_medium=api_v3_business_search&utm_source=YOPxpPg1qGggP5qGSctmew',\n",
       " 'https://www.yelp.com/biz/vanessas-dumpling-house-new-york-2?adjust_creative=YOPxpPg1qGggP5qGSctmew&utm_campaign=yelp_api_v3&utm_medium=api_v3_business_search&utm_source=YOPxpPg1qGggP5qGSctmew',\n",
       " 'https://www.yelp.com/biz/paulie-gees-brooklyn?adjust_creative=YOPxpPg1qGggP5qGSctmew&utm_campaign=yelp_api_v3&utm_medium=api_v3_business_search&utm_source=YOPxpPg1qGggP5qGSctmew',\n",
       " 'https://www.yelp.com/biz/bac%C3%A0n-brooklyn?adjust_creative=YOPxpPg1qGggP5qGSctmew&utm_campaign=yelp_api_v3&utm_medium=api_v3_business_search&utm_source=YOPxpPg1qGggP5qGSctmew',\n",
       " 'https://www.yelp.com/biz/jongro-bbq-new-york-3?adjust_creative=YOPxpPg1qGggP5qGSctmew&utm_campaign=yelp_api_v3&utm_medium=api_v3_business_search&utm_source=YOPxpPg1qGggP5qGSctmew',\n",
       " 'https://www.yelp.com/biz/bobwhite-counter-new-york-7?adjust_creative=YOPxpPg1qGggP5qGSctmew&utm_campaign=yelp_api_v3&utm_medium=api_v3_business_search&utm_source=YOPxpPg1qGggP5qGSctmew',\n",
       " 'https://www.yelp.com/biz/leroys-brooklyn?adjust_creative=YOPxpPg1qGggP5qGSctmew&utm_campaign=yelp_api_v3&utm_medium=api_v3_business_search&utm_source=YOPxpPg1qGggP5qGSctmew',\n",
       " 'https://www.yelp.com/biz/citizens-of-soho-new-york?adjust_creative=YOPxpPg1qGggP5qGSctmew&utm_campaign=yelp_api_v3&utm_medium=api_v3_business_search&utm_source=YOPxpPg1qGggP5qGSctmew',\n",
       " 'https://www.yelp.com/biz/church-of-sweden-manhattan-2?adjust_creative=YOPxpPg1qGggP5qGSctmew&utm_campaign=yelp_api_v3&utm_medium=api_v3_business_search&utm_source=YOPxpPg1qGggP5qGSctmew',\n",
       " 'https://www.yelp.com/biz/l%C4%93na-new-york-8?adjust_creative=YOPxpPg1qGggP5qGSctmew&utm_campaign=yelp_api_v3&utm_medium=api_v3_business_search&utm_source=YOPxpPg1qGggP5qGSctmew',\n",
       " 'https://www.yelp.com/biz/casatulum-new-york-2?adjust_creative=YOPxpPg1qGggP5qGSctmew&utm_campaign=yelp_api_v3&utm_medium=api_v3_business_search&utm_source=YOPxpPg1qGggP5qGSctmew',\n",
       " 'https://www.yelp.com/biz/the-reading-room-new-york?adjust_creative=YOPxpPg1qGggP5qGSctmew&utm_campaign=yelp_api_v3&utm_medium=api_v3_business_search&utm_source=YOPxpPg1qGggP5qGSctmew',\n",
       " 'https://www.yelp.com/biz/bad-roman-new-york?adjust_creative=YOPxpPg1qGggP5qGSctmew&utm_campaign=yelp_api_v3&utm_medium=api_v3_business_search&utm_source=YOPxpPg1qGggP5qGSctmew',\n",
       " 'https://www.yelp.com/biz/fifty-henry-brooklyn?adjust_creative=YOPxpPg1qGggP5qGSctmew&utm_campaign=yelp_api_v3&utm_medium=api_v3_business_search&utm_source=YOPxpPg1qGggP5qGSctmew',\n",
       " 'https://www.yelp.com/biz/monkey-bar-new-york-4?adjust_creative=YOPxpPg1qGggP5qGSctmew&utm_campaign=yelp_api_v3&utm_medium=api_v3_business_search&utm_source=YOPxpPg1qGggP5qGSctmew',\n",
       " 'https://www.yelp.com/biz/time-out-market-new-york-brooklyn?adjust_creative=YOPxpPg1qGggP5qGSctmew&utm_campaign=yelp_api_v3&utm_medium=api_v3_business_search&utm_source=YOPxpPg1qGggP5qGSctmew',\n",
       " 'https://www.yelp.com/biz/dokodemo-new-york?adjust_creative=YOPxpPg1qGggP5qGSctmew&utm_campaign=yelp_api_v3&utm_medium=api_v3_business_search&utm_source=YOPxpPg1qGggP5qGSctmew',\n",
       " 'https://www.yelp.com/biz/aragvi-new-york?adjust_creative=YOPxpPg1qGggP5qGSctmew&utm_campaign=yelp_api_v3&utm_medium=api_v3_business_search&utm_source=YOPxpPg1qGggP5qGSctmew',\n",
       " 'https://www.yelp.com/biz/cafe-volkan-brooklyn-2?adjust_creative=YOPxpPg1qGggP5qGSctmew&utm_campaign=yelp_api_v3&utm_medium=api_v3_business_search&utm_source=YOPxpPg1qGggP5qGSctmew',\n",
       " 'https://www.yelp.com/biz/two-hands-new-york-4?adjust_creative=YOPxpPg1qGggP5qGSctmew&utm_campaign=yelp_api_v3&utm_medium=api_v3_business_search&utm_source=YOPxpPg1qGggP5qGSctmew',\n",
       " 'https://www.yelp.com/biz/aldama-brooklyn?adjust_creative=YOPxpPg1qGggP5qGSctmew&utm_campaign=yelp_api_v3&utm_medium=api_v3_business_search&utm_source=YOPxpPg1qGggP5qGSctmew',\n",
       " 'https://www.yelp.com/biz/valerie-new-york?adjust_creative=YOPxpPg1qGggP5qGSctmew&utm_campaign=yelp_api_v3&utm_medium=api_v3_business_search&utm_source=YOPxpPg1qGggP5qGSctmew',\n",
       " 'https://www.yelp.com/biz/atti-brooklyn?adjust_creative=YOPxpPg1qGggP5qGSctmew&utm_campaign=yelp_api_v3&utm_medium=api_v3_business_search&utm_source=YOPxpPg1qGggP5qGSctmew',\n",
       " 'https://www.yelp.com/biz/taboonette-new-york?adjust_creative=YOPxpPg1qGggP5qGSctmew&utm_campaign=yelp_api_v3&utm_medium=api_v3_business_search&utm_source=YOPxpPg1qGggP5qGSctmew',\n",
       " 'https://www.yelp.com/biz/la-pecora-bianca-new-york-8?adjust_creative=YOPxpPg1qGggP5qGSctmew&utm_campaign=yelp_api_v3&utm_medium=api_v3_business_search&utm_source=YOPxpPg1qGggP5qGSctmew',\n",
       " 'https://www.yelp.com/biz/genesis-house-new-york-5?adjust_creative=YOPxpPg1qGggP5qGSctmew&utm_campaign=yelp_api_v3&utm_medium=api_v3_business_search&utm_source=YOPxpPg1qGggP5qGSctmew',\n",
       " 'https://www.yelp.com/biz/five-leaves-brooklyn-2?adjust_creative=YOPxpPg1qGggP5qGSctmew&utm_campaign=yelp_api_v3&utm_medium=api_v3_business_search&utm_source=YOPxpPg1qGggP5qGSctmew']"
      ]
     },
     "execution_count": 19,
     "metadata": {},
     "output_type": "execute_result"
    }
   ],
   "source": [
    "part_8_urls = urls[350:400]\n",
    "part_8_urls"
   ]
  },
  {
   "cell_type": "code",
   "execution_count": 20,
   "id": "d08f76a5",
   "metadata": {
    "scrolled": true
   },
   "outputs": [
    {
     "data": {
      "text/plain": [
       "['https://www.yelp.com/biz/las-santas-brooklyn-2?adjust_creative=YOPxpPg1qGggP5qGSctmew&utm_campaign=yelp_api_v3&utm_medium=api_v3_business_search&utm_source=YOPxpPg1qGggP5qGSctmew',\n",
       " 'https://www.yelp.com/biz/yakiniku-toraji-new-york?adjust_creative=YOPxpPg1qGggP5qGSctmew&utm_campaign=yelp_api_v3&utm_medium=api_v3_business_search&utm_source=YOPxpPg1qGggP5qGSctmew',\n",
       " 'https://www.yelp.com/biz/veselka-new-york?adjust_creative=YOPxpPg1qGggP5qGSctmew&utm_campaign=yelp_api_v3&utm_medium=api_v3_business_search&utm_source=YOPxpPg1qGggP5qGSctmew',\n",
       " 'https://www.yelp.com/biz/amici-ristorante-new-york-3?adjust_creative=YOPxpPg1qGggP5qGSctmew&utm_campaign=yelp_api_v3&utm_medium=api_v3_business_search&utm_source=YOPxpPg1qGggP5qGSctmew',\n",
       " 'https://www.yelp.com/biz/nonono-new-york-6?adjust_creative=YOPxpPg1qGggP5qGSctmew&utm_campaign=yelp_api_v3&utm_medium=api_v3_business_search&utm_source=YOPxpPg1qGggP5qGSctmew',\n",
       " 'https://www.yelp.com/biz/sagaponack-new-york-6?adjust_creative=YOPxpPg1qGggP5qGSctmew&utm_campaign=yelp_api_v3&utm_medium=api_v3_business_search&utm_source=YOPxpPg1qGggP5qGSctmew',\n",
       " 'https://www.yelp.com/biz/dim-sum-palace-new-york-16?adjust_creative=YOPxpPg1qGggP5qGSctmew&utm_campaign=yelp_api_v3&utm_medium=api_v3_business_search&utm_source=YOPxpPg1qGggP5qGSctmew',\n",
       " 'https://www.yelp.com/biz/osteria-la-baia-new-york?adjust_creative=YOPxpPg1qGggP5qGSctmew&utm_campaign=yelp_api_v3&utm_medium=api_v3_business_search&utm_source=YOPxpPg1qGggP5qGSctmew',\n",
       " 'https://www.yelp.com/biz/wagamama-murray-hill-new-york?adjust_creative=YOPxpPg1qGggP5qGSctmew&utm_campaign=yelp_api_v3&utm_medium=api_v3_business_search&utm_source=YOPxpPg1qGggP5qGSctmew',\n",
       " 'https://www.yelp.com/biz/larina-pastificio-and-vino-brooklyn?adjust_creative=YOPxpPg1qGggP5qGSctmew&utm_campaign=yelp_api_v3&utm_medium=api_v3_business_search&utm_source=YOPxpPg1qGggP5qGSctmew',\n",
       " 'https://www.yelp.com/biz/luchadores-new-york?adjust_creative=YOPxpPg1qGggP5qGSctmew&utm_campaign=yelp_api_v3&utm_medium=api_v3_business_search&utm_source=YOPxpPg1qGggP5qGSctmew',\n",
       " 'https://www.yelp.com/biz/yardbird-brooklyn?adjust_creative=YOPxpPg1qGggP5qGSctmew&utm_campaign=yelp_api_v3&utm_medium=api_v3_business_search&utm_source=YOPxpPg1qGggP5qGSctmew',\n",
       " 'https://www.yelp.com/biz/hometown-bar-b-que-brooklyn-3?adjust_creative=YOPxpPg1qGggP5qGSctmew&utm_campaign=yelp_api_v3&utm_medium=api_v3_business_search&utm_source=YOPxpPg1qGggP5qGSctmew',\n",
       " 'https://www.yelp.com/biz/aurora-brooklyn?adjust_creative=YOPxpPg1qGggP5qGSctmew&utm_campaign=yelp_api_v3&utm_medium=api_v3_business_search&utm_source=YOPxpPg1qGggP5qGSctmew',\n",
       " 'https://www.yelp.com/biz/berimbau-brazilian-kitchen-new-york-2?adjust_creative=YOPxpPg1qGggP5qGSctmew&utm_campaign=yelp_api_v3&utm_medium=api_v3_business_search&utm_source=YOPxpPg1qGggP5qGSctmew',\n",
       " 'https://www.yelp.com/biz/leyla-new-york-4?adjust_creative=YOPxpPg1qGggP5qGSctmew&utm_campaign=yelp_api_v3&utm_medium=api_v3_business_search&utm_source=YOPxpPg1qGggP5qGSctmew',\n",
       " 'https://www.yelp.com/biz/the-grotto-brooklyn?adjust_creative=YOPxpPg1qGggP5qGSctmew&utm_campaign=yelp_api_v3&utm_medium=api_v3_business_search&utm_source=YOPxpPg1qGggP5qGSctmew',\n",
       " 'https://www.yelp.com/biz/azule-cantina-new-york?adjust_creative=YOPxpPg1qGggP5qGSctmew&utm_campaign=yelp_api_v3&utm_medium=api_v3_business_search&utm_source=YOPxpPg1qGggP5qGSctmew',\n",
       " 'https://www.yelp.com/biz/a-un-brooklyn-new-york-2?adjust_creative=YOPxpPg1qGggP5qGSctmew&utm_campaign=yelp_api_v3&utm_medium=api_v3_business_search&utm_source=YOPxpPg1qGggP5qGSctmew',\n",
       " 'https://www.yelp.com/biz/kikis-new-york?adjust_creative=YOPxpPg1qGggP5qGSctmew&utm_campaign=yelp_api_v3&utm_medium=api_v3_business_search&utm_source=YOPxpPg1qGggP5qGSctmew',\n",
       " 'https://www.yelp.com/biz/olly-olly-market-new-york-2?adjust_creative=YOPxpPg1qGggP5qGSctmew&utm_campaign=yelp_api_v3&utm_medium=api_v3_business_search&utm_source=YOPxpPg1qGggP5qGSctmew',\n",
       " 'https://www.yelp.com/biz/the-smith-new-york-2?adjust_creative=YOPxpPg1qGggP5qGSctmew&utm_campaign=yelp_api_v3&utm_medium=api_v3_business_search&utm_source=YOPxpPg1qGggP5qGSctmew',\n",
       " 'https://www.yelp.com/biz/pearl-street-supper-club-brooklyn?adjust_creative=YOPxpPg1qGggP5qGSctmew&utm_campaign=yelp_api_v3&utm_medium=api_v3_business_search&utm_source=YOPxpPg1qGggP5qGSctmew',\n",
       " 'https://www.yelp.com/biz/wan-wan-new-york-2?adjust_creative=YOPxpPg1qGggP5qGSctmew&utm_campaign=yelp_api_v3&utm_medium=api_v3_business_search&utm_source=YOPxpPg1qGggP5qGSctmew',\n",
       " 'https://www.yelp.com/biz/hanoi-house-new-york?adjust_creative=YOPxpPg1qGggP5qGSctmew&utm_campaign=yelp_api_v3&utm_medium=api_v3_business_search&utm_source=YOPxpPg1qGggP5qGSctmew',\n",
       " 'https://www.yelp.com/biz/aita-brooklyn?adjust_creative=YOPxpPg1qGggP5qGSctmew&utm_campaign=yelp_api_v3&utm_medium=api_v3_business_search&utm_source=YOPxpPg1qGggP5qGSctmew',\n",
       " 'https://www.yelp.com/biz/petite-patate-brooklyn?adjust_creative=YOPxpPg1qGggP5qGSctmew&utm_campaign=yelp_api_v3&utm_medium=api_v3_business_search&utm_source=YOPxpPg1qGggP5qGSctmew',\n",
       " 'https://www.yelp.com/biz/forma-pasta-factory-brooklyn-3?adjust_creative=YOPxpPg1qGggP5qGSctmew&utm_campaign=yelp_api_v3&utm_medium=api_v3_business_search&utm_source=YOPxpPg1qGggP5qGSctmew',\n",
       " 'https://www.yelp.com/biz/ursula-bk-brooklyn-2?adjust_creative=YOPxpPg1qGggP5qGSctmew&utm_campaign=yelp_api_v3&utm_medium=api_v3_business_search&utm_source=YOPxpPg1qGggP5qGSctmew',\n",
       " 'https://www.yelp.com/biz/olle-new-york?adjust_creative=YOPxpPg1qGggP5qGSctmew&utm_campaign=yelp_api_v3&utm_medium=api_v3_business_search&utm_source=YOPxpPg1qGggP5qGSctmew',\n",
       " 'https://www.yelp.com/biz/kook-new-york?adjust_creative=YOPxpPg1qGggP5qGSctmew&utm_campaign=yelp_api_v3&utm_medium=api_v3_business_search&utm_source=YOPxpPg1qGggP5qGSctmew',\n",
       " 'https://www.yelp.com/biz/carnegie-diner-new-york?adjust_creative=YOPxpPg1qGggP5qGSctmew&utm_campaign=yelp_api_v3&utm_medium=api_v3_business_search&utm_source=YOPxpPg1qGggP5qGSctmew',\n",
       " 'https://www.yelp.com/biz/loreto-italian-kitchen-and-bar-brooklyn?adjust_creative=YOPxpPg1qGggP5qGSctmew&utm_campaign=yelp_api_v3&utm_medium=api_v3_business_search&utm_source=YOPxpPg1qGggP5qGSctmew',\n",
       " 'https://www.yelp.com/biz/mekong-bk-brooklyn?adjust_creative=YOPxpPg1qGggP5qGSctmew&utm_campaign=yelp_api_v3&utm_medium=api_v3_business_search&utm_source=YOPxpPg1qGggP5qGSctmew',\n",
       " 'https://www.yelp.com/biz/tasty-hand-pulled-noodles-new-york?adjust_creative=YOPxpPg1qGggP5qGSctmew&utm_campaign=yelp_api_v3&utm_medium=api_v3_business_search&utm_source=YOPxpPg1qGggP5qGSctmew']"
      ]
     },
     "execution_count": 20,
     "metadata": {},
     "output_type": "execute_result"
    }
   ],
   "source": [
    "part_9_urls = urls[400:]\n",
    "part_9_urls"
   ]
  },
  {
   "cell_type": "markdown",
   "id": "a9ed4c80",
   "metadata": {},
   "source": [
    "<p><b>This means we can proceed to selecting links from the restaurant df without fear of duplicating restaurants to scrape</b></p>\n",
    "\n",
    "<p>\n",
    "    <ul>\n",
    "        <li>You can now jump to the last cell and execute it based on which part url you were assigned</li>\n",
    "    </ul>\n",
    "</p>\n",
    "\n",
    "## Skip to step 5. Remember your part_{num}_urls to prevent repetition"
   ]
  },
  {
   "cell_type": "code",
   "execution_count": 1,
   "id": "d8abdad2",
   "metadata": {},
   "outputs": [],
   "source": [
    "from bs4 import BeautifulSoup\n",
    "import requests\n",
    "\n",
    "link = 'https://www.yelp.com/biz/yes-apothecary-new-york-4?adjust_creative=YOPxpPg1qGggP5qGSctmew&utm_campaign=yelp_api_v3&utm_medium=api_v3_business_search&utm_source=YOPxpPg1qGggP5qGSctmew'\n",
    "response = requests.get(link)\n",
    "text = BeautifulSoup(response.text, 'html.parser')"
   ]
  },
  {
   "cell_type": "code",
   "execution_count": 2,
   "id": "711ad039",
   "metadata": {},
   "outputs": [
    {
     "name": "stdout",
     "output_type": "stream",
     "text": [
      "220\n"
     ]
    }
   ],
   "source": [
    "import re\n",
    "num_reviews = text.find('a', attrs={'href': '#reviews'}).string\n",
    "\n",
    "num_reviews = int(re.findall('\\d+', num_reviews)[0])\n",
    "print(num_reviews)"
   ]
  },
  {
   "cell_type": "code",
   "execution_count": 61,
   "id": "8f8a9559",
   "metadata": {},
   "outputs": [
    {
     "data": {
      "text/plain": [
       "212"
      ]
     },
     "execution_count": 61,
     "metadata": {},
     "output_type": "execute_result"
    }
   ],
   "source": [
    "num_reviews=212\n",
    "num_reviews"
   ]
  },
  {
   "cell_type": "code",
   "execution_count": 3,
   "id": "f0cd3a54",
   "metadata": {},
   "outputs": [
    {
     "name": "stdout",
     "output_type": "stream",
     "text": [
      "['https://www.yelp.com/biz/yes-apothecary-new-york-4?adjust_creative=YOPxpPg1qGggP5qGSctmew&utm_campaign=yelp_api_v3&utm_medium=api_v3_business_search&utm_source=YOPxpPg1qGggP5qGSctmew&start=0', 'https://www.yelp.com/biz/yes-apothecary-new-york-4?adjust_creative=YOPxpPg1qGggP5qGSctmew&utm_campaign=yelp_api_v3&utm_medium=api_v3_business_search&utm_source=YOPxpPg1qGggP5qGSctmew&start=10', 'https://www.yelp.com/biz/yes-apothecary-new-york-4?adjust_creative=YOPxpPg1qGggP5qGSctmew&utm_campaign=yelp_api_v3&utm_medium=api_v3_business_search&utm_source=YOPxpPg1qGggP5qGSctmew&start=20', 'https://www.yelp.com/biz/yes-apothecary-new-york-4?adjust_creative=YOPxpPg1qGggP5qGSctmew&utm_campaign=yelp_api_v3&utm_medium=api_v3_business_search&utm_source=YOPxpPg1qGggP5qGSctmew&start=30', 'https://www.yelp.com/biz/yes-apothecary-new-york-4?adjust_creative=YOPxpPg1qGggP5qGSctmew&utm_campaign=yelp_api_v3&utm_medium=api_v3_business_search&utm_source=YOPxpPg1qGggP5qGSctmew&start=40', 'https://www.yelp.com/biz/yes-apothecary-new-york-4?adjust_creative=YOPxpPg1qGggP5qGSctmew&utm_campaign=yelp_api_v3&utm_medium=api_v3_business_search&utm_source=YOPxpPg1qGggP5qGSctmew&start=50', 'https://www.yelp.com/biz/yes-apothecary-new-york-4?adjust_creative=YOPxpPg1qGggP5qGSctmew&utm_campaign=yelp_api_v3&utm_medium=api_v3_business_search&utm_source=YOPxpPg1qGggP5qGSctmew&start=60', 'https://www.yelp.com/biz/yes-apothecary-new-york-4?adjust_creative=YOPxpPg1qGggP5qGSctmew&utm_campaign=yelp_api_v3&utm_medium=api_v3_business_search&utm_source=YOPxpPg1qGggP5qGSctmew&start=70', 'https://www.yelp.com/biz/yes-apothecary-new-york-4?adjust_creative=YOPxpPg1qGggP5qGSctmew&utm_campaign=yelp_api_v3&utm_medium=api_v3_business_search&utm_source=YOPxpPg1qGggP5qGSctmew&start=80', 'https://www.yelp.com/biz/yes-apothecary-new-york-4?adjust_creative=YOPxpPg1qGggP5qGSctmew&utm_campaign=yelp_api_v3&utm_medium=api_v3_business_search&utm_source=YOPxpPg1qGggP5qGSctmew&start=90']\n"
     ]
    }
   ],
   "source": [
    "url_list = []\n",
    "for i in range(0, num_reviews, 10):\n",
    "    url_list.append(link+'&start='+str(i))\n",
    "\n",
    "# Gets first ten pages to be searched\n",
    "print(url_list[:10])"
   ]
  },
  {
   "cell_type": "markdown",
   "id": "afd77d47",
   "metadata": {},
   "source": [
    "### Step 2: Find all the review divs on the page"
   ]
  },
  {
   "cell_type": "code",
   "execution_count": 4,
   "id": "e5283024",
   "metadata": {},
   "outputs": [
    {
     "name": "stdout",
     "output_type": "stream",
     "text": [
      "10\n"
     ]
    }
   ],
   "source": [
    "reviews = text.find_all('div', attrs={'class': 'review__09f24__oHr9V'})\n",
    "print(len(reviews))"
   ]
  },
  {
   "cell_type": "markdown",
   "id": "ed32c123",
   "metadata": {},
   "source": [
    "### Step 3: Scrape the detail information\n",
    "\n",
    "Start with one review in order to debug the apply it on the rest"
   ]
  },
  {
   "cell_type": "code",
   "execution_count": 5,
   "id": "d55c2858",
   "metadata": {},
   "outputs": [
    {
     "name": "stdout",
     "output_type": "stream",
     "text": [
      "Chloe K.\n"
     ]
    }
   ],
   "source": [
    "review = reviews[0]\n",
    "\n",
    "# Get username\n",
    "username = review.find('a', attrs={'class': 'css-1m051bw'}).string\n",
    "print(username)"
   ]
  },
  {
   "cell_type": "code",
   "execution_count": 6,
   "id": "b6307c33",
   "metadata": {},
   "outputs": [
    {
     "name": "stdout",
     "output_type": "stream",
     "text": [
      "Los Angeles, CA\n"
     ]
    }
   ],
   "source": [
    "# Get location\n",
    "loc= review.find('span', attrs={'class': 'css-qgunke'}).string\n",
    "print(loc)"
   ]
  },
  {
   "cell_type": "code",
   "execution_count": 7,
   "id": "d1829dc7",
   "metadata": {},
   "outputs": [
    {
     "name": "stdout",
     "output_type": "stream",
     "text": [
      "5.0\n"
     ]
    }
   ],
   "source": [
    "# Get rating\n",
    "rating = review.find('div', attrs={'role': 'img'}).get('aria-label')\n",
    "\n",
    "# Get the number of the rating\n",
    "rating = float(re.findall('\\d+', rating)[0])\n",
    "print(rating)"
   ]
  },
  {
   "cell_type": "code",
   "execution_count": 8,
   "id": "08e1de2a",
   "metadata": {},
   "outputs": [
    {
     "name": "stdout",
     "output_type": "stream",
     "text": [
      "3/3/2023\n"
     ]
    }
   ],
   "source": [
    "# Get date\n",
    "date = review.find('span', attrs={'class': 'css-chan6m'}).string\n",
    "print(date)"
   ]
  },
  {
   "cell_type": "code",
   "execution_count": 9,
   "id": "826e23af",
   "metadata": {},
   "outputs": [
    {
     "name": "stdout",
     "output_type": "stream",
     "text": [
      "Edy and Josh are the BEST bartenders. We had a great time, drinks were amazing! Have gone twice now and will definitely be back\n"
     ]
    }
   ],
   "source": [
    "# Get content\n",
    "info = review.find('span', attrs={'class': 'raw__09f24__T4Ezm'}).string\n",
    "print(info)"
   ]
  },
  {
   "cell_type": "markdown",
   "id": "aae423c9",
   "metadata": {},
   "source": [
    "### Step 4: Apply the steps above to reviews gotten from one page"
   ]
  },
  {
   "cell_type": "code",
   "execution_count": 10,
   "id": "adf4556f",
   "metadata": {},
   "outputs": [],
   "source": [
    "import csv\n",
    "with open('reviews.csv', 'w', encoding='utf-8') as csvfile:\n",
    "    review_writer = csv.writer(csvfile)\n",
    "    \n",
    "    # picks individual reviews in the reviews obtained\n",
    "    for review in reviews:\n",
    "        \n",
    "        dic = {}\n",
    "        \n",
    "        username = review.find('a', attrs={'class': 'css-1m051bw'}).string\n",
    "        account = review.find('a', attrs={'class': 'css-1m051bw'}).get('href')\n",
    "        loc = review.find('span', attrs={'class': 'css-qgunke'}).string\n",
    "        date = review.find('span', attrs={'class': 'css-chan6m'}).string\n",
    "        rating = review.find('div', attrs={'role': 'img'}).get('aria-label')\n",
    "        rating = float(re.findall('\\d+', rating)[0])\n",
    "        content = review.find('span', attrs={'class': 'raw__09f24__T4Ezm'}).string\n",
    "        \n",
    "        if bool(content and not content.isspace()) is True:\n",
    "            content = content\n",
    "        else:\n",
    "            content = 'No comment'\n",
    "        \n",
    "        # Assign the user values to the dictionary\n",
    "        dic['username'] = username\n",
    "        dic['account'] = account\n",
    "        dic['location'] = loc\n",
    "        dic['date'] = date\n",
    "        dic['rating'] = rating\n",
    "        dic['comments'] = content\n",
    "        \n",
    "        # write this info to the local csv\n",
    "        review_writer.writerow(dic.values())"
   ]
  },
  {
   "cell_type": "markdown",
   "id": "38b6eba4",
   "metadata": {},
   "source": [
    "### Step 5: Apply that to all the pages with comments"
   ]
  },
  {
   "cell_type": "code",
   "execution_count": 7,
   "id": "1295763f",
   "metadata": {},
   "outputs": [
    {
     "name": "stdout",
     "output_type": "stream",
     "text": [
      "This is restaurant: 88    Las Santas\n",
      "Name: Name, dtype: object\n",
      "The num of reviews here: 309\n",
      "https://www.yelp.com/biz/las-santas-brooklyn-2?adjust_creative=YOPxpPg1qGggP5qGSctmew&utm_campaign=yelp_api_v3&utm_medium=api_v3_business_search&utm_source=YOPxpPg1qGggP5qGSctmew&start=0\n",
      "Finished page num: 1\n",
      "https://www.yelp.com/biz/las-santas-brooklyn-2?adjust_creative=YOPxpPg1qGggP5qGSctmew&utm_campaign=yelp_api_v3&utm_medium=api_v3_business_search&utm_source=YOPxpPg1qGggP5qGSctmew&start=10\n",
      "Finished page num: 2\n",
      "https://www.yelp.com/biz/las-santas-brooklyn-2?adjust_creative=YOPxpPg1qGggP5qGSctmew&utm_campaign=yelp_api_v3&utm_medium=api_v3_business_search&utm_source=YOPxpPg1qGggP5qGSctmew&start=20\n",
      "Finished page num: 3\n",
      "https://www.yelp.com/biz/las-santas-brooklyn-2?adjust_creative=YOPxpPg1qGggP5qGSctmew&utm_campaign=yelp_api_v3&utm_medium=api_v3_business_search&utm_source=YOPxpPg1qGggP5qGSctmew&start=30\n",
      "Finished page num: 4\n",
      "https://www.yelp.com/biz/las-santas-brooklyn-2?adjust_creative=YOPxpPg1qGggP5qGSctmew&utm_campaign=yelp_api_v3&utm_medium=api_v3_business_search&utm_source=YOPxpPg1qGggP5qGSctmew&start=40\n",
      "Finished page num: 5\n",
      "https://www.yelp.com/biz/las-santas-brooklyn-2?adjust_creative=YOPxpPg1qGggP5qGSctmew&utm_campaign=yelp_api_v3&utm_medium=api_v3_business_search&utm_source=YOPxpPg1qGggP5qGSctmew&start=50\n",
      "Finished page num: 6\n",
      "https://www.yelp.com/biz/las-santas-brooklyn-2?adjust_creative=YOPxpPg1qGggP5qGSctmew&utm_campaign=yelp_api_v3&utm_medium=api_v3_business_search&utm_source=YOPxpPg1qGggP5qGSctmew&start=60\n",
      "Finished page num: 7\n",
      "https://www.yelp.com/biz/las-santas-brooklyn-2?adjust_creative=YOPxpPg1qGggP5qGSctmew&utm_campaign=yelp_api_v3&utm_medium=api_v3_business_search&utm_source=YOPxpPg1qGggP5qGSctmew&start=70\n",
      "Finished page num: 8\n",
      "https://www.yelp.com/biz/las-santas-brooklyn-2?adjust_creative=YOPxpPg1qGggP5qGSctmew&utm_campaign=yelp_api_v3&utm_medium=api_v3_business_search&utm_source=YOPxpPg1qGggP5qGSctmew&start=80\n",
      "Finished page num: 9\n",
      "https://www.yelp.com/biz/las-santas-brooklyn-2?adjust_creative=YOPxpPg1qGggP5qGSctmew&utm_campaign=yelp_api_v3&utm_medium=api_v3_business_search&utm_source=YOPxpPg1qGggP5qGSctmew&start=90\n",
      "Finished page num: 10\n",
      "https://www.yelp.com/biz/las-santas-brooklyn-2?adjust_creative=YOPxpPg1qGggP5qGSctmew&utm_campaign=yelp_api_v3&utm_medium=api_v3_business_search&utm_source=YOPxpPg1qGggP5qGSctmew&start=100\n",
      "Finished page num: 11\n",
      "https://www.yelp.com/biz/las-santas-brooklyn-2?adjust_creative=YOPxpPg1qGggP5qGSctmew&utm_campaign=yelp_api_v3&utm_medium=api_v3_business_search&utm_source=YOPxpPg1qGggP5qGSctmew&start=110\n",
      "Finished page num: 12\n",
      "https://www.yelp.com/biz/las-santas-brooklyn-2?adjust_creative=YOPxpPg1qGggP5qGSctmew&utm_campaign=yelp_api_v3&utm_medium=api_v3_business_search&utm_source=YOPxpPg1qGggP5qGSctmew&start=120\n",
      "Finished page num: 13\n",
      "https://www.yelp.com/biz/las-santas-brooklyn-2?adjust_creative=YOPxpPg1qGggP5qGSctmew&utm_campaign=yelp_api_v3&utm_medium=api_v3_business_search&utm_source=YOPxpPg1qGggP5qGSctmew&start=130\n"
     ]
    },
    {
     "ename": "KeyboardInterrupt",
     "evalue": "",
     "output_type": "error",
     "traceback": [
      "\u001b[1;31m---------------------------------------------------------------------------\u001b[0m",
      "\u001b[1;31mKeyboardInterrupt\u001b[0m                         Traceback (most recent call last)",
      "Input \u001b[1;32mIn [7]\u001b[0m, in \u001b[0;36m<cell line: 41>\u001b[1;34m()\u001b[0m\n\u001b[0;32m     76\u001b[0m scrape_single_page(reviews, review_writer, link)\n\u001b[0;32m     78\u001b[0m \u001b[38;5;66;03m# sleep to avoid being banned\u001b[39;00m\n\u001b[1;32m---> 79\u001b[0m \u001b[43mtime\u001b[49m\u001b[38;5;241;43m.\u001b[39;49m\u001b[43msleep\u001b[49m\u001b[43m(\u001b[49m\u001b[43mrandom\u001b[49m\u001b[38;5;241;43m.\u001b[39;49m\u001b[43mrandint\u001b[49m\u001b[43m(\u001b[49m\u001b[38;5;241;43m1\u001b[39;49m\u001b[43m,\u001b[49m\u001b[43m \u001b[49m\u001b[38;5;241;43m3\u001b[39;49m\u001b[43m)\u001b[49m\u001b[43m)\u001b[49m\n\u001b[0;32m     81\u001b[0m \u001b[38;5;66;03m# indicate completion\u001b[39;00m\n\u001b[0;32m     82\u001b[0m \u001b[38;5;28mprint\u001b[39m(\u001b[38;5;124m'\u001b[39m\u001b[38;5;124mFinished page num: \u001b[39m\u001b[38;5;124m'\u001b[39m \u001b[38;5;241m+\u001b[39m \u001b[38;5;28mstr\u001b[39m(index \u001b[38;5;241m+\u001b[39m \u001b[38;5;241m1\u001b[39m))\n",
      "\u001b[1;31mKeyboardInterrupt\u001b[0m: "
     ]
    }
   ],
   "source": [
    "from bs4 import BeautifulSoup\n",
    "import requests\n",
    "import time\n",
    "import random\n",
    "import re\n",
    "import csv\n",
    "\n",
    "def scrape_single_page(reviews, csvwriter, link):\n",
    "    for review in reviews:\n",
    "        \n",
    "        dic = {}\n",
    "        \n",
    "        username = review.find('a', attrs={'class': 'css-1m051bw'}).string\n",
    "        account = review.find('a', attrs={'class': 'css-1m051bw'}).get('href')\n",
    "        loc = review.find('span', attrs={'class': 'css-qgunke'}).string\n",
    "        date = review.find('span', attrs={'class': 'css-chan6m'}).string\n",
    "        rating = review.find('div', attrs={'role': 'img'}).get('aria-label')\n",
    "        rating = float(re.findall('\\d+', rating)[0])\n",
    "        content = review.find('span', attrs={'class': 'raw__09f24__T4Ezm'}).string\n",
    "        \n",
    "        if bool(content and not content.isspace()) is True:\n",
    "            content = content\n",
    "        else:\n",
    "            content = 'No comment'\n",
    "        \n",
    "        # Assign the user values to the dictionary\n",
    "        dic['username'] = username\n",
    "        dic['account'] = account\n",
    "        dic['location'] = loc\n",
    "        dic['date'] = date\n",
    "        dic['rating'] = rating\n",
    "        dic['comments'] = content\n",
    "        dic['restaurant'] = link\n",
    "        \n",
    "        # write this info to the local csv\n",
    "        review_writer.writerow(dic.values())\n",
    "\n",
    "\n",
    "\n",
    "later_list = []\n",
    "for link in part_9_urls:\n",
    "    response = requests.get(link)\n",
    "    text = BeautifulSoup(response.text, 'html.parser')\n",
    "\n",
    "    row = final_df[final_df['URL'] == link]\n",
    "    rest_name = row['Name']\n",
    "\n",
    "    print(f'This is restaurant: {rest_name}')\n",
    "    #num_reviews = text.find('a', attrs={'href': '#reviews'}).string\n",
    "\n",
    "    #num_reviews = int(re.findall('\\d+', num_reviews)[0])\n",
    "\n",
    "    #if (num_reviews >= int(row['Number of Reviews'])):\n",
    "    #    num_reviews = num_reviews\n",
    "    #else:\n",
    "    num_reviews = int(row['Number of Reviews'])\n",
    "    print(f'The num of reviews here: {num_reviews}')\n",
    "    \n",
    "    if num_reviews > 500:\n",
    "        later_list.append(link)\n",
    "        continue\n",
    "\n",
    "    url_list = []\n",
    "    for i in range(0, num_reviews, 10):\n",
    "        url_list.append(link+'&start='+str(i))\n",
    "\n",
    "\n",
    "\n",
    "    with open('reviews.csv', 'a+', encoding='utf-8') as csvfile:\n",
    "        review_writer = csv.writer(csvfile)\n",
    "        for index, url in enumerate(url_list):\n",
    "            response = requests.get(url).text\n",
    "            print(url)\n",
    "            soup = BeautifulSoup(response, 'html.parser')\n",
    "            reviews = soup.find_all('div', attrs={'class': 'review__09f24__oHr9V'})\n",
    "            scrape_single_page(reviews, review_writer, link)\n",
    "\n",
    "            # sleep to avoid being banned\n",
    "            time.sleep(random.randint(1, 3))\n",
    "\n",
    "            # indicate completion\n",
    "            print('Finished page num: ' + str(index + 1))\n",
    "\n",
    "print('Done scraping')"
   ]
  },
  {
   "cell_type": "code",
   "execution_count": null,
   "id": "bdedc8ce",
   "metadata": {},
   "outputs": [],
   "source": []
  },
  {
   "cell_type": "code",
   "execution_count": null,
   "id": "d9d2c9d2",
   "metadata": {},
   "outputs": [],
   "source": []
  }
 ],
 "metadata": {
  "kernelspec": {
   "display_name": "Python 3 (ipykernel)",
   "language": "python",
   "name": "python3"
  },
  "language_info": {
   "codemirror_mode": {
    "name": "ipython",
    "version": 3
   },
   "file_extension": ".py",
   "mimetype": "text/x-python",
   "name": "python",
   "nbconvert_exporter": "python",
   "pygments_lexer": "ipython3",
   "version": "3.9.12"
  }
 },
 "nbformat": 4,
 "nbformat_minor": 5
}
