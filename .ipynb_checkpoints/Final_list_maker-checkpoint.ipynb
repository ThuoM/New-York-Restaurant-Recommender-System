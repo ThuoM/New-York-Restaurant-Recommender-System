{
 "cells": [
  {
   "cell_type": "code",
   "execution_count": 1,
   "id": "440e1322",
   "metadata": {},
   "outputs": [],
   "source": [
    "from bs4 import BeautifulSoup\n",
    "import requests\n",
    "import time\n",
    "import random\n",
    "import re\n",
    "import csv\n",
    "import pandas as pd"
   ]
  },
  {
   "cell_type": "code",
   "execution_count": 2,
   "id": "2c2966a0",
   "metadata": {},
   "outputs": [
    {
     "name": "stdout",
     "output_type": "stream",
     "text": [
      "['reviews (1).csv', 'reviews (10).csv', 'reviews (11).csv', 'reviews (12).csv', 'reviews (13).csv', 'reviews (14).csv', 'reviews (15).csv', 'reviews (16).csv', 'reviews (17).csv', 'reviews (18).csv', 'reviews (19).csv', 'reviews (20).csv', 'reviews (21).csv', 'reviews (22).csv', 'reviews (23).csv', 'reviews (24).csv', 'reviews (3).csv', 'reviews (30).csv', 'reviews (31).csv', 'reviews (32).csv', 'reviews (33).csv', 'reviews (34).csv', 'reviews (35).csv', 'reviews (36).csv', 'reviews (37).csv', 'reviews (4).csv', 'reviews (5).csv', 'reviews (6).csv', 'reviews (7).csv', 'reviews (8).csv', 'reviews (9).csv', 'reviews st.csv', 'reviews.csv', 'reviews2.csv', 'reviews3.csv']\n"
     ]
    }
   ],
   "source": [
    "from os import walk\n",
    "\n",
    "# folder path\n",
    "dir_path = r'reviews'\n",
    "res = []\n",
    "for (dir_path, dir_names, file_names) in walk(dir_path):\n",
    "    # print(f'Adding these files: {file_names}')\n",
    "    res.extend(file_names)\n",
    "    # don't look inside any subdirectory\n",
    "    break\n",
    "print(res)"
   ]
  },
  {
   "cell_type": "code",
   "execution_count": 3,
   "id": "e17d549a",
   "metadata": {},
   "outputs": [
    {
     "name": "stdout",
     "output_type": "stream",
     "text": [
      "['reviews (1).csv', 'reviews (10).csv', 'reviews (11).csv', 'reviews (12).csv', 'reviews (13).csv', 'reviews (14).csv', 'reviews (15).csv', 'reviews (16).csv', 'reviews (17).csv', 'reviews (18).csv', 'reviews (19).csv', 'reviews (20).csv', 'reviews (21).csv', 'reviews (22).csv', 'reviews (23).csv', 'reviews (24).csv', 'reviews (3).csv', 'reviews (30).csv', 'reviews (31).csv', 'reviews (32).csv', 'reviews (33).csv', 'reviews (34).csv', 'reviews (35).csv', 'reviews (36).csv', 'reviews (37).csv', 'reviews (4).csv', 'reviews (5).csv', 'reviews (6).csv', 'reviews (7).csv', 'reviews (8).csv', 'reviews (9).csv', 'reviews st.csv', 'reviews.csv', 'reviews2.csv', 'reviews3.csv']\n"
     ]
    }
   ],
   "source": [
    "# list of the files to keep\n",
    "keep = []\n",
    "\n",
    "for name in res:\n",
    "    if 'review' in name:\n",
    "        keep.append(name)\n",
    "print(keep)"
   ]
  },
  {
   "cell_type": "code",
   "execution_count": 4,
   "id": "12dd4b1f",
   "metadata": {},
   "outputs": [
    {
     "name": "stdout",
     "output_type": "stream",
     "text": [
      "Pulling data from reviews (24).csv\n",
      "Pulling data from reviews (30).csv\n",
      "Pulling data from reviews (31).csv\n",
      "Pulling data from reviews (32).csv\n",
      "Pulling data from reviews (33).csv\n",
      "Pulling data from reviews (34).csv\n",
      "Pulling data from reviews (35).csv\n",
      "Pulling data from reviews (36).csv\n",
      "Pulling data from reviews (37).csv\n"
     ]
    }
   ],
   "source": [
    "# Confirms the list of files to pull data from\n",
    "work_on = []\n",
    "with open('list.csv', 'r') as csvfile:\n",
    "    info = csvfile.read()\n",
    "    for line in keep:\n",
    "        if line in info:\n",
    "            continue\n",
    "        else:\n",
    "            print(f'Pulling data from {line}')\n",
    "            work_on.append(line)\n",
    "    csvfile.close()        "
   ]
  },
  {
   "cell_type": "code",
   "execution_count": 5,
   "id": "38c29f81",
   "metadata": {},
   "outputs": [
    {
     "name": "stdout",
     "output_type": "stream",
     "text": [
      "Defaulting to user installation because normal site-packages is not writeable\n",
      "Requirement already satisfied: pandas in c:\\users\\user\\appdata\\roaming\\python\\python39\\site-packages (2.0.0)\n",
      "Requirement already satisfied: python-dateutil>=2.8.2 in c:\\programdata\\anaconda3\\lib\\site-packages (from pandas) (2.8.2)\n",
      "Requirement already satisfied: pytz>=2020.1 in c:\\programdata\\anaconda3\\lib\\site-packages (from pandas) (2022.1)\n",
      "Requirement already satisfied: numpy>=1.20.3 in c:\\programdata\\anaconda3\\lib\\site-packages (from pandas) (1.21.5)\n",
      "Requirement already satisfied: tzdata>=2022.1 in c:\\users\\user\\appdata\\roaming\\python\\python39\\site-packages (from pandas) (2023.3)\n",
      "Requirement already satisfied: six>=1.5 in c:\\programdata\\anaconda3\\lib\\site-packages (from python-dateutil>=2.8.2->pandas) (1.16.0)\n"
     ]
    }
   ],
   "source": [
    "# !pip install --upgrade pandas"
   ]
  },
  {
   "cell_type": "code",
   "execution_count": 6,
   "id": "02ea8fe5",
   "metadata": {},
   "outputs": [
    {
     "name": "stdout",
     "output_type": "stream",
     "text": [
      "9\n",
      "reviews (24).csv is being read ..............\n",
      "reviews (30).csv is being read ..............\n",
      "reviews (31).csv is being read ..............\n",
      "reviews (32).csv is being read ..............\n",
      "reviews (33).csv is being read ..............\n",
      "reviews (34).csv is being read ..............\n",
      "reviews (35).csv is being read ..............\n",
      "reviews (36).csv is being read ..............\n",
      "reviews (37).csv is being read ..............\n",
      "Gone through entire list\n"
     ]
    }
   ],
   "source": [
    "li = []\n",
    "with open('list.csv', 'a+', encoding='utf-8') as csvfile:\n",
    "    list_writer = csv.writer(csvfile)\n",
    "    dic = {}\n",
    "    length = len(work_on)\n",
    "    print(length)\n",
    "    while length >= 1:\n",
    "        for name in work_on:\n",
    "            print(f'{name} is being read ..............')\n",
    "            df = pd.read_csv(f'reviews/{name}', index_col=None, on_bad_lines='skip',header=None)\n",
    "            li.append(df)\n",
    "            dic['name'] = name\n",
    "            list_writer.writerow(dic.values())\n",
    "            length -= 1\n",
    "        final_frame = pd.concat(li, axis=0, ignore_index=True)\n",
    "        print('Gone through entire list')"
   ]
  },
  {
   "cell_type": "code",
   "execution_count": 7,
   "id": "eda7b072",
   "metadata": {},
   "outputs": [
    {
     "data": {
      "text/html": [
       "<div>\n",
       "<style scoped>\n",
       "    .dataframe tbody tr th:only-of-type {\n",
       "        vertical-align: middle;\n",
       "    }\n",
       "\n",
       "    .dataframe tbody tr th {\n",
       "        vertical-align: top;\n",
       "    }\n",
       "\n",
       "    .dataframe thead th {\n",
       "        text-align: right;\n",
       "    }\n",
       "</style>\n",
       "<table border=\"1\" class=\"dataframe\">\n",
       "  <thead>\n",
       "    <tr style=\"text-align: right;\">\n",
       "      <th></th>\n",
       "      <th>0</th>\n",
       "      <th>1</th>\n",
       "      <th>2</th>\n",
       "      <th>3</th>\n",
       "      <th>4</th>\n",
       "      <th>5</th>\n",
       "      <th>6</th>\n",
       "    </tr>\n",
       "  </thead>\n",
       "  <tbody>\n",
       "    <tr>\n",
       "      <th>0</th>\n",
       "      <td>Michael K.</td>\n",
       "      <td>/user_details?userid=YIF41kppR2RaV0Yc5SBe6g</td>\n",
       "      <td>Queens Village, New York, NY</td>\n",
       "      <td>3/6/2023</td>\n",
       "      <td>5.0</td>\n",
       "      <td>No comment</td>\n",
       "      <td>https://www.yelp.com/biz/arden-brooklyn?adjust...</td>\n",
       "    </tr>\n",
       "    <tr>\n",
       "      <th>1</th>\n",
       "      <td>Thomas F.</td>\n",
       "      <td>/user_details?userid=1TiHrRt2_x-poldKPk0pYg</td>\n",
       "      <td>New York, NY</td>\n",
       "      <td>3/15/2023</td>\n",
       "      <td>5.0</td>\n",
       "      <td>I came in with some friends randomly and loved...</td>\n",
       "      <td>https://www.yelp.com/biz/arden-brooklyn?adjust...</td>\n",
       "    </tr>\n",
       "    <tr>\n",
       "      <th>2</th>\n",
       "      <td>Ginny K.</td>\n",
       "      <td>/user_details?userid=_DyFaIlJghLnuL-w4kfD-Q</td>\n",
       "      <td>Boston, MA</td>\n",
       "      <td>3/25/2023</td>\n",
       "      <td>5.0</td>\n",
       "      <td>Great food! Got the eggs in purgatory, which w...</td>\n",
       "      <td>https://www.yelp.com/biz/arden-brooklyn?adjust...</td>\n",
       "    </tr>\n",
       "    <tr>\n",
       "      <th>3</th>\n",
       "      <td>Michelle W.</td>\n",
       "      <td>/user_details?userid=G-X1AJpYR_52LjObWJINEQ</td>\n",
       "      <td>Brooklyn, NY</td>\n",
       "      <td>1/17/2023</td>\n",
       "      <td>5.0</td>\n",
       "      <td>No comment</td>\n",
       "      <td>https://www.yelp.com/biz/arden-brooklyn?adjust...</td>\n",
       "    </tr>\n",
       "    <tr>\n",
       "      <th>4</th>\n",
       "      <td>Elisa H.</td>\n",
       "      <td>/user_details?userid=ExhcUTTcj_MBhZdFQT9KYg</td>\n",
       "      <td>Brooklyn, NY</td>\n",
       "      <td>1/15/2023</td>\n",
       "      <td>3.0</td>\n",
       "      <td>No comment</td>\n",
       "      <td>https://www.yelp.com/biz/arden-brooklyn?adjust...</td>\n",
       "    </tr>\n",
       "  </tbody>\n",
       "</table>\n",
       "</div>"
      ],
      "text/plain": [
       "             0                                            1   \n",
       "0   Michael K.  /user_details?userid=YIF41kppR2RaV0Yc5SBe6g  \\\n",
       "1    Thomas F.  /user_details?userid=1TiHrRt2_x-poldKPk0pYg   \n",
       "2     Ginny K.  /user_details?userid=_DyFaIlJghLnuL-w4kfD-Q   \n",
       "3  Michelle W.  /user_details?userid=G-X1AJpYR_52LjObWJINEQ   \n",
       "4     Elisa H.  /user_details?userid=ExhcUTTcj_MBhZdFQT9KYg   \n",
       "\n",
       "                              2          3    4   \n",
       "0  Queens Village, New York, NY   3/6/2023  5.0  \\\n",
       "1                  New York, NY  3/15/2023  5.0   \n",
       "2                    Boston, MA  3/25/2023  5.0   \n",
       "3                  Brooklyn, NY  1/17/2023  5.0   \n",
       "4                  Brooklyn, NY  1/15/2023  3.0   \n",
       "\n",
       "                                                   5   \n",
       "0                                         No comment  \\\n",
       "1  I came in with some friends randomly and loved...   \n",
       "2  Great food! Got the eggs in purgatory, which w...   \n",
       "3                                         No comment   \n",
       "4                                         No comment   \n",
       "\n",
       "                                                   6  \n",
       "0  https://www.yelp.com/biz/arden-brooklyn?adjust...  \n",
       "1  https://www.yelp.com/biz/arden-brooklyn?adjust...  \n",
       "2  https://www.yelp.com/biz/arden-brooklyn?adjust...  \n",
       "3  https://www.yelp.com/biz/arden-brooklyn?adjust...  \n",
       "4  https://www.yelp.com/biz/arden-brooklyn?adjust...  "
      ]
     },
     "execution_count": 7,
     "metadata": {},
     "output_type": "execute_result"
    }
   ],
   "source": [
    "final_frame.head()"
   ]
  },
  {
   "cell_type": "code",
   "execution_count": 8,
   "id": "2e06b277",
   "metadata": {},
   "outputs": [
    {
     "name": "stdout",
     "output_type": "stream",
     "text": [
      "The num of duplicates are: 0 duplicates\n"
     ]
    }
   ],
   "source": [
    "# remove duplicates\n",
    "final_frame = final_frame.drop_duplicates()\n",
    "\n",
    "# check duplicates\n",
    "print(f'The num of duplicates are: {final_frame.duplicated().sum()} duplicates')\n"
   ]
  },
  {
   "cell_type": "code",
   "execution_count": 9,
   "id": "7baca2a3",
   "metadata": {},
   "outputs": [
    {
     "name": "stdout",
     "output_type": "stream",
     "text": [
      "<class 'pandas.core.frame.DataFrame'>\n",
      "Index: 20720 entries, 0 to 29774\n",
      "Data columns (total 7 columns):\n",
      " #   Column  Non-Null Count  Dtype  \n",
      "---  ------  --------------  -----  \n",
      " 0   0       20720 non-null  object \n",
      " 1   1       20720 non-null  object \n",
      " 2   2       20720 non-null  object \n",
      " 3   3       20720 non-null  object \n",
      " 4   4       20720 non-null  float64\n",
      " 5   5       20720 non-null  object \n",
      " 6   6       20719 non-null  object \n",
      "dtypes: float64(1), object(6)\n",
      "memory usage: 1.3+ MB\n"
     ]
    }
   ],
   "source": [
    "# columns having null values\n",
    "final_frame.info()"
   ]
  },
  {
   "cell_type": "code",
   "execution_count": 10,
   "id": "641f1c05",
   "metadata": {},
   "outputs": [
    {
     "name": "stdout",
     "output_type": "stream",
     "text": [
      "<class 'pandas.core.frame.DataFrame'>\n",
      "Index: 20719 entries, 0 to 29773\n",
      "Data columns (total 7 columns):\n",
      " #   Column  Non-Null Count  Dtype  \n",
      "---  ------  --------------  -----  \n",
      " 0   0       20719 non-null  object \n",
      " 1   1       20719 non-null  object \n",
      " 2   2       20719 non-null  object \n",
      " 3   3       20719 non-null  object \n",
      " 4   4       20719 non-null  float64\n",
      " 5   5       20719 non-null  object \n",
      " 6   6       20719 non-null  object \n",
      "dtypes: float64(1), object(6)\n",
      "memory usage: 1.3+ MB\n"
     ]
    }
   ],
   "source": [
    "final_frame = final_frame.dropna(axis=0)\n",
    "final_frame.info()"
   ]
  },
  {
   "cell_type": "code",
   "execution_count": 11,
   "id": "880fdb3b",
   "metadata": {},
   "outputs": [
    {
     "data": {
      "text/html": [
       "<div>\n",
       "<style scoped>\n",
       "    .dataframe tbody tr th:only-of-type {\n",
       "        vertical-align: middle;\n",
       "    }\n",
       "\n",
       "    .dataframe tbody tr th {\n",
       "        vertical-align: top;\n",
       "    }\n",
       "\n",
       "    .dataframe thead th {\n",
       "        text-align: right;\n",
       "    }\n",
       "</style>\n",
       "<table border=\"1\" class=\"dataframe\">\n",
       "  <thead>\n",
       "    <tr style=\"text-align: right;\">\n",
       "      <th></th>\n",
       "      <th>Name</th>\n",
       "      <th>Rating</th>\n",
       "      <th>Pricing</th>\n",
       "      <th>URL</th>\n",
       "      <th>Latitude</th>\n",
       "      <th>Longitude</th>\n",
       "      <th>Transactions</th>\n",
       "      <th>Location</th>\n",
       "      <th>Phone</th>\n",
       "      <th>Display Phone</th>\n",
       "      <th>Distance</th>\n",
       "      <th>Reviews</th>\n",
       "      <th>Review Count</th>\n",
       "      <th>Cuisine</th>\n",
       "      <th>Restaurant ID</th>\n",
       "      <th>Number of Reviews</th>\n",
       "    </tr>\n",
       "  </thead>\n",
       "  <tbody>\n",
       "    <tr>\n",
       "      <th>0</th>\n",
       "      <td>Da Andrea</td>\n",
       "      <td>4</td>\n",
       "      <td>$$</td>\n",
       "      <td>https://www.yelp.com/biz/da-andrea-new-york?ad...</td>\n",
       "      <td>40.736218</td>\n",
       "      <td>-73.995970</td>\n",
       "      <td>['delivery', 'pickup', 'restaurant_reservation']</td>\n",
       "      <td>35 W 13th St, New York, NY 10011</td>\n",
       "      <td>1.212367e+10</td>\n",
       "      <td>(212) 367-1979</td>\n",
       "      <td>3526.365252</td>\n",
       "      <td>[{'text': 'This small and crowded place seems ...</td>\n",
       "      <td>3</td>\n",
       "      <td>I, t, a, l, i, a, n</td>\n",
       "      <td>hdiuRS9sVZSMReZm4oV5SA</td>\n",
       "      <td>1851</td>\n",
       "    </tr>\n",
       "    <tr>\n",
       "      <th>1</th>\n",
       "      <td>LoveMama</td>\n",
       "      <td>5</td>\n",
       "      <td>$$</td>\n",
       "      <td>https://www.yelp.com/biz/lovemama-new-york?adj...</td>\n",
       "      <td>40.730409</td>\n",
       "      <td>-73.986127</td>\n",
       "      <td>['delivery', 'pickup', 'restaurant_reservation']</td>\n",
       "      <td>174 2nd Ave, New York, NY 10003</td>\n",
       "      <td>1.212255e+10</td>\n",
       "      <td>(212) 254-5370</td>\n",
       "      <td>2645.074283</td>\n",
       "      <td>[{'text': 'Absolutely LOVED LoveMama!! As a co...</td>\n",
       "      <td>3</td>\n",
       "      <td>T, h, a, i</td>\n",
       "      <td>jjJc_CrkB2HodEinB6cWww</td>\n",
       "      <td>6377</td>\n",
       "    </tr>\n",
       "    <tr>\n",
       "      <th>2</th>\n",
       "      <td>Ye's Apothecary</td>\n",
       "      <td>5</td>\n",
       "      <td>$$$</td>\n",
       "      <td>https://www.yelp.com/biz/yes-apothecary-new-yo...</td>\n",
       "      <td>40.719450</td>\n",
       "      <td>-73.989800</td>\n",
       "      <td>[]</td>\n",
       "      <td>119 Orchard St, New York, NY 10002</td>\n",
       "      <td>NaN</td>\n",
       "      <td>NaN</td>\n",
       "      <td>1638.756115</td>\n",
       "      <td>[{'text': 'Edy and Josh are the BEST bartender...</td>\n",
       "      <td>3</td>\n",
       "      <td>S, z, e, c, h, u, a, n</td>\n",
       "      <td>8YWLuLUKj0t_0_Xv06UUtw</td>\n",
       "      <td>212</td>\n",
       "    </tr>\n",
       "    <tr>\n",
       "      <th>3</th>\n",
       "      <td>Joe's Shanghai</td>\n",
       "      <td>4</td>\n",
       "      <td>$$</td>\n",
       "      <td>https://www.yelp.com/biz/joes-shanghai-new-yor...</td>\n",
       "      <td>40.715661</td>\n",
       "      <td>-73.996701</td>\n",
       "      <td>['delivery', 'pickup']</td>\n",
       "      <td>46 Bowery St, New York, NY 10013</td>\n",
       "      <td>1.212234e+10</td>\n",
       "      <td>(212) 233-8888</td>\n",
       "      <td>1766.176007</td>\n",
       "      <td>[{'text': 'This is the third stop of our food ...</td>\n",
       "      <td>3</td>\n",
       "      <td>S, h, a, n, g, h, a, i, n, e, s, e</td>\n",
       "      <td>0CjK3esfpFcxIopebzjFxA</td>\n",
       "      <td>7098</td>\n",
       "    </tr>\n",
       "    <tr>\n",
       "      <th>4</th>\n",
       "      <td>Antidote</td>\n",
       "      <td>4</td>\n",
       "      <td>$$</td>\n",
       "      <td>https://www.yelp.com/biz/antidote-brooklyn-2?a...</td>\n",
       "      <td>40.714253</td>\n",
       "      <td>-73.965448</td>\n",
       "      <td>['delivery', 'pickup']</td>\n",
       "      <td>66 S 2nd St, Brooklyn, NY 11249</td>\n",
       "      <td>1.718782e+10</td>\n",
       "      <td>(718) 782-2585</td>\n",
       "      <td>1376.494330</td>\n",
       "      <td>[{'text': 'Excellent service &amp; food! The drink...</td>\n",
       "      <td>3</td>\n",
       "      <td>C, o, c, k, t, a, i, l,  , B, a, r, s</td>\n",
       "      <td>4DInnPhOyvXFbYpUdO0SMQ</td>\n",
       "      <td>325</td>\n",
       "    </tr>\n",
       "  </tbody>\n",
       "</table>\n",
       "</div>"
      ],
      "text/plain": [
       "              Name  Rating Pricing   \n",
       "0        Da Andrea       4      $$  \\\n",
       "1         LoveMama       5      $$   \n",
       "2  Ye's Apothecary       5     $$$   \n",
       "3   Joe's Shanghai       4      $$   \n",
       "4         Antidote       4      $$   \n",
       "\n",
       "                                                 URL   Latitude  Longitude   \n",
       "0  https://www.yelp.com/biz/da-andrea-new-york?ad...  40.736218 -73.995970  \\\n",
       "1  https://www.yelp.com/biz/lovemama-new-york?adj...  40.730409 -73.986127   \n",
       "2  https://www.yelp.com/biz/yes-apothecary-new-yo...  40.719450 -73.989800   \n",
       "3  https://www.yelp.com/biz/joes-shanghai-new-yor...  40.715661 -73.996701   \n",
       "4  https://www.yelp.com/biz/antidote-brooklyn-2?a...  40.714253 -73.965448   \n",
       "\n",
       "                                       Transactions   \n",
       "0  ['delivery', 'pickup', 'restaurant_reservation']  \\\n",
       "1  ['delivery', 'pickup', 'restaurant_reservation']   \n",
       "2                                                []   \n",
       "3                            ['delivery', 'pickup']   \n",
       "4                            ['delivery', 'pickup']   \n",
       "\n",
       "                             Location         Phone   Display Phone   \n",
       "0    35 W 13th St, New York, NY 10011  1.212367e+10  (212) 367-1979  \\\n",
       "1     174 2nd Ave, New York, NY 10003  1.212255e+10  (212) 254-5370   \n",
       "2  119 Orchard St, New York, NY 10002           NaN             NaN   \n",
       "3    46 Bowery St, New York, NY 10013  1.212234e+10  (212) 233-8888   \n",
       "4     66 S 2nd St, Brooklyn, NY 11249  1.718782e+10  (718) 782-2585   \n",
       "\n",
       "      Distance                                            Reviews   \n",
       "0  3526.365252  [{'text': 'This small and crowded place seems ...  \\\n",
       "1  2645.074283  [{'text': 'Absolutely LOVED LoveMama!! As a co...   \n",
       "2  1638.756115  [{'text': 'Edy and Josh are the BEST bartender...   \n",
       "3  1766.176007  [{'text': 'This is the third stop of our food ...   \n",
       "4  1376.494330  [{'text': 'Excellent service & food! The drink...   \n",
       "\n",
       "   Review Count                                Cuisine   \n",
       "0             3                    I, t, a, l, i, a, n  \\\n",
       "1             3                             T, h, a, i   \n",
       "2             3                 S, z, e, c, h, u, a, n   \n",
       "3             3     S, h, a, n, g, h, a, i, n, e, s, e   \n",
       "4             3  C, o, c, k, t, a, i, l,  , B, a, r, s   \n",
       "\n",
       "            Restaurant ID  Number of Reviews  \n",
       "0  hdiuRS9sVZSMReZm4oV5SA               1851  \n",
       "1  jjJc_CrkB2HodEinB6cWww               6377  \n",
       "2  8YWLuLUKj0t_0_Xv06UUtw                212  \n",
       "3  0CjK3esfpFcxIopebzjFxA               7098  \n",
       "4  4DInnPhOyvXFbYpUdO0SMQ                325  "
      ]
     },
     "execution_count": 11,
     "metadata": {},
     "output_type": "execute_result"
    }
   ],
   "source": [
    "# check the percentage of restaurants done in the final csv\n",
    "\n",
    "restaurants = pd.read_csv('restaurant_data.csv')\n",
    "\n",
    "rest_df = restaurants.drop_duplicates(subset=['URL'])\n",
    "rest_df.head()"
   ]
  },
  {
   "cell_type": "code",
   "execution_count": null,
   "id": "a08b895f",
   "metadata": {},
   "outputs": [],
   "source": []
  },
  {
   "cell_type": "code",
   "execution_count": 12,
   "id": "fb54b925",
   "metadata": {},
   "outputs": [],
   "source": [
    "# get the set of available restaurants\n",
    "got_rest = set(final_frame[6])\n",
    "\n",
    "list_rest = set(rest_df['URL'])"
   ]
  },
  {
   "cell_type": "code",
   "execution_count": 13,
   "id": "fbba8e78",
   "metadata": {
    "scrolled": false
   },
   "outputs": [
    {
     "name": "stderr",
     "output_type": "stream",
     "text": [
      "C:\\Users\\User\\AppData\\Local\\Temp\\ipykernel_11180\\41464092.py:8: FutureWarning: Calling float on a single element Series is deprecated and will raise a TypeError in the future. Use float(ser.iloc[0]) instead\n",
      "  eventual = float(num/expected['Number of Reviews']) *100\n"
     ]
    },
    {
     "name": "stdout",
     "output_type": "stream",
     "text": [
      "We have 209    Los Tacos No. 1\n",
      "Name: Name, dtype: object and have about ....... 65.68364611260054% of expected collection\n",
      "209    Los Tacos No. 1\n",
      "Name: Name, dtype: object NEEDS MORE COLLECTION PLEASE\n",
      "We have 126    Le Petit Monstre\n",
      "Name: Name, dtype: object and have about ....... 100.0% of expected collection\n",
      "WITHIN COMPLETED EXPECTATION\n",
      "We have 235    Dinner Party\n",
      "Name: Name, dtype: object and have about ....... 100.0% of expected collection\n",
      "WITHIN COMPLETED EXPECTATION\n",
      "We have 203    Prime Meat Rokko\n",
      "Name: Name, dtype: object and have about ....... 97.30941704035875% of expected collection\n",
      "WITHIN COMPLETED EXPECTATION\n",
      "We have 218    Arden\n",
      "Name: Name, dtype: object and have about ....... 104.44444444444446% of expected collection\n",
      "WITHIN COMPLETED EXPECTATION\n",
      "We have 197    Boots & Bones\n",
      "Name: Name, dtype: object and have about ....... 160.0% of expected collection\n",
      "WITHIN COMPLETED EXPECTATION\n",
      "We have 158    Davelle\n",
      "Name: Name, dtype: object and have about ....... 98.9010989010989% of expected collection\n",
      "WITHIN COMPLETED EXPECTATION\n",
      "We have 147    Diner\n",
      "Name: Name, dtype: object and have about ....... 95.80152671755725% of expected collection\n",
      "WITHIN COMPLETED EXPECTATION\n",
      "We have 10    ARIARI\n",
      "Name: Name, dtype: object and have about ....... 102.27272727272727% of expected collection\n",
      "WITHIN COMPLETED EXPECTATION\n",
      "We have 306    Fulgurances\n",
      "Name: Name, dtype: object and have about ....... 100.0% of expected collection\n",
      "WITHIN COMPLETED EXPECTATION\n",
      "We have 285    Aita\n",
      "Name: Name, dtype: object and have about ....... 100.0% of expected collection\n",
      "WITHIN COMPLETED EXPECTATION\n",
      "We have 265    Aska\n",
      "Name: Name, dtype: object and have about ....... 98.59154929577466% of expected collection\n",
      "WITHIN COMPLETED EXPECTATION\n",
      "We have 408    Sweet Talk\n",
      "Name: Name, dtype: object and have about ....... 100.0% of expected collection\n",
      "WITHIN COMPLETED EXPECTATION\n",
      "We have 289    Aldama\n",
      "Name: Name, dtype: object and have about ....... 95.71428571428572% of expected collection\n",
      "WITHIN COMPLETED EXPECTATION\n",
      "We have 75    Despaña Fine Foods & Tapas Cafe\n",
      "Name: Name, dtype: object and have about ....... 99.49579831932773% of expected collection\n",
      "WITHIN COMPLETED EXPECTATION\n",
      "We have 421    Kuu Ramen\n",
      "Name: Name, dtype: object and have about ....... 99.13793103448276% of expected collection\n",
      "WITHIN COMPLETED EXPECTATION\n",
      "We have 47    Atti\n",
      "Name: Name, dtype: object and have about ....... 100.0% of expected collection\n",
      "WITHIN COMPLETED EXPECTATION\n",
      "We have 90    Monsieur Vo\n",
      "Name: Name, dtype: object and have about ....... 100.0% of expected collection\n",
      "WITHIN COMPLETED EXPECTATION\n",
      "We have 386    Saraghina Caffè\n",
      "Name: Name, dtype: object and have about ....... 102.04081632653062% of expected collection\n",
      "WITHIN COMPLETED EXPECTATION\n",
      "We have 248    Baba's Pierogies\n",
      "Name: Name, dtype: object and have about ....... 97.62931034482759% of expected collection\n",
      "WITHIN COMPLETED EXPECTATION\n",
      "We have 490    Steak Frites Bistro\n",
      "Name: Name, dtype: object and have about ....... 100.0% of expected collection\n",
      "WITHIN COMPLETED EXPECTATION\n",
      "We have 97    nonono\n",
      "Name: Name, dtype: object and have about ....... 99.1906474820144% of expected collection\n",
      "WITHIN COMPLETED EXPECTATION\n",
      "We have 118    The Frenchman's Dough\n",
      "Name: Name, dtype: object and have about ....... 105.55555555555556% of expected collection\n",
      "WITHIN COMPLETED EXPECTATION\n",
      "We have 30    Aurora\n",
      "Name: Name, dtype: object and have about ....... 79.72465581977471% of expected collection\n",
      "30    Aurora\n",
      "Name: Name, dtype: object NEEDS MORE COLLECTION PLEASE\n",
      "We have 70    The Smith\n",
      "Name: Name, dtype: object and have about ....... 38.01948051948052% of expected collection\n",
      "70    The Smith\n",
      "Name: Name, dtype: object NEEDS MORE COLLECTION PLEASE\n",
      "We have 305    Azule Cantina\n",
      "Name: Name, dtype: object and have about ....... 94.44444444444444% of expected collection\n",
      "WITHIN COMPLETED EXPECTATION\n",
      "We have 298    Ensenada\n",
      "Name: Name, dtype: object and have about ....... 105.55555555555556% of expected collection\n",
      "WITHIN COMPLETED EXPECTATION\n",
      "We have 424    Canal Street Market\n",
      "Name: Name, dtype: object and have about ....... 99.52830188679245% of expected collection\n",
      "WITHIN COMPLETED EXPECTATION\n",
      "We have 139    DunHuang Miss Noodles\n",
      "Name: Name, dtype: object and have about ....... 97.6470588235294% of expected collection\n",
      "WITHIN COMPLETED EXPECTATION\n",
      "We have 294    Cookshop\n",
      "Name: Name, dtype: object and have about ....... 99.65019676432007% of expected collection\n",
      "WITHIN COMPLETED EXPECTATION\n",
      "We have 192    Kiki's\n",
      "Name: Name, dtype: object and have about ....... 99.74779319041615% of expected collection\n",
      "WITHIN COMPLETED EXPECTATION\n",
      "We have 269    shabushabu Mayumon\n",
      "Name: Name, dtype: object and have about ....... 95.0% of expected collection\n",
      "WITHIN COMPLETED EXPECTATION\n",
      "We have 163    Vanessa's Dumpling House\n",
      "Name: Name, dtype: object and have about ....... 99.60992907801418% of expected collection\n",
      "WITHIN COMPLETED EXPECTATION\n",
      "We have 399    THEP Thai Restaurant\n",
      "Name: Name, dtype: object and have about ....... 97.80821917808218% of expected collection\n",
      "WITHIN COMPLETED EXPECTATION\n",
      "We have 280    French Louie\n",
      "Name: Name, dtype: object and have about ....... 99.56331877729258% of expected collection\n",
      "WITHIN COMPLETED EXPECTATION\n",
      "We have 133    Pommes Frites\n",
      "Name: Name, dtype: object and have about ....... 52.994555353901994% of expected collection\n",
      "133    Pommes Frites\n",
      "Name: Name, dtype: object NEEDS MORE COLLECTION PLEASE\n",
      "We have 299    Gage and Tollner\n",
      "Name: Name, dtype: object and have about ....... 95.80838323353294% of expected collection\n",
      "WITHIN COMPLETED EXPECTATION\n",
      "We have 200    Awesum Dimsum\n",
      "Name: Name, dtype: object and have about ....... 97.13804713804713% of expected collection\n",
      "WITHIN COMPLETED EXPECTATION\n",
      "We have 400    Go! Go! Curry!\n",
      "Name: Name, dtype: object and have about ....... 15.136476426799009% of expected collection\n",
      "400    Go! Go! Curry!\n",
      "Name: Name, dtype: object NEEDS MORE COLLECTION PLEASE\n",
      "We have 67    Double Chicken Please\n",
      "Name: Name, dtype: object and have about ....... 97.36842105263158% of expected collection\n",
      "WITHIN COMPLETED EXPECTATION\n",
      "We have 331    Maru 2\n",
      "Name: Name, dtype: object and have about ....... 100.0% of expected collection\n",
      "WITHIN COMPLETED EXPECTATION\n",
      "We have 12    Crab House All You Can Eat Seafood\n",
      "Name: Name, dtype: object and have about ....... 100.80753701211304% of expected collection\n",
      "WITHIN COMPLETED EXPECTATION\n",
      "We have 359    Somtum Der Redhook\n",
      "Name: Name, dtype: object and have about ....... 101.3157894736842% of expected collection\n",
      "WITHIN COMPLETED EXPECTATION\n",
      "We have 20    Ichibantei\n",
      "Name: Name, dtype: object and have about ....... 100.0% of expected collection\n",
      "WITHIN COMPLETED EXPECTATION\n",
      "We have 68    LumLum \n",
      "Name: Name, dtype: object and have about ....... 101.64609053497942% of expected collection\n",
      "WITHIN COMPLETED EXPECTATION\n",
      "We have 330    Izakaya\n",
      "Name: Name, dtype: object and have about ....... 99.63898916967509% of expected collection\n",
      "WITHIN COMPLETED EXPECTATION\n",
      "We have 4    Antidote\n",
      "Name: Name, dtype: object and have about ....... 101.23076923076924% of expected collection\n",
      "WITHIN COMPLETED EXPECTATION\n",
      "Done with list of content\n"
     ]
    }
   ],
   "source": [
    "# What restaurants do we have\n",
    "missing_urls = []\n",
    "for url in list_rest:\n",
    "    if url in got_rest:\n",
    "        num = len(final_frame[final_frame[6] == url])\n",
    "        expected = rest_df[rest_df['URL'] == url]\n",
    "        # print(expected['Number of Reviews'])\n",
    "        eventual = float(num/expected['Number of Reviews']) *100\n",
    "        if eventual >= 90.0:\n",
    "            print(f\"We have {expected['Name']} and have about ....... {eventual}% of expected collection\")\n",
    "            print('WITHIN COMPLETED EXPECTATION')\n",
    "        else:\n",
    "            print(f\"We have {expected['Name']} and have about ....... {eventual}% of expected collection\")\n",
    "            print(f\"{expected['Name']} NEEDS MORE COLLECTION PLEASE\")\n",
    "            missing_urls.append(url)\n",
    "    else:\n",
    "        expected = rest_df[rest_df['URL'] == url]\n",
    "        num = 0\n",
    "        eventual = (num/expected['Number of Reviews']) *100\n",
    "        # print(f\"We have {expected['Name']} and have about ....... {eventual}% of expected collection\")\n",
    "        # print(f\"{expected['Name']} NEEDS MORE COLLECTION PLEASE\")\n",
    "        missing_urls.append(url)\n",
    "\n",
    "        \n",
    "print('Done with list of content')"
   ]
  },
  {
   "cell_type": "code",
   "execution_count": 14,
   "id": "706f62a1",
   "metadata": {},
   "outputs": [
    {
     "data": {
      "text/plain": [
       "393"
      ]
     },
     "execution_count": 14,
     "metadata": {},
     "output_type": "execute_result"
    }
   ],
   "source": [
    "len(missing_urls)"
   ]
  },
  {
   "cell_type": "code",
   "execution_count": null,
   "id": "72199f20",
   "metadata": {},
   "outputs": [],
   "source": []
  },
  {
   "cell_type": "code",
   "execution_count": 15,
   "id": "3595d0be",
   "metadata": {},
   "outputs": [
    {
     "name": "stdout",
     "output_type": "stream",
     "text": [
      "Done\n"
     ]
    }
   ],
   "source": [
    "with open('final_revs.csv', 'a+', encoding='utf-8') as csvfile:\n",
    "        review_writer = csv.writer(csvfile)\n",
    "        for index, row in final_frame.iterrows():\n",
    "            dic = {}\n",
    "        \n",
    "            # Assign the user values to the dictionary\n",
    "            dic['username'] = row[0]\n",
    "            dic['account'] = row[1]\n",
    "            dic['location'] = row[2]\n",
    "            dic['date'] = row[3]\n",
    "            dic['rating'] = row[4]\n",
    "            dic['comments'] = row[5]\n",
    "            dic['restaurant'] = row[6]\n",
    "\n",
    "            # write this info to the local csv\n",
    "            review_writer.writerow(dic.values())\n",
    "print('Done')"
   ]
  },
  {
   "cell_type": "code",
   "execution_count": 16,
   "id": "15504110",
   "metadata": {},
   "outputs": [
    {
     "data": {
      "text/plain": [
       "[0]"
      ]
     },
     "execution_count": 16,
     "metadata": {},
     "output_type": "execute_result"
    }
   ],
   "source": [
    "try:\n",
    "    missing_url_df = pd.read_csv('missing_urls.csv', header=None)\n",
    "except pd.errors.EmptyDataError:\n",
    "    found_missing_urls = list(['File is empty'])\n",
    "else:\n",
    "    found_missing_urls = list(missing_url_df)\n",
    "\n",
    "\n",
    "found_missing_urls"
   ]
  },
  {
   "cell_type": "code",
   "execution_count": 17,
   "id": "3d996693",
   "metadata": {},
   "outputs": [
    {
     "name": "stdout",
     "output_type": "stream",
     "text": [
      "Done\n"
     ]
    }
   ],
   "source": [
    "# Dealing with missing urls\n",
    "with open('missing_urls.csv', 'a+', encoding='utf-8') as csvfile:\n",
    "        review_writer = csv.writer(csvfile)\n",
    "        for url in missing_urls:\n",
    "            dic = {}\n",
    "            # print(url)\n",
    "        \n",
    "            if url in found_missing_urls:\n",
    "                continue\n",
    "            else:\n",
    "                # Assign the user values to the dictionary\n",
    "                dic['url'] = url\n",
    "\n",
    "                # write this info to the local csv\n",
    "                review_writer.writerow(dic.values())\n",
    "print('Done')"
   ]
  },
  {
   "cell_type": "code",
   "execution_count": null,
   "id": "f07d59eb",
   "metadata": {},
   "outputs": [],
   "source": []
  },
  {
   "cell_type": "code",
   "execution_count": null,
   "id": "dadd1b2f",
   "metadata": {},
   "outputs": [],
   "source": []
  },
  {
   "cell_type": "code",
   "execution_count": null,
   "id": "d6ce17ed",
   "metadata": {},
   "outputs": [],
   "source": []
  }
 ],
 "metadata": {
  "kernelspec": {
   "display_name": "Python 3 (ipykernel)",
   "language": "python",
   "name": "python3"
  },
  "language_info": {
   "codemirror_mode": {
    "name": "ipython",
    "version": 3
   },
   "file_extension": ".py",
   "mimetype": "text/x-python",
   "name": "python",
   "nbconvert_exporter": "python",
   "pygments_lexer": "ipython3",
   "version": "3.9.13"
  }
 },
 "nbformat": 4,
 "nbformat_minor": 5
}
